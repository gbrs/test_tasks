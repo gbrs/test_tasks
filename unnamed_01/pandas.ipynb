{
 "cells": [
  {
   "cell_type": "markdown",
   "id": "41d5b476-45a1-40bf-a35d-f3c794dbd59c",
   "metadata": {},
   "source": [
    "Задание из видео Карпова [Разбор тестового задания на позицию junior аналитика данных](https://www.youtube.com/watch?v=3VWDh-gdiYg)"
   ]
  },
  {
   "cell_type": "markdown",
   "id": "dbd11280-fe4f-45ec-8ff6-527340829346",
   "metadata": {},
   "source": [
    "Описание данных:  \n",
    "orders - таблица с информацией о заказах;  \n",
    "order_id - уникальный идентификатор заказа;  \n",
    "customer_id - уникальный идентификатор клиента;  \n",
    "order_date - дата, когда заказ был создан;  \n",
    "order_amount - мумма заказа;  \n",
    "platform - платформа, через которую был сделан заказ (например, 'mobile', 'desktop');  \n",
    "category - категория товара, который был заказан (например, 'smartphones', 'laptops').\n",
    "\n",
    "1. Построй когортый анализ: выдели клиентов, совершивших первую покупку в течение определенного месяца (когортную дату) и вычисли размер каждой когорты.  \n",
    "2. Рассчитай средний джоход с клиента для каждой когорты за 10 дней с момента их первой покупки.  \n",
    "3. Отобрази результаты по месяцам первых покупок, категориям товаров и платформам.  \n",
    "\n",
    "Вывод должен содержать следующие поля:\n",
    "- платформа;\n",
    "- категория товара;\n",
    "размер когорты;\n",
    "- средний доход с клиента."
   ]
  },
  {
   "cell_type": "code",
   "execution_count": null,
   "id": "f00f684e-0f4e-4c06-a005-83bf9c4e1c91",
   "metadata": {},
   "outputs": [],
   "source": []
  },
  {
   "cell_type": "code",
   "execution_count": null,
   "id": "bca812e1-45a9-453a-81e9-4f7e43aeeb1b",
   "metadata": {},
   "outputs": [],
   "source": []
  },
  {
   "cell_type": "code",
   "execution_count": null,
   "id": "58422cb2-d84d-4a5f-bb7b-603537d4c130",
   "metadata": {},
   "outputs": [],
   "source": []
  },
  {
   "cell_type": "code",
   "execution_count": null,
   "id": "0b20d2e4-078f-49db-8d59-5bda80d004d0",
   "metadata": {},
   "outputs": [],
   "source": []
  },
  {
   "cell_type": "code",
   "execution_count": null,
   "id": "51f87db7-8928-4c09-8480-ea7a7f0b99bc",
   "metadata": {},
   "outputs": [],
   "source": []
  }
 ],
 "metadata": {
  "kernelspec": {
   "display_name": "Python 3 (ipykernel)",
   "language": "python",
   "name": "python3"
  },
  "language_info": {
   "codemirror_mode": {
    "name": "ipython",
    "version": 3
   },
   "file_extension": ".py",
   "mimetype": "text/x-python",
   "name": "python",
   "nbconvert_exporter": "python",
   "pygments_lexer": "ipython3",
   "version": "3.7.16"
  }
 },
 "nbformat": 4,
 "nbformat_minor": 5
}
