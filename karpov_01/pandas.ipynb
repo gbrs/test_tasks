{
 "cells": [
  {
   "cell_type": "markdown",
   "id": "41d5b476-45a1-40bf-a35d-f3c794dbd59c",
   "metadata": {},
   "source": [
    "Задание из видео Карпова [Разбор тестового задания на позицию junior аналитика данных](https://www.youtube.com/watch?v=3VWDh-gdiYg)"
   ]
  },
  {
   "cell_type": "markdown",
   "id": "dbd11280-fe4f-45ec-8ff6-527340829346",
   "metadata": {},
   "source": [
    "Описание данных:  \n",
    "orders - таблица с информацией о заказах;  \n",
    "order_id - уникальный идентификатор заказа;  \n",
    "customer_id - уникальный идентификатор клиента;  \n",
    "order_date - дата, когда заказ был создан;  \n",
    "order_amount - cумма заказа;  \n",
    "platform - платформа, через которую был сделан заказ (например, 'mobile', 'desktop');  \n",
    "category - категория товара, который был заказан (например, 'smartphones', 'laptops').\n",
    "\n",
    "1. Построй когортый анализ: выдели клиентов, совершивших первую покупку в течение определенного месяца (когортную дату) и вычисли размер каждой когорты.  \n",
    "2. Рассчитай средний джоход с клиента для каждой когорты за 10 дней с момента их первой покупки.  \n",
    "3. Отобрази результаты по месяцам первых покупок, категориям товаров и платформам.  \n",
    "\n",
    "Вывод должен содержать следующие поля:\n",
    "- дата когорты;\n",
    "- платформа;\n",
    "- категория товара;\n",
    "- размер когорты;\n",
    "- средний доход с клиента."
   ]
  },
  {
   "cell_type": "code",
   "execution_count": null,
   "id": "f00f684e-0f4e-4c06-a005-83bf9c4e1c91",
   "metadata": {},
   "outputs": [],
   "source": []
  },
  {
   "cell_type": "code",
   "execution_count": 1,
   "id": "bca812e1-45a9-453a-81e9-4f7e43aeeb1b",
   "metadata": {},
   "outputs": [],
   "source": [
    "import numpy as np\n",
    "import pandas as pd\n",
    "import matplotlib.pyplot as plt\n",
    "import seaborn as sns"
   ]
  },
  {
   "cell_type": "code",
   "execution_count": 47,
   "id": "58422cb2-d84d-4a5f-bb7b-603537d4c130",
   "metadata": {},
   "outputs": [],
   "source": [
    "customer_ids = np.array([])\n",
    "for i in range(1,14):\n",
    "    customer_ids = np.append(customer_ids, np.random.choice(range(i*10), (1, i * 11)))"
   ]
  },
  {
   "cell_type": "code",
   "execution_count": 48,
   "id": "0b20d2e4-078f-49db-8d59-5bda80d004d0",
   "metadata": {},
   "outputs": [],
   "source": [
    "customer_ids = customer_ids.astype(int)"
   ]
  },
  {
   "cell_type": "code",
   "execution_count": 39,
   "id": "ba289e28-cdd7-4554-82da-6992c46ae295",
   "metadata": {},
   "outputs": [],
   "source": [
    "order_dates = pd.date_range('2023-01-01', '2024-01-31', periods=1001)"
   ]
  },
  {
   "cell_type": "code",
   "execution_count": 49,
   "id": "eb2b3fa6-03c0-4069-8e5a-f474a1bbb6c9",
   "metadata": {},
   "outputs": [],
   "source": [
    "order_amounts = 111 + np.random.exponential(1, 1001) * 10000"
   ]
  },
  {
   "cell_type": "code",
   "execution_count": 77,
   "id": "c5a04eb5-ed59-499b-8fd2-d5b437ca4037",
   "metadata": {},
   "outputs": [],
   "source": [
    "platforms = np.random.choice(['mobile', 'desktop', 'shop'], 1001, p=[0.5, 0.3, 0.2])"
   ]
  },
  {
   "cell_type": "code",
   "execution_count": 82,
   "id": "cf0b1b21-0fed-454a-a6d1-11e8fe177f68",
   "metadata": {},
   "outputs": [],
   "source": [
    "categories = np.random.choice(['smartphones', 'laptops', 'watches'], 1001, p=[0.5, 0.3, 0.2])"
   ]
  },
  {
   "cell_type": "code",
   "execution_count": 88,
   "id": "f9671fa8-3709-4f68-83a3-e080a7b3f1f9",
   "metadata": {},
   "outputs": [],
   "source": [
    "df = pd.DataFrame({\n",
    "    'order_id': range(1, 1002), \n",
    "    'customer_id': customer_ids, \n",
    "    'order_date': order_dates, \n",
    "    'order_amount': order_amounts, \n",
    "    'platform': platforms, \n",
    "    'category': categories\n",
    "})"
   ]
  },
  {
   "cell_type": "code",
   "execution_count": 90,
   "id": "f90e7ac1-58e1-49e7-8529-951f3dfadeca",
   "metadata": {},
   "outputs": [
    {
     "data": {
      "text/plain": [
       "order_id                 int64\n",
       "customer_id              int32\n",
       "order_date      datetime64[ns]\n",
       "order_amount           float64\n",
       "platform                object\n",
       "category                object\n",
       "dtype: object"
      ]
     },
     "execution_count": 90,
     "metadata": {},
     "output_type": "execute_result"
    }
   ],
   "source": [
    "df.dtypes"
   ]
  },
  {
   "cell_type": "code",
   "execution_count": 93,
   "id": "0a3cb34c-78e2-487f-b0c8-0a41ebca0ee3",
   "metadata": {},
   "outputs": [],
   "source": [
    "df.order_id = df.order_id.astype('int32')"
   ]
  },
  {
   "cell_type": "code",
   "execution_count": 94,
   "id": "84655558-3029-4a07-8c5c-ec57983d2919",
   "metadata": {},
   "outputs": [],
   "source": [
    "df.platform = df.platform.astype('category')"
   ]
  },
  {
   "cell_type": "code",
   "execution_count": 95,
   "id": "e5183b8a-d99b-474e-9f32-55db0b62ac52",
   "metadata": {},
   "outputs": [],
   "source": [
    "df.category = df.category.astype('category')"
   ]
  },
  {
   "cell_type": "code",
   "execution_count": 96,
   "id": "599069fc-fbc5-48a4-b20c-8ebef888752b",
   "metadata": {},
   "outputs": [
    {
     "data": {
      "text/plain": [
       "order_id                 int32\n",
       "customer_id              int32\n",
       "order_date      datetime64[ns]\n",
       "order_amount           float64\n",
       "platform              category\n",
       "category              category\n",
       "dtype: object"
      ]
     },
     "execution_count": 96,
     "metadata": {},
     "output_type": "execute_result"
    }
   ],
   "source": [
    "df.dtypes"
   ]
  },
  {
   "cell_type": "code",
   "execution_count": 98,
   "id": "48462c55-a491-4396-af08-e1b381bf16d7",
   "metadata": {},
   "outputs": [],
   "source": [
    "df.to_pickle('data.pkl')"
   ]
  },
  {
   "cell_type": "code",
   "execution_count": null,
   "id": "51f87db7-8928-4c09-8480-ea7a7f0b99bc",
   "metadata": {},
   "outputs": [],
   "source": []
  }
 ],
 "metadata": {
  "kernelspec": {
   "display_name": "Python 3 (ipykernel)",
   "language": "python",
   "name": "python3"
  },
  "language_info": {
   "codemirror_mode": {
    "name": "ipython",
    "version": 3
   },
   "file_extension": ".py",
   "mimetype": "text/x-python",
   "name": "python",
   "nbconvert_exporter": "python",
   "pygments_lexer": "ipython3",
   "version": "3.9.13"
  }
 },
 "nbformat": 4,
 "nbformat_minor": 5
}
