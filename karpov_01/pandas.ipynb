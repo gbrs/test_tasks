{
 "cells": [
  {
   "cell_type": "markdown",
   "id": "41d5b476-45a1-40bf-a35d-f3c794dbd59c",
   "metadata": {},
   "source": [
    "Задание из видео Карпова [Разбор тестового задания на позицию junior аналитика данных](https://www.youtube.com/watch?v=3VWDh-gdiYg)"
   ]
  },
  {
   "cell_type": "markdown",
   "id": "dbd11280-fe4f-45ec-8ff6-527340829346",
   "metadata": {},
   "source": [
    "Описание данных:  \n",
    "orders - таблица с информацией о заказах;  \n",
    "order_id - уникальный идентификатор заказа;  \n",
    "customer_id - уникальный идентификатор клиента;  \n",
    "order_date - дата, когда заказ был создан;  \n",
    "order_amount - cумма заказа;  \n",
    "platform - платформа, через которую был сделан заказ (например, 'mobile', 'desktop');  \n",
    "category - категория товара, который был заказан (например, 'smartphones', 'laptops').\n",
    "\n",
    "1. Построй когортый анализ: выдели клиентов, совершивших первую покупку в течение определенного месяца (когортную дату) и вычисли размер каждой когорты.  \n",
    "2. Рассчитай средний джоход с клиента для каждой когорты за 10 дней с момента их первой покупки.  \n",
    "3. Отобрази результаты по месяцам первых покупок, категориям товаров и платформам.  \n",
    "\n",
    "Вывод должен содержать следующие поля:\n",
    "- дата когорты;\n",
    "- платформа;\n",
    "- категория товара;\n",
    "- размер когорты;\n",
    "- средний доход с клиента."
   ]
  },
  {
   "cell_type": "code",
   "execution_count": null,
   "id": "f00f684e-0f4e-4c06-a005-83bf9c4e1c91",
   "metadata": {},
   "outputs": [],
   "source": []
  },
  {
   "cell_type": "code",
   "execution_count": 1,
   "id": "bca812e1-45a9-453a-81e9-4f7e43aeeb1b",
   "metadata": {},
   "outputs": [],
   "source": [
    "import numpy as np\n",
    "import pandas as pd\n",
    "import matplotlib.pyplot as plt\n",
    "import seaborn as sns"
   ]
  },
  {
   "cell_type": "code",
   "execution_count": 116,
   "id": "58422cb2-d84d-4a5f-bb7b-603537d4c130",
   "metadata": {},
   "outputs": [],
   "source": [
    "customer_ids = np.array([])\n",
    "for i in range(1,14):\n",
    "    customer_ids = np.append(customer_ids, np.random.choice(range(1, i*10 + 1), (1, i * 101)))"
   ]
  },
  {
   "cell_type": "code",
   "execution_count": 117,
   "id": "0b20d2e4-078f-49db-8d59-5bda80d004d0",
   "metadata": {},
   "outputs": [],
   "source": [
    "customer_ids = customer_ids.astype(int)"
   ]
  },
  {
   "cell_type": "code",
   "execution_count": 118,
   "id": "52e12054-70e4-45f7-a261-dd6c7f65c297",
   "metadata": {},
   "outputs": [],
   "source": [
    "# число заказов\n",
    "N = customer_ids.size"
   ]
  },
  {
   "cell_type": "code",
   "execution_count": 119,
   "id": "ba289e28-cdd7-4554-82da-6992c46ae295",
   "metadata": {},
   "outputs": [],
   "source": [
    "order_dates = pd.date_range('2023-01-01', '2024-01-31', periods=N)"
   ]
  },
  {
   "cell_type": "code",
   "execution_count": 120,
   "id": "eb2b3fa6-03c0-4069-8e5a-f474a1bbb6c9",
   "metadata": {},
   "outputs": [],
   "source": [
    "order_amounts = 111 + np.random.exponential(1, N) * 10000"
   ]
  },
  {
   "cell_type": "code",
   "execution_count": 121,
   "id": "c5a04eb5-ed59-499b-8fd2-d5b437ca4037",
   "metadata": {},
   "outputs": [],
   "source": [
    "platforms = np.random.choice(['mobile', 'desktop', 'shop'], N, p=[0.5, 0.3, 0.2])"
   ]
  },
  {
   "cell_type": "code",
   "execution_count": 122,
   "id": "cf0b1b21-0fed-454a-a6d1-11e8fe177f68",
   "metadata": {},
   "outputs": [],
   "source": [
    "categories = np.random.choice(['smartphones', 'laptops', 'watches'], N, p=[0.5, 0.3, 0.2])"
   ]
  },
  {
   "cell_type": "code",
   "execution_count": 123,
   "id": "f9671fa8-3709-4f68-83a3-e080a7b3f1f9",
   "metadata": {},
   "outputs": [],
   "source": [
    "df = pd.DataFrame({\n",
    "    'order_id': range(1, N + 1), \n",
    "    'customer_id': customer_ids, \n",
    "    'order_date': order_dates, \n",
    "    'order_amount': order_amounts, \n",
    "    'platform': platforms, \n",
    "    'category': categories\n",
    "})"
   ]
  },
  {
   "cell_type": "code",
   "execution_count": 124,
   "id": "f90e7ac1-58e1-49e7-8529-951f3dfadeca",
   "metadata": {},
   "outputs": [
    {
     "data": {
      "text/plain": [
       "order_id                 int64\n",
       "customer_id              int32\n",
       "order_date      datetime64[ns]\n",
       "order_amount           float64\n",
       "platform                object\n",
       "category                object\n",
       "dtype: object"
      ]
     },
     "execution_count": 124,
     "metadata": {},
     "output_type": "execute_result"
    }
   ],
   "source": [
    "df.dtypes"
   ]
  },
  {
   "cell_type": "code",
   "execution_count": 125,
   "id": "0a3cb34c-78e2-487f-b0c8-0a41ebca0ee3",
   "metadata": {},
   "outputs": [],
   "source": [
    "df.order_id = df.order_id.astype('int32')"
   ]
  },
  {
   "cell_type": "code",
   "execution_count": 126,
   "id": "84655558-3029-4a07-8c5c-ec57983d2919",
   "metadata": {},
   "outputs": [],
   "source": [
    "df.platform = df.platform.astype('category')"
   ]
  },
  {
   "cell_type": "code",
   "execution_count": 127,
   "id": "e5183b8a-d99b-474e-9f32-55db0b62ac52",
   "metadata": {},
   "outputs": [],
   "source": [
    "df.category = df.category.astype('category')"
   ]
  },
  {
   "cell_type": "code",
   "execution_count": 128,
   "id": "599069fc-fbc5-48a4-b20c-8ebef888752b",
   "metadata": {},
   "outputs": [
    {
     "data": {
      "text/plain": [
       "order_id                 int32\n",
       "customer_id              int32\n",
       "order_date      datetime64[ns]\n",
       "order_amount           float64\n",
       "platform              category\n",
       "category              category\n",
       "dtype: object"
      ]
     },
     "execution_count": 128,
     "metadata": {},
     "output_type": "execute_result"
    }
   ],
   "source": [
    "df.dtypes"
   ]
  },
  {
   "cell_type": "code",
   "execution_count": 98,
   "id": "48462c55-a491-4396-af08-e1b381bf16d7",
   "metadata": {},
   "outputs": [],
   "source": [
    "# df.to_pickle('data.pkl')"
   ]
  },
  {
   "cell_type": "code",
   "execution_count": null,
   "id": "e36e3cb9-a2fc-4821-a3cf-dc4caecc38fd",
   "metadata": {},
   "outputs": [],
   "source": []
  },
  {
   "cell_type": "code",
   "execution_count": 129,
   "id": "335b6f8a-88d1-4cbb-a5c2-3f00a417a3f1",
   "metadata": {},
   "outputs": [],
   "source": [
    "df['order_day'] = df.order_date.dt.to_period('D')"
   ]
  },
  {
   "cell_type": "code",
   "execution_count": 130,
   "id": "f8502f0f-44d2-4414-a78b-a53c9aa9b742",
   "metadata": {},
   "outputs": [],
   "source": [
    "df['order_month'] = df.order_date.dt.to_period('M')"
   ]
  },
  {
   "cell_type": "code",
   "execution_count": 139,
   "id": "2f597cf5-c5ae-4312-a30e-a518de26e09a",
   "metadata": {},
   "outputs": [],
   "source": [
    "df['day_from_start'] = df['order_day'].astype(int) - df.groupby('customer_id')['order_day'].transform('min').astype(int)\n",
    "df['day_from_start'] = df['day_from_start'].astype('int32')"
   ]
  },
  {
   "cell_type": "code",
   "execution_count": null,
   "id": "a53a7d25-0805-45d8-9227-9b51595d4373",
   "metadata": {},
   "outputs": [],
   "source": []
  },
  {
   "cell_type": "code",
   "execution_count": null,
   "id": "d5d132c3-e8c3-4c1d-aaa1-af57b4ccedf1",
   "metadata": {},
   "outputs": [],
   "source": []
  },
  {
   "cell_type": "code",
   "execution_count": null,
   "id": "4984851c-05f5-48f8-b9c2-837ea243f39f",
   "metadata": {},
   "outputs": [],
   "source": []
  },
  {
   "cell_type": "code",
   "execution_count": null,
   "id": "2c183e4f-f0bd-409d-a05c-a699f8126d59",
   "metadata": {},
   "outputs": [],
   "source": []
  },
  {
   "cell_type": "code",
   "execution_count": null,
   "id": "3d970ba0-a2cd-4650-8273-016fe4a56919",
   "metadata": {},
   "outputs": [],
   "source": []
  },
  {
   "cell_type": "code",
   "execution_count": null,
   "id": "b9c9b00e-75bc-4215-acf2-790f7b586e7b",
   "metadata": {},
   "outputs": [],
   "source": []
  },
  {
   "cell_type": "code",
   "execution_count": null,
   "id": "e52f6b9e-d021-4087-a306-e85d8ba13358",
   "metadata": {},
   "outputs": [],
   "source": []
  },
  {
   "cell_type": "code",
   "execution_count": null,
   "id": "a48cdd90-4770-47ae-9c97-3d975e111a2d",
   "metadata": {},
   "outputs": [],
   "source": []
  },
  {
   "cell_type": "code",
   "execution_count": null,
   "id": "7ba0e01a-284b-4eda-9e12-86aadbbe3819",
   "metadata": {},
   "outputs": [],
   "source": []
  },
  {
   "cell_type": "code",
   "execution_count": 142,
   "id": "51f87db7-8928-4c09-8480-ea7a7f0b99bc",
   "metadata": {
    "tags": []
   },
   "outputs": [
    {
     "data": {
      "text/html": [
       "<div>\n",
       "<style scoped>\n",
       "    .dataframe tbody tr th:only-of-type {\n",
       "        vertical-align: middle;\n",
       "    }\n",
       "\n",
       "    .dataframe tbody tr th {\n",
       "        vertical-align: top;\n",
       "    }\n",
       "\n",
       "    .dataframe thead th {\n",
       "        text-align: right;\n",
       "    }\n",
       "</style>\n",
       "<table border=\"1\" class=\"dataframe\">\n",
       "  <thead>\n",
       "    <tr style=\"text-align: right;\">\n",
       "      <th></th>\n",
       "      <th>order_id</th>\n",
       "      <th>customer_id</th>\n",
       "      <th>order_date</th>\n",
       "      <th>order_amount</th>\n",
       "      <th>platform</th>\n",
       "      <th>category</th>\n",
       "      <th>order_day</th>\n",
       "      <th>order_month</th>\n",
       "      <th>day_from_start</th>\n",
       "    </tr>\n",
       "  </thead>\n",
       "  <tbody>\n",
       "    <tr>\n",
       "      <th>7891</th>\n",
       "      <td>7892</td>\n",
       "      <td>45</td>\n",
       "      <td>2023-12-06 04:00:31.338411316</td>\n",
       "      <td>3874.697454</td>\n",
       "      <td>desktop</td>\n",
       "      <td>laptops</td>\n",
       "      <td>2023-12-06</td>\n",
       "      <td>2023-12</td>\n",
       "      <td>295</td>\n",
       "    </tr>\n",
       "    <tr>\n",
       "      <th>5763</th>\n",
       "      <td>5764</td>\n",
       "      <td>49</td>\n",
       "      <td>2023-09-05 16:51:26.833514692</td>\n",
       "      <td>1504.531933</td>\n",
       "      <td>desktop</td>\n",
       "      <td>laptops</td>\n",
       "      <td>2023-09-05</td>\n",
       "      <td>2023-09</td>\n",
       "      <td>204</td>\n",
       "    </tr>\n",
       "    <tr>\n",
       "      <th>4710</th>\n",
       "      <td>4711</td>\n",
       "      <td>26</td>\n",
       "      <td>2023-07-22 10:37:44.200217628</td>\n",
       "      <td>16451.664786</td>\n",
       "      <td>desktop</td>\n",
       "      <td>watches</td>\n",
       "      <td>2023-07-22</td>\n",
       "      <td>2023-07</td>\n",
       "      <td>189</td>\n",
       "    </tr>\n",
       "    <tr>\n",
       "      <th>4679</th>\n",
       "      <td>4680</td>\n",
       "      <td>19</td>\n",
       "      <td>2023-07-21 02:39:02.546245920</td>\n",
       "      <td>7672.419782</td>\n",
       "      <td>shop</td>\n",
       "      <td>laptops</td>\n",
       "      <td>2023-07-21</td>\n",
       "      <td>2023-07</td>\n",
       "      <td>196</td>\n",
       "    </tr>\n",
       "    <tr>\n",
       "      <th>5306</th>\n",
       "      <td>5307</td>\n",
       "      <td>78</td>\n",
       "      <td>2023-08-17 01:26:10.837867248</td>\n",
       "      <td>3187.961460</td>\n",
       "      <td>mobile</td>\n",
       "      <td>laptops</td>\n",
       "      <td>2023-08-17</td>\n",
       "      <td>2023-08</td>\n",
       "      <td>102</td>\n",
       "    </tr>\n",
       "    <tr>\n",
       "      <th>3459</th>\n",
       "      <td>3460</td>\n",
       "      <td>47</td>\n",
       "      <td>2023-05-29 16:09:08.422198042</td>\n",
       "      <td>6364.046302</td>\n",
       "      <td>mobile</td>\n",
       "      <td>smartphones</td>\n",
       "      <td>2023-05-29</td>\n",
       "      <td>2023-05</td>\n",
       "      <td>104</td>\n",
       "    </tr>\n",
       "    <tr>\n",
       "      <th>2187</th>\n",
       "      <td>2188</td>\n",
       "      <td>61</td>\n",
       "      <td>2023-04-05 00:00:47.007616975</td>\n",
       "      <td>9010.130680</td>\n",
       "      <td>mobile</td>\n",
       "      <td>smartphones</td>\n",
       "      <td>2023-04-05</td>\n",
       "      <td>2023-04</td>\n",
       "      <td>0</td>\n",
       "    </tr>\n",
       "    <tr>\n",
       "      <th>345</th>\n",
       "      <td>346</td>\n",
       "      <td>21</td>\n",
       "      <td>2023-01-15 19:53:12.600652883</td>\n",
       "      <td>1557.682790</td>\n",
       "      <td>desktop</td>\n",
       "      <td>smartphones</td>\n",
       "      <td>2023-01-15</td>\n",
       "      <td>2023-01</td>\n",
       "      <td>0</td>\n",
       "    </tr>\n",
       "    <tr>\n",
       "      <th>2292</th>\n",
       "      <td>2293</td>\n",
       "      <td>26</td>\n",
       "      <td>2023-04-09 12:19:35.190424375</td>\n",
       "      <td>8964.691977</td>\n",
       "      <td>mobile</td>\n",
       "      <td>smartphones</td>\n",
       "      <td>2023-04-09</td>\n",
       "      <td>2023-04</td>\n",
       "      <td>85</td>\n",
       "    </tr>\n",
       "    <tr>\n",
       "      <th>8912</th>\n",
       "      <td>8913</td>\n",
       "      <td>87</td>\n",
       "      <td>2024-01-19 01:13:38.715995648</td>\n",
       "      <td>11467.879253</td>\n",
       "      <td>shop</td>\n",
       "      <td>laptops</td>\n",
       "      <td>2024-01-19</td>\n",
       "      <td>2024-01</td>\n",
       "      <td>225</td>\n",
       "    </tr>\n",
       "    <tr>\n",
       "      <th>6629</th>\n",
       "      <td>6630</td>\n",
       "      <td>35</td>\n",
       "      <td>2023-10-12 22:11:05.941240480</td>\n",
       "      <td>21995.812985</td>\n",
       "      <td>mobile</td>\n",
       "      <td>smartphones</td>\n",
       "      <td>2023-10-12</td>\n",
       "      <td>2023-10</td>\n",
       "      <td>257</td>\n",
       "    </tr>\n",
       "    <tr>\n",
       "      <th>6527</th>\n",
       "      <td>6528</td>\n",
       "      <td>33</td>\n",
       "      <td>2023-10-08 12:57:58.563656148</td>\n",
       "      <td>33570.754203</td>\n",
       "      <td>mobile</td>\n",
       "      <td>smartphones</td>\n",
       "      <td>2023-10-08</td>\n",
       "      <td>2023-10</td>\n",
       "      <td>254</td>\n",
       "    </tr>\n",
       "    <tr>\n",
       "      <th>5393</th>\n",
       "      <td>5394</td>\n",
       "      <td>71</td>\n",
       "      <td>2023-08-20 19:10:54.189336236</td>\n",
       "      <td>830.204844</td>\n",
       "      <td>desktop</td>\n",
       "      <td>watches</td>\n",
       "      <td>2023-08-20</td>\n",
       "      <td>2023-08</td>\n",
       "      <td>108</td>\n",
       "    </tr>\n",
       "    <tr>\n",
       "      <th>1454</th>\n",
       "      <td>1455</td>\n",
       "      <td>21</td>\n",
       "      <td>2023-03-04 11:52:56.931447225</td>\n",
       "      <td>6682.193106</td>\n",
       "      <td>shop</td>\n",
       "      <td>smartphones</td>\n",
       "      <td>2023-03-04</td>\n",
       "      <td>2023-03</td>\n",
       "      <td>48</td>\n",
       "    </tr>\n",
       "    <tr>\n",
       "      <th>5414</th>\n",
       "      <td>5415</td>\n",
       "      <td>12</td>\n",
       "      <td>2023-08-21 16:50:39.825897716</td>\n",
       "      <td>9629.766211</td>\n",
       "      <td>desktop</td>\n",
       "      <td>laptops</td>\n",
       "      <td>2023-08-21</td>\n",
       "      <td>2023-08</td>\n",
       "      <td>228</td>\n",
       "    </tr>\n",
       "    <tr>\n",
       "      <th>3263</th>\n",
       "      <td>3264</td>\n",
       "      <td>56</td>\n",
       "      <td>2023-05-21 05:58:02.480957564</td>\n",
       "      <td>8821.887873</td>\n",
       "      <td>mobile</td>\n",
       "      <td>laptops</td>\n",
       "      <td>2023-05-21</td>\n",
       "      <td>2023-05</td>\n",
       "      <td>75</td>\n",
       "    </tr>\n",
       "    <tr>\n",
       "      <th>8605</th>\n",
       "      <td>8606</td>\n",
       "      <td>129</td>\n",
       "      <td>2024-01-05 20:32:22.981501632</td>\n",
       "      <td>526.104280</td>\n",
       "      <td>desktop</td>\n",
       "      <td>laptops</td>\n",
       "      <td>2024-01-05</td>\n",
       "      <td>2024-01</td>\n",
       "      <td>22</td>\n",
       "    </tr>\n",
       "    <tr>\n",
       "      <th>4337</th>\n",
       "      <td>4338</td>\n",
       "      <td>40</td>\n",
       "      <td>2023-07-06 09:51:30.750816106</td>\n",
       "      <td>3197.335851</td>\n",
       "      <td>shop</td>\n",
       "      <td>watches</td>\n",
       "      <td>2023-07-06</td>\n",
       "      <td>2023-07</td>\n",
       "      <td>160</td>\n",
       "    </tr>\n",
       "    <tr>\n",
       "      <th>1338</th>\n",
       "      <td>1339</td>\n",
       "      <td>38</td>\n",
       "      <td>2023-02-27 12:13:19.129488575</td>\n",
       "      <td>2659.467712</td>\n",
       "      <td>shop</td>\n",
       "      <td>smartphones</td>\n",
       "      <td>2023-02-27</td>\n",
       "      <td>2023-02</td>\n",
       "      <td>31</td>\n",
       "    </tr>\n",
       "    <tr>\n",
       "      <th>2048</th>\n",
       "      <td>2049</td>\n",
       "      <td>39</td>\n",
       "      <td>2023-03-30 00:37:36.365614799</td>\n",
       "      <td>4357.117524</td>\n",
       "      <td>shop</td>\n",
       "      <td>smartphones</td>\n",
       "      <td>2023-03-30</td>\n",
       "      <td>2023-03</td>\n",
       "      <td>62</td>\n",
       "    </tr>\n",
       "  </tbody>\n",
       "</table>\n",
       "</div>"
      ],
      "text/plain": [
       "      order_id  customer_id                    order_date  order_amount  \\\n",
       "7891      7892           45 2023-12-06 04:00:31.338411316   3874.697454   \n",
       "5763      5764           49 2023-09-05 16:51:26.833514692   1504.531933   \n",
       "4710      4711           26 2023-07-22 10:37:44.200217628  16451.664786   \n",
       "4679      4680           19 2023-07-21 02:39:02.546245920   7672.419782   \n",
       "5306      5307           78 2023-08-17 01:26:10.837867248   3187.961460   \n",
       "3459      3460           47 2023-05-29 16:09:08.422198042   6364.046302   \n",
       "2187      2188           61 2023-04-05 00:00:47.007616975   9010.130680   \n",
       "345        346           21 2023-01-15 19:53:12.600652883   1557.682790   \n",
       "2292      2293           26 2023-04-09 12:19:35.190424375   8964.691977   \n",
       "8912      8913           87 2024-01-19 01:13:38.715995648  11467.879253   \n",
       "6629      6630           35 2023-10-12 22:11:05.941240480  21995.812985   \n",
       "6527      6528           33 2023-10-08 12:57:58.563656148  33570.754203   \n",
       "5393      5394           71 2023-08-20 19:10:54.189336236    830.204844   \n",
       "1454      1455           21 2023-03-04 11:52:56.931447225   6682.193106   \n",
       "5414      5415           12 2023-08-21 16:50:39.825897716   9629.766211   \n",
       "3263      3264           56 2023-05-21 05:58:02.480957564   8821.887873   \n",
       "8605      8606          129 2024-01-05 20:32:22.981501632    526.104280   \n",
       "4337      4338           40 2023-07-06 09:51:30.750816106   3197.335851   \n",
       "1338      1339           38 2023-02-27 12:13:19.129488575   2659.467712   \n",
       "2048      2049           39 2023-03-30 00:37:36.365614799   4357.117524   \n",
       "\n",
       "     platform     category   order_day order_month  day_from_start  \n",
       "7891  desktop      laptops  2023-12-06     2023-12             295  \n",
       "5763  desktop      laptops  2023-09-05     2023-09             204  \n",
       "4710  desktop      watches  2023-07-22     2023-07             189  \n",
       "4679     shop      laptops  2023-07-21     2023-07             196  \n",
       "5306   mobile      laptops  2023-08-17     2023-08             102  \n",
       "3459   mobile  smartphones  2023-05-29     2023-05             104  \n",
       "2187   mobile  smartphones  2023-04-05     2023-04               0  \n",
       "345   desktop  smartphones  2023-01-15     2023-01               0  \n",
       "2292   mobile  smartphones  2023-04-09     2023-04              85  \n",
       "8912     shop      laptops  2024-01-19     2024-01             225  \n",
       "6629   mobile  smartphones  2023-10-12     2023-10             257  \n",
       "6527   mobile  smartphones  2023-10-08     2023-10             254  \n",
       "5393  desktop      watches  2023-08-20     2023-08             108  \n",
       "1454     shop  smartphones  2023-03-04     2023-03              48  \n",
       "5414  desktop      laptops  2023-08-21     2023-08             228  \n",
       "3263   mobile      laptops  2023-05-21     2023-05              75  \n",
       "8605  desktop      laptops  2024-01-05     2024-01              22  \n",
       "4337     shop      watches  2023-07-06     2023-07             160  \n",
       "1338     shop  smartphones  2023-02-27     2023-02              31  \n",
       "2048     shop  smartphones  2023-03-30     2023-03              62  "
      ]
     },
     "execution_count": 142,
     "metadata": {},
     "output_type": "execute_result"
    }
   ],
   "source": [
    "df.sample(20)"
   ]
  },
  {
   "cell_type": "code",
   "execution_count": null,
   "id": "0519d925-a220-49db-8696-b7587173c275",
   "metadata": {},
   "outputs": [],
   "source": []
  }
 ],
 "metadata": {
  "kernelspec": {
   "display_name": "Python 3 (ipykernel)",
   "language": "python",
   "name": "python3"
  },
  "language_info": {
   "codemirror_mode": {
    "name": "ipython",
    "version": 3
   },
   "file_extension": ".py",
   "mimetype": "text/x-python",
   "name": "python",
   "nbconvert_exporter": "python",
   "pygments_lexer": "ipython3",
   "version": "3.9.13"
  }
 },
 "nbformat": 4,
 "nbformat_minor": 5
}
