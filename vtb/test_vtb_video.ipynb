{
 "cells": [
  {
   "cell_type": "markdown",
   "id": "07c544b7-6c91-4753-bcd1-e81eb1ce3434",
   "metadata": {},
   "source": [
    "# Тестовоe задание на позицию junior-аналитика в Банк ВТБ"
   ]
  },
  {
   "cell_type": "markdown",
   "id": "62eb229f-f380-45f2-918c-bc8de952342d",
   "metadata": {},
   "source": [
    "Из видео https://www.youtube.com/watch?v=vG6_1zIiuao от Simulative.  \n",
    "Файлы: https://drive.google.com/drive/folders/13I9_shAO3Qtj04nKDB4q7FazAXKyMu_x"
   ]
  },
  {
   "cell_type": "code",
   "execution_count": null,
   "id": "dbb5b9c0-19a1-4979-88e6-8e609467e5b4",
   "metadata": {},
   "outputs": [],
   "source": []
  },
  {
   "cell_type": "markdown",
   "id": "4b688c1f-0fea-47ac-8333-091ecf67a93e",
   "metadata": {},
   "source": [
    "Задачи:\n",
    "- [1](#1)\n",
    "- [2](#2)\n",
    "- [3](#3)\n",
    "- [4](#4)\n",
    "- [5](#5)"
   ]
  },
  {
   "cell_type": "code",
   "execution_count": null,
   "id": "567b11f6-8170-4eea-a88b-353a15a3c4e0",
   "metadata": {},
   "outputs": [],
   "source": []
  },
  {
   "cell_type": "code",
   "execution_count": 1,
   "id": "09c7947b-7cb5-400e-ba01-44bc561b41c5",
   "metadata": {
    "tags": []
   },
   "outputs": [],
   "source": [
    "import numpy as np\n",
    "import pandas as pd\n",
    "import sqlite3 as sql"
   ]
  },
  {
   "cell_type": "code",
   "execution_count": 4,
   "id": "837f9724-6a94-4e5d-82ac-34c043ce2d0b",
   "metadata": {},
   "outputs": [
    {
     "data": {
      "text/html": [
       "<div>\n",
       "<style scoped>\n",
       "    .dataframe tbody tr th:only-of-type {\n",
       "        vertical-align: middle;\n",
       "    }\n",
       "\n",
       "    .dataframe tbody tr th {\n",
       "        vertical-align: top;\n",
       "    }\n",
       "\n",
       "    .dataframe thead th {\n",
       "        text-align: right;\n",
       "    }\n",
       "</style>\n",
       "<table border=\"1\" class=\"dataframe\">\n",
       "  <thead>\n",
       "    <tr style=\"text-align: right;\">\n",
       "      <th></th>\n",
       "      <th>client_id</th>\n",
       "      <th>segment</th>\n",
       "      <th>period</th>\n",
       "      <th>product</th>\n",
       "      <th>pl</th>\n",
       "    </tr>\n",
       "  </thead>\n",
       "  <tbody>\n",
       "    <tr>\n",
       "      <th>0</th>\n",
       "      <td>ZDosW1zUAi</td>\n",
       "      <td>Массовый</td>\n",
       "      <td>p_1</td>\n",
       "      <td>Кредит</td>\n",
       "      <td>9.018067</td>\n",
       "    </tr>\n",
       "    <tr>\n",
       "      <th>1</th>\n",
       "      <td>wVRHQ9hzrw</td>\n",
       "      <td>Массовый</td>\n",
       "      <td>p_1</td>\n",
       "      <td>Кредит</td>\n",
       "      <td>18.889585</td>\n",
       "    </tr>\n",
       "    <tr>\n",
       "      <th>2</th>\n",
       "      <td>6DZQIaOyL3</td>\n",
       "      <td>Массовый</td>\n",
       "      <td>p_1</td>\n",
       "      <td>Кредит</td>\n",
       "      <td>0.369257</td>\n",
       "    </tr>\n",
       "    <tr>\n",
       "      <th>3</th>\n",
       "      <td>jDwO0sMhL2</td>\n",
       "      <td>Массовый</td>\n",
       "      <td>p_1</td>\n",
       "      <td>Кредит</td>\n",
       "      <td>124.315319</td>\n",
       "    </tr>\n",
       "    <tr>\n",
       "      <th>4</th>\n",
       "      <td>FXIJUkgjLy</td>\n",
       "      <td>Массовый</td>\n",
       "      <td>p_1</td>\n",
       "      <td>Кредит</td>\n",
       "      <td>41.287831</td>\n",
       "    </tr>\n",
       "  </tbody>\n",
       "</table>\n",
       "</div>"
      ],
      "text/plain": [
       "    client_id   segment period product          pl\n",
       "0  ZDosW1zUAi  Массовый    p_1  Кредит    9.018067\n",
       "1  wVRHQ9hzrw  Массовый    p_1  Кредит   18.889585\n",
       "2  6DZQIaOyL3  Массовый    p_1  Кредит    0.369257\n",
       "3  jDwO0sMhL2  Массовый    p_1  Кредит  124.315319\n",
       "4  FXIJUkgjLy  Массовый    p_1  Кредит   41.287831"
      ]
     },
     "execution_count": 4,
     "metadata": {},
     "output_type": "execute_result"
    }
   ],
   "source": [
    "with sql.connect('../data_ignored/database.db') as con:\n",
    "    pl_df = pd.read_sql_query('SELECT * FROM pl', con=con)\n",
    "\n",
    "pl_df.head()"
   ]
  },
  {
   "cell_type": "code",
   "execution_count": 5,
   "id": "78985f97-ae0a-4baf-b67d-b6f39a8013df",
   "metadata": {},
   "outputs": [
    {
     "data": {
      "text/html": [
       "<div>\n",
       "<style scoped>\n",
       "    .dataframe tbody tr th:only-of-type {\n",
       "        vertical-align: middle;\n",
       "    }\n",
       "\n",
       "    .dataframe tbody tr th {\n",
       "        vertical-align: top;\n",
       "    }\n",
       "\n",
       "    .dataframe thead th {\n",
       "        text-align: right;\n",
       "    }\n",
       "</style>\n",
       "<table border=\"1\" class=\"dataframe\">\n",
       "  <thead>\n",
       "    <tr style=\"text-align: right;\">\n",
       "      <th></th>\n",
       "      <th>client_id</th>\n",
       "      <th>product</th>\n",
       "      <th>response</th>\n",
       "      <th>manager_id</th>\n",
       "    </tr>\n",
       "  </thead>\n",
       "  <tbody>\n",
       "    <tr>\n",
       "      <th>0</th>\n",
       "      <td>owOyJEIst9</td>\n",
       "      <td>Кредит</td>\n",
       "      <td>Согласие</td>\n",
       "      <td>CM_EiBeeRMhdA</td>\n",
       "    </tr>\n",
       "    <tr>\n",
       "      <th>1</th>\n",
       "      <td>HkhuPN1KG7</td>\n",
       "      <td>Кредит</td>\n",
       "      <td>Не обработано менеджером</td>\n",
       "      <td>CM_PzEEav4ic0</td>\n",
       "    </tr>\n",
       "    <tr>\n",
       "      <th>2</th>\n",
       "      <td>x1rEdC5fys</td>\n",
       "      <td>Кредит</td>\n",
       "      <td>Согласие</td>\n",
       "      <td>CM_RCwv1r0OHO</td>\n",
       "    </tr>\n",
       "    <tr>\n",
       "      <th>3</th>\n",
       "      <td>fx0acVADvj</td>\n",
       "      <td>Кредит</td>\n",
       "      <td>Согласие</td>\n",
       "      <td>CM_nJ7j5pAcMB</td>\n",
       "    </tr>\n",
       "    <tr>\n",
       "      <th>4</th>\n",
       "      <td>nDNNydkKQR</td>\n",
       "      <td>Кредит</td>\n",
       "      <td>Согласие</td>\n",
       "      <td>CM_EiBeeRMhdA</td>\n",
       "    </tr>\n",
       "  </tbody>\n",
       "</table>\n",
       "</div>"
      ],
      "text/plain": [
       "    client_id product                  response     manager_id\n",
       "0  owOyJEIst9  Кредит                  Согласие  CM_EiBeeRMhdA\n",
       "1  HkhuPN1KG7  Кредит  Не обработано менеджером  CM_PzEEav4ic0\n",
       "2  x1rEdC5fys  Кредит                  Согласие  CM_RCwv1r0OHO\n",
       "3  fx0acVADvj  Кредит                  Согласие  CM_nJ7j5pAcMB\n",
       "4  nDNNydkKQR  Кредит                  Согласие  CM_EiBeeRMhdA"
      ]
     },
     "execution_count": 5,
     "metadata": {},
     "output_type": "execute_result"
    }
   ],
   "source": [
    "with sql.connect('../data_ignored/database.db') as con:\n",
    "    campaign = pd.read_sql_query('SELECT * FROM campaign', con=con)\n",
    "\n",
    "campaign.head()"
   ]
  },
  {
   "cell_type": "code",
   "execution_count": null,
   "id": "fef979bb-3770-405d-ad07-7180380faf96",
   "metadata": {},
   "outputs": [],
   "source": []
  },
  {
   "cell_type": "code",
   "execution_count": 6,
   "id": "724d0fc3-3c4d-46a7-90ba-2f1e5e3101cc",
   "metadata": {},
   "outputs": [
    {
     "name": "stdout",
     "output_type": "stream",
     "text": [
      "<class 'pandas.core.frame.DataFrame'>\n",
      "RangeIndex: 92609 entries, 0 to 92608\n",
      "Data columns (total 5 columns):\n",
      " #   Column     Non-Null Count  Dtype  \n",
      "---  ------     --------------  -----  \n",
      " 0   client_id  92609 non-null  object \n",
      " 1   segment    92609 non-null  object \n",
      " 2   period     92609 non-null  object \n",
      " 3   product    92609 non-null  object \n",
      " 4   pl         92609 non-null  float64\n",
      "dtypes: float64(1), object(4)\n",
      "memory usage: 3.5+ MB\n"
     ]
    }
   ],
   "source": [
    "pl_df.info()"
   ]
  },
  {
   "cell_type": "code",
   "execution_count": 7,
   "id": "9dfc468a-d4df-40ce-a060-181a56af1fb8",
   "metadata": {},
   "outputs": [
    {
     "data": {
      "text/plain": [
       "92609"
      ]
     },
     "execution_count": 7,
     "metadata": {},
     "output_type": "execute_result"
    }
   ],
   "source": [
    "len(pl_df.groupby(['client_id', 'period', 'product']))"
   ]
  },
  {
   "cell_type": "markdown",
   "id": "4386e23b-69bc-436d-883d-1f8b7c6b2a0d",
   "metadata": {},
   "source": [
    "Один и тот же клиент не может быть в 2 разных сегментах, но может быть в разных продуктах и периодах"
   ]
  },
  {
   "cell_type": "code",
   "execution_count": 8,
   "id": "c870c5e5-c590-4c89-a54a-e7c05a824070",
   "metadata": {},
   "outputs": [
    {
     "data": {
      "text/plain": [
       "client_id    24992\n",
       "segment          3\n",
       "period           2\n",
       "product          5\n",
       "pl           92609\n",
       "dtype: int64"
      ]
     },
     "execution_count": 8,
     "metadata": {},
     "output_type": "execute_result"
    }
   ],
   "source": [
    "pl_df.nunique()"
   ]
  },
  {
   "cell_type": "code",
   "execution_count": null,
   "id": "a7756e4b-d0ec-4618-bfe5-4e0c67490c76",
   "metadata": {},
   "outputs": [],
   "source": []
  },
  {
   "cell_type": "code",
   "execution_count": 9,
   "id": "3bd269b2-5cd2-431b-b5ac-9bc69433682d",
   "metadata": {},
   "outputs": [
    {
     "name": "stdout",
     "output_type": "stream",
     "text": [
      "<class 'pandas.core.frame.DataFrame'>\n",
      "RangeIndex: 5000 entries, 0 to 4999\n",
      "Data columns (total 4 columns):\n",
      " #   Column      Non-Null Count  Dtype \n",
      "---  ------      --------------  ----- \n",
      " 0   client_id   5000 non-null   object\n",
      " 1   product     5000 non-null   object\n",
      " 2   response    5000 non-null   object\n",
      " 3   manager_id  5000 non-null   object\n",
      "dtypes: object(4)\n",
      "memory usage: 156.4+ KB\n"
     ]
    }
   ],
   "source": [
    "campaign.info()"
   ]
  },
  {
   "cell_type": "code",
   "execution_count": 10,
   "id": "6955a73b-f6bf-46ea-a8d2-2c420a4973a7",
   "metadata": {},
   "outputs": [
    {
     "data": {
      "text/plain": [
       "client_id     5000\n",
       "product          1\n",
       "response         5\n",
       "manager_id      20\n",
       "dtype: int64"
      ]
     },
     "execution_count": 10,
     "metadata": {},
     "output_type": "execute_result"
    }
   ],
   "source": [
    "campaign.nunique()"
   ]
  },
  {
   "cell_type": "code",
   "execution_count": 25,
   "id": "f6ec2dc6-8ba2-45cd-96af-ea8e11baa39c",
   "metadata": {},
   "outputs": [
    {
     "data": {
      "text/plain": [
       "array(['Кредит'], dtype=object)"
      ]
     },
     "execution_count": 25,
     "metadata": {},
     "output_type": "execute_result"
    }
   ],
   "source": [
    "campaign['product'].unique()"
   ]
  },
  {
   "cell_type": "markdown",
   "id": "6a5920cd-798d-4370-a836-9f4fcb17d287",
   "metadata": {},
   "source": [
    "Рекламная кампания проводилась только по продукту \"Кредит\""
   ]
  },
  {
   "cell_type": "code",
   "execution_count": null,
   "id": "43dbab0d-fbe0-4411-bcb9-2020723022a5",
   "metadata": {},
   "outputs": [],
   "source": []
  },
  {
   "cell_type": "code",
   "execution_count": null,
   "id": "151278c2-73eb-48a0-a774-e6384560f64d",
   "metadata": {},
   "outputs": [],
   "source": []
  },
  {
   "cell_type": "markdown",
   "id": "a6ecc53e-976d-42f4-a4b7-b9671d8bc900",
   "metadata": {},
   "source": [
    "#### 1\n",
    "Посчитать средний ЧОД по продуктам и количество клиентов с продуктом для каждого сегмента в разрезе периодов."
   ]
  },
  {
   "cell_type": "code",
   "execution_count": 4,
   "id": "fd834d65-8ef2-4644-8c21-c7ef7aa50d5f",
   "metadata": {},
   "outputs": [
    {
     "data": {
      "text/html": [
       "<div>\n",
       "<style scoped>\n",
       "    .dataframe tbody tr th:only-of-type {\n",
       "        vertical-align: middle;\n",
       "    }\n",
       "\n",
       "    .dataframe tbody tr th {\n",
       "        vertical-align: top;\n",
       "    }\n",
       "\n",
       "    .dataframe thead th {\n",
       "        text-align: right;\n",
       "    }\n",
       "</style>\n",
       "<table border=\"1\" class=\"dataframe\">\n",
       "  <thead>\n",
       "    <tr style=\"text-align: right;\">\n",
       "      <th></th>\n",
       "      <th></th>\n",
       "      <th></th>\n",
       "      <th>pl</th>\n",
       "      <th>client_id</th>\n",
       "    </tr>\n",
       "    <tr>\n",
       "      <th>segment</th>\n",
       "      <th>product</th>\n",
       "      <th>period</th>\n",
       "      <th></th>\n",
       "      <th></th>\n",
       "    </tr>\n",
       "  </thead>\n",
       "  <tbody>\n",
       "    <tr>\n",
       "      <th rowspan=\"10\" valign=\"top\">Верхний</th>\n",
       "      <th rowspan=\"2\" valign=\"top\">Банковская карта</th>\n",
       "      <th>p_1</th>\n",
       "      <td>60.571545</td>\n",
       "      <td>49</td>\n",
       "    </tr>\n",
       "    <tr>\n",
       "      <th>p_2</th>\n",
       "      <td>51.770009</td>\n",
       "      <td>167</td>\n",
       "    </tr>\n",
       "    <tr>\n",
       "      <th rowspan=\"2\" valign=\"top\">Депозит</th>\n",
       "      <th>p_1</th>\n",
       "      <td>112.474520</td>\n",
       "      <td>254</td>\n",
       "    </tr>\n",
       "    <tr>\n",
       "      <th>p_2</th>\n",
       "      <td>99.260623</td>\n",
       "      <td>283</td>\n",
       "    </tr>\n",
       "    <tr>\n",
       "      <th rowspan=\"2\" valign=\"top\">Кредит</th>\n",
       "      <th>p_1</th>\n",
       "      <td>236.938710</td>\n",
       "      <td>360</td>\n",
       "    </tr>\n",
       "    <tr>\n",
       "      <th>p_2</th>\n",
       "      <td>248.191513</td>\n",
       "      <td>548</td>\n",
       "    </tr>\n",
       "    <tr>\n",
       "      <th rowspan=\"2\" valign=\"top\">РКО</th>\n",
       "      <th>p_1</th>\n",
       "      <td>22.847632</td>\n",
       "      <td>1149</td>\n",
       "    </tr>\n",
       "    <tr>\n",
       "      <th>p_2</th>\n",
       "      <td>22.064079</td>\n",
       "      <td>1162</td>\n",
       "    </tr>\n",
       "    <tr>\n",
       "      <th rowspan=\"2\" valign=\"top\">Эквайринг</th>\n",
       "      <th>p_1</th>\n",
       "      <td>80.517184</td>\n",
       "      <td>183</td>\n",
       "    </tr>\n",
       "    <tr>\n",
       "      <th>p_2</th>\n",
       "      <td>72.968866</td>\n",
       "      <td>284</td>\n",
       "    </tr>\n",
       "    <tr>\n",
       "      <th rowspan=\"10\" valign=\"top\">Массовый</th>\n",
       "      <th rowspan=\"2\" valign=\"top\">Банковская карта</th>\n",
       "      <th>p_1</th>\n",
       "      <td>13.310203</td>\n",
       "      <td>895</td>\n",
       "    </tr>\n",
       "    <tr>\n",
       "      <th>p_2</th>\n",
       "      <td>11.726557</td>\n",
       "      <td>2636</td>\n",
       "    </tr>\n",
       "    <tr>\n",
       "      <th rowspan=\"2\" valign=\"top\">Депозит</th>\n",
       "      <th>p_1</th>\n",
       "      <td>28.747545</td>\n",
       "      <td>3537</td>\n",
       "    </tr>\n",
       "    <tr>\n",
       "      <th>p_2</th>\n",
       "      <td>25.219855</td>\n",
       "      <td>4345</td>\n",
       "    </tr>\n",
       "    <tr>\n",
       "      <th rowspan=\"2\" valign=\"top\">Кредит</th>\n",
       "      <th>p_1</th>\n",
       "      <td>59.219407</td>\n",
       "      <td>5247</td>\n",
       "    </tr>\n",
       "    <tr>\n",
       "      <th>p_2</th>\n",
       "      <td>67.109774</td>\n",
       "      <td>7845</td>\n",
       "    </tr>\n",
       "    <tr>\n",
       "      <th rowspan=\"2\" valign=\"top\">РКО</th>\n",
       "      <th>p_1</th>\n",
       "      <td>5.795114</td>\n",
       "      <td>16728</td>\n",
       "    </tr>\n",
       "    <tr>\n",
       "      <th>p_2</th>\n",
       "      <td>5.566726</td>\n",
       "      <td>16700</td>\n",
       "    </tr>\n",
       "    <tr>\n",
       "      <th rowspan=\"2\" valign=\"top\">Эквайринг</th>\n",
       "      <th>p_1</th>\n",
       "      <td>19.627608</td>\n",
       "      <td>2625</td>\n",
       "    </tr>\n",
       "    <tr>\n",
       "      <th>p_2</th>\n",
       "      <td>17.348344</td>\n",
       "      <td>4424</td>\n",
       "    </tr>\n",
       "    <tr>\n",
       "      <th rowspan=\"10\" valign=\"top\">Стандартный</th>\n",
       "      <th rowspan=\"2\" valign=\"top\">Банковская карта</th>\n",
       "      <th>p_1</th>\n",
       "      <td>26.421616</td>\n",
       "      <td>338</td>\n",
       "    </tr>\n",
       "    <tr>\n",
       "      <th>p_2</th>\n",
       "      <td>22.436106</td>\n",
       "      <td>917</td>\n",
       "    </tr>\n",
       "    <tr>\n",
       "      <th rowspan=\"2\" valign=\"top\">Депозит</th>\n",
       "      <th>p_1</th>\n",
       "      <td>60.994262</td>\n",
       "      <td>1292</td>\n",
       "    </tr>\n",
       "    <tr>\n",
       "      <th>p_2</th>\n",
       "      <td>49.332790</td>\n",
       "      <td>1570</td>\n",
       "    </tr>\n",
       "    <tr>\n",
       "      <th rowspan=\"2\" valign=\"top\">Кредит</th>\n",
       "      <th>p_1</th>\n",
       "      <td>120.101219</td>\n",
       "      <td>1871</td>\n",
       "    </tr>\n",
       "    <tr>\n",
       "      <th>p_2</th>\n",
       "      <td>131.611788</td>\n",
       "      <td>2871</td>\n",
       "    </tr>\n",
       "    <tr>\n",
       "      <th rowspan=\"2\" valign=\"top\">РКО</th>\n",
       "      <th>p_1</th>\n",
       "      <td>11.418812</td>\n",
       "      <td>5907</td>\n",
       "    </tr>\n",
       "    <tr>\n",
       "      <th>p_2</th>\n",
       "      <td>10.983568</td>\n",
       "      <td>5870</td>\n",
       "    </tr>\n",
       "    <tr>\n",
       "      <th rowspan=\"2\" valign=\"top\">Эквайринг</th>\n",
       "      <th>p_1</th>\n",
       "      <td>39.329551</td>\n",
       "      <td>962</td>\n",
       "    </tr>\n",
       "    <tr>\n",
       "      <th>p_2</th>\n",
       "      <td>35.046014</td>\n",
       "      <td>1590</td>\n",
       "    </tr>\n",
       "  </tbody>\n",
       "</table>\n",
       "</div>"
      ],
      "text/plain": [
       "                                             pl  client_id\n",
       "segment     product          period                       \n",
       "Верхний     Банковская карта p_1      60.571545         49\n",
       "                             p_2      51.770009        167\n",
       "            Депозит          p_1     112.474520        254\n",
       "                             p_2      99.260623        283\n",
       "            Кредит           p_1     236.938710        360\n",
       "                             p_2     248.191513        548\n",
       "            РКО              p_1      22.847632       1149\n",
       "                             p_2      22.064079       1162\n",
       "            Эквайринг        p_1      80.517184        183\n",
       "                             p_2      72.968866        284\n",
       "Массовый    Банковская карта p_1      13.310203        895\n",
       "                             p_2      11.726557       2636\n",
       "            Депозит          p_1      28.747545       3537\n",
       "                             p_2      25.219855       4345\n",
       "            Кредит           p_1      59.219407       5247\n",
       "                             p_2      67.109774       7845\n",
       "            РКО              p_1       5.795114      16728\n",
       "                             p_2       5.566726      16700\n",
       "            Эквайринг        p_1      19.627608       2625\n",
       "                             p_2      17.348344       4424\n",
       "Стандартный Банковская карта p_1      26.421616        338\n",
       "                             p_2      22.436106        917\n",
       "            Депозит          p_1      60.994262       1292\n",
       "                             p_2      49.332790       1570\n",
       "            Кредит           p_1     120.101219       1871\n",
       "                             p_2     131.611788       2871\n",
       "            РКО              p_1      11.418812       5907\n",
       "                             p_2      10.983568       5870\n",
       "            Эквайринг        p_1      39.329551        962\n",
       "                             p_2      35.046014       1590"
      ]
     },
     "execution_count": 4,
     "metadata": {},
     "output_type": "execute_result"
    }
   ],
   "source": [
    "pl_df.groupby(['segment', 'product', 'period']).agg({'pl': 'mean', 'client_id': 'count'})"
   ]
  },
  {
   "cell_type": "code",
   "execution_count": 5,
   "id": "5f2407ba-5238-4cae-8fa5-7774e395f7de",
   "metadata": {},
   "outputs": [
    {
     "data": {
      "text/html": [
       "<div>\n",
       "<style scoped>\n",
       "    .dataframe tbody tr th:only-of-type {\n",
       "        vertical-align: middle;\n",
       "    }\n",
       "\n",
       "    .dataframe tbody tr th {\n",
       "        vertical-align: top;\n",
       "    }\n",
       "\n",
       "    .dataframe thead tr th {\n",
       "        text-align: left;\n",
       "    }\n",
       "\n",
       "    .dataframe thead tr:last-of-type th {\n",
       "        text-align: right;\n",
       "    }\n",
       "</style>\n",
       "<table border=\"1\" class=\"dataframe\">\n",
       "  <thead>\n",
       "    <tr>\n",
       "      <th></th>\n",
       "      <th></th>\n",
       "      <th colspan=\"2\" halign=\"left\">mean</th>\n",
       "      <th colspan=\"4\" halign=\"left\">count</th>\n",
       "    </tr>\n",
       "    <tr>\n",
       "      <th></th>\n",
       "      <th></th>\n",
       "      <th colspan=\"2\" halign=\"left\">pl</th>\n",
       "      <th colspan=\"2\" halign=\"left\">client_id</th>\n",
       "      <th colspan=\"2\" halign=\"left\">pl</th>\n",
       "    </tr>\n",
       "    <tr>\n",
       "      <th></th>\n",
       "      <th>period</th>\n",
       "      <th>p_1</th>\n",
       "      <th>p_2</th>\n",
       "      <th>p_1</th>\n",
       "      <th>p_2</th>\n",
       "      <th>p_1</th>\n",
       "      <th>p_2</th>\n",
       "    </tr>\n",
       "    <tr>\n",
       "      <th>segment</th>\n",
       "      <th>product</th>\n",
       "      <th></th>\n",
       "      <th></th>\n",
       "      <th></th>\n",
       "      <th></th>\n",
       "      <th></th>\n",
       "      <th></th>\n",
       "    </tr>\n",
       "  </thead>\n",
       "  <tbody>\n",
       "    <tr>\n",
       "      <th rowspan=\"5\" valign=\"top\">Верхний</th>\n",
       "      <th>Банковская карта</th>\n",
       "      <td>60.571545</td>\n",
       "      <td>51.770009</td>\n",
       "      <td>49</td>\n",
       "      <td>167</td>\n",
       "      <td>49</td>\n",
       "      <td>167</td>\n",
       "    </tr>\n",
       "    <tr>\n",
       "      <th>Депозит</th>\n",
       "      <td>112.474520</td>\n",
       "      <td>99.260623</td>\n",
       "      <td>254</td>\n",
       "      <td>283</td>\n",
       "      <td>254</td>\n",
       "      <td>283</td>\n",
       "    </tr>\n",
       "    <tr>\n",
       "      <th>Кредит</th>\n",
       "      <td>236.938710</td>\n",
       "      <td>248.191513</td>\n",
       "      <td>360</td>\n",
       "      <td>548</td>\n",
       "      <td>360</td>\n",
       "      <td>548</td>\n",
       "    </tr>\n",
       "    <tr>\n",
       "      <th>РКО</th>\n",
       "      <td>22.847632</td>\n",
       "      <td>22.064079</td>\n",
       "      <td>1149</td>\n",
       "      <td>1162</td>\n",
       "      <td>1149</td>\n",
       "      <td>1162</td>\n",
       "    </tr>\n",
       "    <tr>\n",
       "      <th>Эквайринг</th>\n",
       "      <td>80.517184</td>\n",
       "      <td>72.968866</td>\n",
       "      <td>183</td>\n",
       "      <td>284</td>\n",
       "      <td>183</td>\n",
       "      <td>284</td>\n",
       "    </tr>\n",
       "    <tr>\n",
       "      <th rowspan=\"5\" valign=\"top\">Массовый</th>\n",
       "      <th>Банковская карта</th>\n",
       "      <td>13.310203</td>\n",
       "      <td>11.726557</td>\n",
       "      <td>895</td>\n",
       "      <td>2636</td>\n",
       "      <td>895</td>\n",
       "      <td>2636</td>\n",
       "    </tr>\n",
       "    <tr>\n",
       "      <th>Депозит</th>\n",
       "      <td>28.747545</td>\n",
       "      <td>25.219855</td>\n",
       "      <td>3537</td>\n",
       "      <td>4345</td>\n",
       "      <td>3537</td>\n",
       "      <td>4345</td>\n",
       "    </tr>\n",
       "    <tr>\n",
       "      <th>Кредит</th>\n",
       "      <td>59.219407</td>\n",
       "      <td>67.109774</td>\n",
       "      <td>5247</td>\n",
       "      <td>7845</td>\n",
       "      <td>5247</td>\n",
       "      <td>7845</td>\n",
       "    </tr>\n",
       "    <tr>\n",
       "      <th>РКО</th>\n",
       "      <td>5.795114</td>\n",
       "      <td>5.566726</td>\n",
       "      <td>16728</td>\n",
       "      <td>16700</td>\n",
       "      <td>16728</td>\n",
       "      <td>16700</td>\n",
       "    </tr>\n",
       "    <tr>\n",
       "      <th>Эквайринг</th>\n",
       "      <td>19.627608</td>\n",
       "      <td>17.348344</td>\n",
       "      <td>2625</td>\n",
       "      <td>4424</td>\n",
       "      <td>2625</td>\n",
       "      <td>4424</td>\n",
       "    </tr>\n",
       "    <tr>\n",
       "      <th rowspan=\"5\" valign=\"top\">Стандартный</th>\n",
       "      <th>Банковская карта</th>\n",
       "      <td>26.421616</td>\n",
       "      <td>22.436106</td>\n",
       "      <td>338</td>\n",
       "      <td>917</td>\n",
       "      <td>338</td>\n",
       "      <td>917</td>\n",
       "    </tr>\n",
       "    <tr>\n",
       "      <th>Депозит</th>\n",
       "      <td>60.994262</td>\n",
       "      <td>49.332790</td>\n",
       "      <td>1292</td>\n",
       "      <td>1570</td>\n",
       "      <td>1292</td>\n",
       "      <td>1570</td>\n",
       "    </tr>\n",
       "    <tr>\n",
       "      <th>Кредит</th>\n",
       "      <td>120.101219</td>\n",
       "      <td>131.611788</td>\n",
       "      <td>1871</td>\n",
       "      <td>2871</td>\n",
       "      <td>1871</td>\n",
       "      <td>2871</td>\n",
       "    </tr>\n",
       "    <tr>\n",
       "      <th>РКО</th>\n",
       "      <td>11.418812</td>\n",
       "      <td>10.983568</td>\n",
       "      <td>5907</td>\n",
       "      <td>5870</td>\n",
       "      <td>5907</td>\n",
       "      <td>5870</td>\n",
       "    </tr>\n",
       "    <tr>\n",
       "      <th>Эквайринг</th>\n",
       "      <td>39.329551</td>\n",
       "      <td>35.046014</td>\n",
       "      <td>962</td>\n",
       "      <td>1590</td>\n",
       "      <td>962</td>\n",
       "      <td>1590</td>\n",
       "    </tr>\n",
       "  </tbody>\n",
       "</table>\n",
       "</div>"
      ],
      "text/plain": [
       "                                    mean                 count                \\\n",
       "                                      pl             client_id            pl   \n",
       "period                               p_1         p_2       p_1    p_2    p_1   \n",
       "segment     product                                                            \n",
       "Верхний     Банковская карта   60.571545   51.770009        49    167     49   \n",
       "            Депозит           112.474520   99.260623       254    283    254   \n",
       "            Кредит            236.938710  248.191513       360    548    360   \n",
       "            РКО                22.847632   22.064079      1149   1162   1149   \n",
       "            Эквайринг          80.517184   72.968866       183    284    183   \n",
       "Массовый    Банковская карта   13.310203   11.726557       895   2636    895   \n",
       "            Депозит            28.747545   25.219855      3537   4345   3537   \n",
       "            Кредит             59.219407   67.109774      5247   7845   5247   \n",
       "            РКО                 5.795114    5.566726     16728  16700  16728   \n",
       "            Эквайринг          19.627608   17.348344      2625   4424   2625   \n",
       "Стандартный Банковская карта   26.421616   22.436106       338    917    338   \n",
       "            Депозит            60.994262   49.332790      1292   1570   1292   \n",
       "            Кредит            120.101219  131.611788      1871   2871   1871   \n",
       "            РКО                11.418812   10.983568      5907   5870   5907   \n",
       "            Эквайринг          39.329551   35.046014       962   1590    962   \n",
       "\n",
       "                                     \n",
       "                                     \n",
       "period                          p_2  \n",
       "segment     product                  \n",
       "Верхний     Банковская карта    167  \n",
       "            Депозит             283  \n",
       "            Кредит              548  \n",
       "            РКО                1162  \n",
       "            Эквайринг           284  \n",
       "Массовый    Банковская карта   2636  \n",
       "            Депозит            4345  \n",
       "            Кредит             7845  \n",
       "            РКО               16700  \n",
       "            Эквайринг          4424  \n",
       "Стандартный Банковская карта    917  \n",
       "            Депозит            1570  \n",
       "            Кредит             2871  \n",
       "            РКО                5870  \n",
       "            Эквайринг          1590  "
      ]
     },
     "execution_count": 5,
     "metadata": {},
     "output_type": "execute_result"
    }
   ],
   "source": [
    "pl_df.pivot_table(['pl', 'client_id'], ['segment', 'product'], 'period', aggfunc=['mean', 'count'])"
   ]
  },
  {
   "cell_type": "code",
   "execution_count": 6,
   "id": "015d2456-3617-452b-b8e6-63cecba570e8",
   "metadata": {},
   "outputs": [
    {
     "data": {
      "text/html": [
       "<div>\n",
       "<style scoped>\n",
       "    .dataframe tbody tr th:only-of-type {\n",
       "        vertical-align: middle;\n",
       "    }\n",
       "\n",
       "    .dataframe tbody tr th {\n",
       "        vertical-align: top;\n",
       "    }\n",
       "\n",
       "    .dataframe thead tr th {\n",
       "        text-align: left;\n",
       "    }\n",
       "\n",
       "    .dataframe thead tr:last-of-type th {\n",
       "        text-align: right;\n",
       "    }\n",
       "</style>\n",
       "<table border=\"1\" class=\"dataframe\">\n",
       "  <thead>\n",
       "    <tr>\n",
       "      <th></th>\n",
       "      <th></th>\n",
       "      <th colspan=\"2\" halign=\"left\">client_id</th>\n",
       "      <th colspan=\"4\" halign=\"left\">pl</th>\n",
       "    </tr>\n",
       "    <tr>\n",
       "      <th></th>\n",
       "      <th></th>\n",
       "      <th colspan=\"2\" halign=\"left\">count</th>\n",
       "      <th colspan=\"2\" halign=\"left\">mean</th>\n",
       "      <th colspan=\"2\" halign=\"left\">sum</th>\n",
       "    </tr>\n",
       "    <tr>\n",
       "      <th></th>\n",
       "      <th>period</th>\n",
       "      <th>p_1</th>\n",
       "      <th>p_2</th>\n",
       "      <th>p_1</th>\n",
       "      <th>p_2</th>\n",
       "      <th>p_1</th>\n",
       "      <th>p_2</th>\n",
       "    </tr>\n",
       "    <tr>\n",
       "      <th>segment</th>\n",
       "      <th>product</th>\n",
       "      <th></th>\n",
       "      <th></th>\n",
       "      <th></th>\n",
       "      <th></th>\n",
       "      <th></th>\n",
       "      <th></th>\n",
       "    </tr>\n",
       "  </thead>\n",
       "  <tbody>\n",
       "    <tr>\n",
       "      <th rowspan=\"5\" valign=\"top\">Верхний</th>\n",
       "      <th>Банковская карта</th>\n",
       "      <td>49</td>\n",
       "      <td>167</td>\n",
       "      <td>60.571545</td>\n",
       "      <td>51.770009</td>\n",
       "      <td>2968.005722</td>\n",
       "      <td>8645.591583</td>\n",
       "    </tr>\n",
       "    <tr>\n",
       "      <th>Депозит</th>\n",
       "      <td>254</td>\n",
       "      <td>283</td>\n",
       "      <td>112.474520</td>\n",
       "      <td>99.260623</td>\n",
       "      <td>28568.528169</td>\n",
       "      <td>28090.756271</td>\n",
       "    </tr>\n",
       "    <tr>\n",
       "      <th>Кредит</th>\n",
       "      <td>360</td>\n",
       "      <td>548</td>\n",
       "      <td>236.938710</td>\n",
       "      <td>248.191513</td>\n",
       "      <td>85297.935527</td>\n",
       "      <td>136008.949279</td>\n",
       "    </tr>\n",
       "    <tr>\n",
       "      <th>РКО</th>\n",
       "      <td>1149</td>\n",
       "      <td>1162</td>\n",
       "      <td>22.847632</td>\n",
       "      <td>22.064079</td>\n",
       "      <td>26251.929445</td>\n",
       "      <td>25638.459448</td>\n",
       "    </tr>\n",
       "    <tr>\n",
       "      <th>Эквайринг</th>\n",
       "      <td>183</td>\n",
       "      <td>284</td>\n",
       "      <td>80.517184</td>\n",
       "      <td>72.968866</td>\n",
       "      <td>14734.644751</td>\n",
       "      <td>20723.157814</td>\n",
       "    </tr>\n",
       "    <tr>\n",
       "      <th rowspan=\"5\" valign=\"top\">Массовый</th>\n",
       "      <th>Банковская карта</th>\n",
       "      <td>895</td>\n",
       "      <td>2636</td>\n",
       "      <td>13.310203</td>\n",
       "      <td>11.726557</td>\n",
       "      <td>11912.631687</td>\n",
       "      <td>30911.203026</td>\n",
       "    </tr>\n",
       "    <tr>\n",
       "      <th>Депозит</th>\n",
       "      <td>3537</td>\n",
       "      <td>4345</td>\n",
       "      <td>28.747545</td>\n",
       "      <td>25.219855</td>\n",
       "      <td>101680.067703</td>\n",
       "      <td>109580.268403</td>\n",
       "    </tr>\n",
       "    <tr>\n",
       "      <th>Кредит</th>\n",
       "      <td>5247</td>\n",
       "      <td>7845</td>\n",
       "      <td>59.219407</td>\n",
       "      <td>67.109774</td>\n",
       "      <td>310724.231052</td>\n",
       "      <td>526476.177132</td>\n",
       "    </tr>\n",
       "    <tr>\n",
       "      <th>РКО</th>\n",
       "      <td>16728</td>\n",
       "      <td>16700</td>\n",
       "      <td>5.795114</td>\n",
       "      <td>5.566726</td>\n",
       "      <td>96940.659699</td>\n",
       "      <td>92964.322441</td>\n",
       "    </tr>\n",
       "    <tr>\n",
       "      <th>Эквайринг</th>\n",
       "      <td>2625</td>\n",
       "      <td>4424</td>\n",
       "      <td>19.627608</td>\n",
       "      <td>17.348344</td>\n",
       "      <td>51522.470650</td>\n",
       "      <td>76749.072807</td>\n",
       "    </tr>\n",
       "    <tr>\n",
       "      <th rowspan=\"5\" valign=\"top\">Стандартный</th>\n",
       "      <th>Банковская карта</th>\n",
       "      <td>338</td>\n",
       "      <td>917</td>\n",
       "      <td>26.421616</td>\n",
       "      <td>22.436106</td>\n",
       "      <td>8930.506181</td>\n",
       "      <td>20573.908977</td>\n",
       "    </tr>\n",
       "    <tr>\n",
       "      <th>Депозит</th>\n",
       "      <td>1292</td>\n",
       "      <td>1570</td>\n",
       "      <td>60.994262</td>\n",
       "      <td>49.332790</td>\n",
       "      <td>78804.586529</td>\n",
       "      <td>77452.480043</td>\n",
       "    </tr>\n",
       "    <tr>\n",
       "      <th>Кредит</th>\n",
       "      <td>1871</td>\n",
       "      <td>2871</td>\n",
       "      <td>120.101219</td>\n",
       "      <td>131.611788</td>\n",
       "      <td>224709.381560</td>\n",
       "      <td>377857.442886</td>\n",
       "    </tr>\n",
       "    <tr>\n",
       "      <th>РКО</th>\n",
       "      <td>5907</td>\n",
       "      <td>5870</td>\n",
       "      <td>11.418812</td>\n",
       "      <td>10.983568</td>\n",
       "      <td>67450.919956</td>\n",
       "      <td>64473.542687</td>\n",
       "    </tr>\n",
       "    <tr>\n",
       "      <th>Эквайринг</th>\n",
       "      <td>962</td>\n",
       "      <td>1590</td>\n",
       "      <td>39.329551</td>\n",
       "      <td>35.046014</td>\n",
       "      <td>37835.028014</td>\n",
       "      <td>55723.162104</td>\n",
       "    </tr>\n",
       "  </tbody>\n",
       "</table>\n",
       "</div>"
      ],
      "text/plain": [
       "                             client_id                 pl              \\\n",
       "                                 count               mean               \n",
       "period                             p_1    p_2         p_1         p_2   \n",
       "segment     product                                                     \n",
       "Верхний     Банковская карта        49    167   60.571545   51.770009   \n",
       "            Депозит                254    283  112.474520   99.260623   \n",
       "            Кредит                 360    548  236.938710  248.191513   \n",
       "            РКО                   1149   1162   22.847632   22.064079   \n",
       "            Эквайринг              183    284   80.517184   72.968866   \n",
       "Массовый    Банковская карта       895   2636   13.310203   11.726557   \n",
       "            Депозит               3537   4345   28.747545   25.219855   \n",
       "            Кредит                5247   7845   59.219407   67.109774   \n",
       "            РКО                  16728  16700    5.795114    5.566726   \n",
       "            Эквайринг             2625   4424   19.627608   17.348344   \n",
       "Стандартный Банковская карта       338    917   26.421616   22.436106   \n",
       "            Депозит               1292   1570   60.994262   49.332790   \n",
       "            Кредит                1871   2871  120.101219  131.611788   \n",
       "            РКО                   5907   5870   11.418812   10.983568   \n",
       "            Эквайринг              962   1590   39.329551   35.046014   \n",
       "\n",
       "                                                            \n",
       "                                        sum                 \n",
       "period                                  p_1            p_2  \n",
       "segment     product                                         \n",
       "Верхний     Банковская карта    2968.005722    8645.591583  \n",
       "            Депозит            28568.528169   28090.756271  \n",
       "            Кредит             85297.935527  136008.949279  \n",
       "            РКО                26251.929445   25638.459448  \n",
       "            Эквайринг          14734.644751   20723.157814  \n",
       "Массовый    Банковская карта   11912.631687   30911.203026  \n",
       "            Депозит           101680.067703  109580.268403  \n",
       "            Кредит            310724.231052  526476.177132  \n",
       "            РКО                96940.659699   92964.322441  \n",
       "            Эквайринг          51522.470650   76749.072807  \n",
       "Стандартный Банковская карта    8930.506181   20573.908977  \n",
       "            Депозит            78804.586529   77452.480043  \n",
       "            Кредит            224709.381560  377857.442886  \n",
       "            РКО                67450.919956   64473.542687  \n",
       "            Эквайринг          37835.028014   55723.162104  "
      ]
     },
     "execution_count": 6,
     "metadata": {},
     "output_type": "execute_result"
    }
   ],
   "source": [
    "pl_df.pivot_table(['pl', 'client_id'], ['segment', 'product'], 'period', aggfunc={'pl': ['mean', 'sum'], 'client_id': 'count'})"
   ]
  },
  {
   "cell_type": "code",
   "execution_count": 13,
   "id": "2c499dfc-e94d-4a26-986c-7ddbe74b0c7c",
   "metadata": {},
   "outputs": [
    {
     "data": {
      "text/html": [
       "<style type=\"text/css\">\n",
       "#T_f186b_row0_col0 {\n",
       "  background-color: #d3d4e7;\n",
       "  color: #000000;\n",
       "}\n",
       "#T_f186b_row0_col1 {\n",
       "  background-color: #dedcec;\n",
       "  color: #000000;\n",
       "}\n",
       "#T_f186b_row1_col0 {\n",
       "  background-color: #83afd3;\n",
       "  color: #f1f1f1;\n",
       "}\n",
       "#T_f186b_row1_col1 {\n",
       "  background-color: #a2bcda;\n",
       "  color: #000000;\n",
       "}\n",
       "#T_f186b_row2_col0, #T_f186b_row2_col1 {\n",
       "  background-color: #023858;\n",
       "  color: #f1f1f1;\n",
       "}\n",
       "#T_f186b_row3_col0 {\n",
       "  background-color: #f4eef6;\n",
       "  color: #000000;\n",
       "}\n",
       "#T_f186b_row3_col1, #T_f186b_row10_col1 {\n",
       "  background-color: #f5eef6;\n",
       "  color: #000000;\n",
       "}\n",
       "#T_f186b_row4_col0 {\n",
       "  background-color: #b8c6e0;\n",
       "  color: #000000;\n",
       "}\n",
       "#T_f186b_row4_col1 {\n",
       "  background-color: #c6cce3;\n",
       "  color: #000000;\n",
       "}\n",
       "#T_f186b_row5_col0 {\n",
       "  background-color: #faf3f9;\n",
       "  color: #000000;\n",
       "}\n",
       "#T_f186b_row5_col1, #T_f186b_row13_col0 {\n",
       "  background-color: #fbf4f9;\n",
       "  color: #000000;\n",
       "}\n",
       "#T_f186b_row6_col0 {\n",
       "  background-color: #f0eaf4;\n",
       "  color: #000000;\n",
       "}\n",
       "#T_f186b_row6_col1 {\n",
       "  background-color: #f3edf5;\n",
       "  color: #000000;\n",
       "}\n",
       "#T_f186b_row7_col0 {\n",
       "  background-color: #d4d4e8;\n",
       "  color: #000000;\n",
       "}\n",
       "#T_f186b_row7_col1 {\n",
       "  background-color: #d0d1e6;\n",
       "  color: #000000;\n",
       "}\n",
       "#T_f186b_row8_col0, #T_f186b_row8_col1 {\n",
       "  background-color: #fff7fb;\n",
       "  color: #000000;\n",
       "}\n",
       "#T_f186b_row9_col0 {\n",
       "  background-color: #f6eff7;\n",
       "  color: #000000;\n",
       "}\n",
       "#T_f186b_row9_col1 {\n",
       "  background-color: #f8f1f8;\n",
       "  color: #000000;\n",
       "}\n",
       "#T_f186b_row10_col0 {\n",
       "  background-color: #f2ecf5;\n",
       "  color: #000000;\n",
       "}\n",
       "#T_f186b_row11_col0 {\n",
       "  background-color: #d2d3e7;\n",
       "  color: #000000;\n",
       "}\n",
       "#T_f186b_row11_col1 {\n",
       "  background-color: #e0dded;\n",
       "  color: #000000;\n",
       "}\n",
       "#T_f186b_row12_col0 {\n",
       "  background-color: #76aad0;\n",
       "  color: #f1f1f1;\n",
       "}\n",
       "#T_f186b_row12_col1 {\n",
       "  background-color: #6ba5cd;\n",
       "  color: #f1f1f1;\n",
       "}\n",
       "#T_f186b_row13_col1 {\n",
       "  background-color: #fcf4fa;\n",
       "  color: #000000;\n",
       "}\n",
       "#T_f186b_row14_col0 {\n",
       "  background-color: #e7e3f0;\n",
       "  color: #000000;\n",
       "}\n",
       "#T_f186b_row14_col1 {\n",
       "  background-color: #ede7f2;\n",
       "  color: #000000;\n",
       "}\n",
       "</style>\n",
       "<table id=\"T_f186b_\">\n",
       "  <thead>\n",
       "    <tr>\n",
       "      <th class=\"blank\" >&nbsp;</th>\n",
       "      <th class=\"index_name level0\" >period</th>\n",
       "      <th class=\"col_heading level0 col0\" >p_1</th>\n",
       "      <th class=\"col_heading level0 col1\" >p_2</th>\n",
       "    </tr>\n",
       "    <tr>\n",
       "      <th class=\"index_name level0\" >segment</th>\n",
       "      <th class=\"index_name level1\" >product</th>\n",
       "      <th class=\"blank col0\" >&nbsp;</th>\n",
       "      <th class=\"blank col1\" >&nbsp;</th>\n",
       "    </tr>\n",
       "  </thead>\n",
       "  <tbody>\n",
       "    <tr>\n",
       "      <th id=\"T_f186b_level0_row0\" class=\"row_heading level0 row0\" rowspan=\"5\">Верхний</th>\n",
       "      <th id=\"T_f186b_level1_row0\" class=\"row_heading level1 row0\" >Банковская карта</th>\n",
       "      <td id=\"T_f186b_row0_col0\" class=\"data row0 col0\" >60.571545</td>\n",
       "      <td id=\"T_f186b_row0_col1\" class=\"data row0 col1\" >51.770009</td>\n",
       "    </tr>\n",
       "    <tr>\n",
       "      <th id=\"T_f186b_level1_row1\" class=\"row_heading level1 row1\" >Депозит</th>\n",
       "      <td id=\"T_f186b_row1_col0\" class=\"data row1 col0\" >112.474520</td>\n",
       "      <td id=\"T_f186b_row1_col1\" class=\"data row1 col1\" >99.260623</td>\n",
       "    </tr>\n",
       "    <tr>\n",
       "      <th id=\"T_f186b_level1_row2\" class=\"row_heading level1 row2\" >Кредит</th>\n",
       "      <td id=\"T_f186b_row2_col0\" class=\"data row2 col0\" >236.938710</td>\n",
       "      <td id=\"T_f186b_row2_col1\" class=\"data row2 col1\" >248.191513</td>\n",
       "    </tr>\n",
       "    <tr>\n",
       "      <th id=\"T_f186b_level1_row3\" class=\"row_heading level1 row3\" >РКО</th>\n",
       "      <td id=\"T_f186b_row3_col0\" class=\"data row3 col0\" >22.847632</td>\n",
       "      <td id=\"T_f186b_row3_col1\" class=\"data row3 col1\" >22.064079</td>\n",
       "    </tr>\n",
       "    <tr>\n",
       "      <th id=\"T_f186b_level1_row4\" class=\"row_heading level1 row4\" >Эквайринг</th>\n",
       "      <td id=\"T_f186b_row4_col0\" class=\"data row4 col0\" >80.517184</td>\n",
       "      <td id=\"T_f186b_row4_col1\" class=\"data row4 col1\" >72.968866</td>\n",
       "    </tr>\n",
       "    <tr>\n",
       "      <th id=\"T_f186b_level0_row5\" class=\"row_heading level0 row5\" rowspan=\"5\">Массовый</th>\n",
       "      <th id=\"T_f186b_level1_row5\" class=\"row_heading level1 row5\" >Банковская карта</th>\n",
       "      <td id=\"T_f186b_row5_col0\" class=\"data row5 col0\" >13.310203</td>\n",
       "      <td id=\"T_f186b_row5_col1\" class=\"data row5 col1\" >11.726557</td>\n",
       "    </tr>\n",
       "    <tr>\n",
       "      <th id=\"T_f186b_level1_row6\" class=\"row_heading level1 row6\" >Депозит</th>\n",
       "      <td id=\"T_f186b_row6_col0\" class=\"data row6 col0\" >28.747545</td>\n",
       "      <td id=\"T_f186b_row6_col1\" class=\"data row6 col1\" >25.219855</td>\n",
       "    </tr>\n",
       "    <tr>\n",
       "      <th id=\"T_f186b_level1_row7\" class=\"row_heading level1 row7\" >Кредит</th>\n",
       "      <td id=\"T_f186b_row7_col0\" class=\"data row7 col0\" >59.219407</td>\n",
       "      <td id=\"T_f186b_row7_col1\" class=\"data row7 col1\" >67.109774</td>\n",
       "    </tr>\n",
       "    <tr>\n",
       "      <th id=\"T_f186b_level1_row8\" class=\"row_heading level1 row8\" >РКО</th>\n",
       "      <td id=\"T_f186b_row8_col0\" class=\"data row8 col0\" >5.795114</td>\n",
       "      <td id=\"T_f186b_row8_col1\" class=\"data row8 col1\" >5.566726</td>\n",
       "    </tr>\n",
       "    <tr>\n",
       "      <th id=\"T_f186b_level1_row9\" class=\"row_heading level1 row9\" >Эквайринг</th>\n",
       "      <td id=\"T_f186b_row9_col0\" class=\"data row9 col0\" >19.627608</td>\n",
       "      <td id=\"T_f186b_row9_col1\" class=\"data row9 col1\" >17.348344</td>\n",
       "    </tr>\n",
       "    <tr>\n",
       "      <th id=\"T_f186b_level0_row10\" class=\"row_heading level0 row10\" rowspan=\"5\">Стандартный</th>\n",
       "      <th id=\"T_f186b_level1_row10\" class=\"row_heading level1 row10\" >Банковская карта</th>\n",
       "      <td id=\"T_f186b_row10_col0\" class=\"data row10 col0\" >26.421616</td>\n",
       "      <td id=\"T_f186b_row10_col1\" class=\"data row10 col1\" >22.436106</td>\n",
       "    </tr>\n",
       "    <tr>\n",
       "      <th id=\"T_f186b_level1_row11\" class=\"row_heading level1 row11\" >Депозит</th>\n",
       "      <td id=\"T_f186b_row11_col0\" class=\"data row11 col0\" >60.994262</td>\n",
       "      <td id=\"T_f186b_row11_col1\" class=\"data row11 col1\" >49.332790</td>\n",
       "    </tr>\n",
       "    <tr>\n",
       "      <th id=\"T_f186b_level1_row12\" class=\"row_heading level1 row12\" >Кредит</th>\n",
       "      <td id=\"T_f186b_row12_col0\" class=\"data row12 col0\" >120.101219</td>\n",
       "      <td id=\"T_f186b_row12_col1\" class=\"data row12 col1\" >131.611788</td>\n",
       "    </tr>\n",
       "    <tr>\n",
       "      <th id=\"T_f186b_level1_row13\" class=\"row_heading level1 row13\" >РКО</th>\n",
       "      <td id=\"T_f186b_row13_col0\" class=\"data row13 col0\" >11.418812</td>\n",
       "      <td id=\"T_f186b_row13_col1\" class=\"data row13 col1\" >10.983568</td>\n",
       "    </tr>\n",
       "    <tr>\n",
       "      <th id=\"T_f186b_level1_row14\" class=\"row_heading level1 row14\" >Эквайринг</th>\n",
       "      <td id=\"T_f186b_row14_col0\" class=\"data row14 col0\" >39.329551</td>\n",
       "      <td id=\"T_f186b_row14_col1\" class=\"data row14 col1\" >35.046014</td>\n",
       "    </tr>\n",
       "  </tbody>\n",
       "</table>\n"
      ],
      "text/plain": [
       "<pandas.io.formats.style.Styler at 0x26ff4ca89c8>"
      ]
     },
     "execution_count": 13,
     "metadata": {},
     "output_type": "execute_result"
    }
   ],
   "source": [
    "pl_df.pivot_table('pl', ['segment', 'product'], 'period').style.background_gradient()"
   ]
  },
  {
   "cell_type": "code",
   "execution_count": 8,
   "id": "44712cc7-087f-4ae0-bcd8-fd1b80ebe8f9",
   "metadata": {},
   "outputs": [
    {
     "data": {
      "text/html": [
       "<style type=\"text/css\">\n",
       "#T_bdd36_row0_col0, #T_bdd36_row0_col1, #T_bdd36_row0_col4, #T_bdd36_row0_col5, #T_bdd36_row8_col2, #T_bdd36_row8_col3 {\n",
       "  background-color: #fff7fb;\n",
       "  color: #000000;\n",
       "}\n",
       "#T_bdd36_row0_col2 {\n",
       "  background-color: #d3d4e7;\n",
       "  color: #000000;\n",
       "}\n",
       "#T_bdd36_row0_col3 {\n",
       "  background-color: #dedcec;\n",
       "  color: #000000;\n",
       "}\n",
       "#T_bdd36_row1_col0, #T_bdd36_row2_col0, #T_bdd36_row10_col0, #T_bdd36_row10_col4 {\n",
       "  background-color: #fdf5fa;\n",
       "  color: #000000;\n",
       "}\n",
       "#T_bdd36_row1_col1, #T_bdd36_row4_col1 {\n",
       "  background-color: #fef6fb;\n",
       "  color: #000000;\n",
       "}\n",
       "#T_bdd36_row1_col2, #T_bdd36_row7_col1 {\n",
       "  background-color: #83afd3;\n",
       "  color: #f1f1f1;\n",
       "}\n",
       "#T_bdd36_row1_col3 {\n",
       "  background-color: #a2bcda;\n",
       "  color: #000000;\n",
       "}\n",
       "#T_bdd36_row1_col4, #T_bdd36_row10_col2, #T_bdd36_row11_col1, #T_bdd36_row14_col1 {\n",
       "  background-color: #f2ecf5;\n",
       "  color: #000000;\n",
       "}\n",
       "#T_bdd36_row1_col5, #T_bdd36_row4_col4 {\n",
       "  background-color: #faf2f8;\n",
       "  color: #000000;\n",
       "}\n",
       "#T_bdd36_row2_col1, #T_bdd36_row4_col5, #T_bdd36_row10_col5, #T_bdd36_row13_col3 {\n",
       "  background-color: #fcf4fa;\n",
       "  color: #000000;\n",
       "}\n",
       "#T_bdd36_row2_col2, #T_bdd36_row2_col3, #T_bdd36_row7_col4, #T_bdd36_row7_col5, #T_bdd36_row8_col0, #T_bdd36_row8_col1 {\n",
       "  background-color: #023858;\n",
       "  color: #f1f1f1;\n",
       "}\n",
       "#T_bdd36_row2_col4 {\n",
       "  background-color: #cacee5;\n",
       "  color: #000000;\n",
       "}\n",
       "#T_bdd36_row2_col5 {\n",
       "  background-color: #d2d2e7;\n",
       "  color: #000000;\n",
       "}\n",
       "#T_bdd36_row3_col0 {\n",
       "  background-color: #f5eff6;\n",
       "  color: #000000;\n",
       "}\n",
       "#T_bdd36_row3_col1, #T_bdd36_row9_col2 {\n",
       "  background-color: #f6eff7;\n",
       "  color: #000000;\n",
       "}\n",
       "#T_bdd36_row3_col2 {\n",
       "  background-color: #f4eef6;\n",
       "  color: #000000;\n",
       "}\n",
       "#T_bdd36_row3_col3, #T_bdd36_row10_col3 {\n",
       "  background-color: #f5eef6;\n",
       "  color: #000000;\n",
       "}\n",
       "#T_bdd36_row3_col4, #T_bdd36_row11_col0 {\n",
       "  background-color: #f4edf6;\n",
       "  color: #000000;\n",
       "}\n",
       "#T_bdd36_row3_col5, #T_bdd36_row5_col2 {\n",
       "  background-color: #faf3f9;\n",
       "  color: #000000;\n",
       "}\n",
       "#T_bdd36_row4_col0 {\n",
       "  background-color: #fef6fa;\n",
       "  color: #000000;\n",
       "}\n",
       "#T_bdd36_row4_col2, #T_bdd36_row6_col4 {\n",
       "  background-color: #b8c6e0;\n",
       "  color: #000000;\n",
       "}\n",
       "#T_bdd36_row4_col3 {\n",
       "  background-color: #c6cce3;\n",
       "  color: #000000;\n",
       "}\n",
       "#T_bdd36_row5_col0, #T_bdd36_row5_col5, #T_bdd36_row9_col3, #T_bdd36_row10_col1 {\n",
       "  background-color: #f8f1f8;\n",
       "  color: #000000;\n",
       "}\n",
       "#T_bdd36_row5_col1, #T_bdd36_row14_col2 {\n",
       "  background-color: #e7e3f0;\n",
       "  color: #000000;\n",
       "}\n",
       "#T_bdd36_row5_col3, #T_bdd36_row13_col2 {\n",
       "  background-color: #fbf4f9;\n",
       "  color: #000000;\n",
       "}\n",
       "#T_bdd36_row5_col4 {\n",
       "  background-color: #fbf3f9;\n",
       "  color: #000000;\n",
       "}\n",
       "#T_bdd36_row6_col0, #T_bdd36_row13_col4 {\n",
       "  background-color: #d9d8ea;\n",
       "  color: #000000;\n",
       "}\n",
       "#T_bdd36_row6_col1, #T_bdd36_row7_col3 {\n",
       "  background-color: #d0d1e6;\n",
       "  color: #000000;\n",
       "}\n",
       "#T_bdd36_row6_col2 {\n",
       "  background-color: #f0eaf4;\n",
       "  color: #000000;\n",
       "}\n",
       "#T_bdd36_row6_col3 {\n",
       "  background-color: #f3edf5;\n",
       "  color: #000000;\n",
       "}\n",
       "#T_bdd36_row6_col5 {\n",
       "  background-color: #dddbec;\n",
       "  color: #000000;\n",
       "}\n",
       "#T_bdd36_row7_col0 {\n",
       "  background-color: #bcc7e1;\n",
       "  color: #000000;\n",
       "}\n",
       "#T_bdd36_row7_col2 {\n",
       "  background-color: #d4d4e8;\n",
       "  color: #000000;\n",
       "}\n",
       "#T_bdd36_row8_col4 {\n",
       "  background-color: #bdc8e1;\n",
       "  color: #000000;\n",
       "}\n",
       "#T_bdd36_row8_col5, #T_bdd36_row12_col1 {\n",
       "  background-color: #e4e1ef;\n",
       "  color: #000000;\n",
       "}\n",
       "#T_bdd36_row9_col0 {\n",
       "  background-color: #e6e2ef;\n",
       "  color: #000000;\n",
       "}\n",
       "#T_bdd36_row9_col1 {\n",
       "  background-color: #ced0e6;\n",
       "  color: #000000;\n",
       "}\n",
       "#T_bdd36_row9_col4 {\n",
       "  background-color: #e5e1ef;\n",
       "  color: #000000;\n",
       "}\n",
       "#T_bdd36_row9_col5 {\n",
       "  background-color: #ebe6f2;\n",
       "  color: #000000;\n",
       "}\n",
       "#T_bdd36_row11_col2 {\n",
       "  background-color: #d2d3e7;\n",
       "  color: #000000;\n",
       "}\n",
       "#T_bdd36_row11_col3 {\n",
       "  background-color: #e0dded;\n",
       "  color: #000000;\n",
       "}\n",
       "#T_bdd36_row11_col4 {\n",
       "  background-color: #d1d2e6;\n",
       "  color: #000000;\n",
       "}\n",
       "#T_bdd36_row11_col5 {\n",
       "  background-color: #eae6f1;\n",
       "  color: #000000;\n",
       "}\n",
       "#T_bdd36_row12_col0, #T_bdd36_row13_col5 {\n",
       "  background-color: #efe9f3;\n",
       "  color: #000000;\n",
       "}\n",
       "#T_bdd36_row12_col2 {\n",
       "  background-color: #76aad0;\n",
       "  color: #f1f1f1;\n",
       "}\n",
       "#T_bdd36_row12_col3 {\n",
       "  background-color: #6ba5cd;\n",
       "  color: #f1f1f1;\n",
       "}\n",
       "#T_bdd36_row12_col4 {\n",
       "  background-color: #1077b4;\n",
       "  color: #f1f1f1;\n",
       "}\n",
       "#T_bdd36_row12_col5 {\n",
       "  background-color: #1379b5;\n",
       "  color: #f1f1f1;\n",
       "}\n",
       "#T_bdd36_row13_col0 {\n",
       "  background-color: #afc1dd;\n",
       "  color: #000000;\n",
       "}\n",
       "#T_bdd36_row13_col1 {\n",
       "  background-color: #b0c2de;\n",
       "  color: #000000;\n",
       "}\n",
       "#T_bdd36_row14_col0 {\n",
       "  background-color: #f7f0f7;\n",
       "  color: #000000;\n",
       "}\n",
       "#T_bdd36_row14_col3 {\n",
       "  background-color: #ede7f2;\n",
       "  color: #000000;\n",
       "}\n",
       "#T_bdd36_row14_col4 {\n",
       "  background-color: #eee8f3;\n",
       "  color: #000000;\n",
       "}\n",
       "#T_bdd36_row14_col5 {\n",
       "  background-color: #f1ebf5;\n",
       "  color: #000000;\n",
       "}\n",
       "</style>\n",
       "<table id=\"T_bdd36_\">\n",
       "  <thead>\n",
       "    <tr>\n",
       "      <th class=\"blank\" >&nbsp;</th>\n",
       "      <th class=\"blank level0\" >&nbsp;</th>\n",
       "      <th class=\"col_heading level0 col0\" colspan=\"2\">client_id</th>\n",
       "      <th class=\"col_heading level0 col2\" colspan=\"4\">pl</th>\n",
       "    </tr>\n",
       "    <tr>\n",
       "      <th class=\"blank\" >&nbsp;</th>\n",
       "      <th class=\"blank level1\" >&nbsp;</th>\n",
       "      <th class=\"col_heading level1 col0\" colspan=\"2\">count</th>\n",
       "      <th class=\"col_heading level1 col2\" colspan=\"2\">mean</th>\n",
       "      <th class=\"col_heading level1 col4\" colspan=\"2\">sum</th>\n",
       "    </tr>\n",
       "    <tr>\n",
       "      <th class=\"blank\" >&nbsp;</th>\n",
       "      <th class=\"index_name level2\" >period</th>\n",
       "      <th class=\"col_heading level2 col0\" >p_1</th>\n",
       "      <th class=\"col_heading level2 col1\" >p_2</th>\n",
       "      <th class=\"col_heading level2 col2\" >p_1</th>\n",
       "      <th class=\"col_heading level2 col3\" >p_2</th>\n",
       "      <th class=\"col_heading level2 col4\" >p_1</th>\n",
       "      <th class=\"col_heading level2 col5\" >p_2</th>\n",
       "    </tr>\n",
       "    <tr>\n",
       "      <th class=\"index_name level0\" >segment</th>\n",
       "      <th class=\"index_name level1\" >product</th>\n",
       "      <th class=\"blank col0\" >&nbsp;</th>\n",
       "      <th class=\"blank col1\" >&nbsp;</th>\n",
       "      <th class=\"blank col2\" >&nbsp;</th>\n",
       "      <th class=\"blank col3\" >&nbsp;</th>\n",
       "      <th class=\"blank col4\" >&nbsp;</th>\n",
       "      <th class=\"blank col5\" >&nbsp;</th>\n",
       "    </tr>\n",
       "  </thead>\n",
       "  <tbody>\n",
       "    <tr>\n",
       "      <th id=\"T_bdd36_level0_row0\" class=\"row_heading level0 row0\" rowspan=\"5\">Верхний</th>\n",
       "      <th id=\"T_bdd36_level1_row0\" class=\"row_heading level1 row0\" >Банковская карта</th>\n",
       "      <td id=\"T_bdd36_row0_col0\" class=\"data row0 col0\" >49</td>\n",
       "      <td id=\"T_bdd36_row0_col1\" class=\"data row0 col1\" >167</td>\n",
       "      <td id=\"T_bdd36_row0_col2\" class=\"data row0 col2\" >60.571545</td>\n",
       "      <td id=\"T_bdd36_row0_col3\" class=\"data row0 col3\" >51.770009</td>\n",
       "      <td id=\"T_bdd36_row0_col4\" class=\"data row0 col4\" >2968.005722</td>\n",
       "      <td id=\"T_bdd36_row0_col5\" class=\"data row0 col5\" >8645.591583</td>\n",
       "    </tr>\n",
       "    <tr>\n",
       "      <th id=\"T_bdd36_level1_row1\" class=\"row_heading level1 row1\" >Депозит</th>\n",
       "      <td id=\"T_bdd36_row1_col0\" class=\"data row1 col0\" >254</td>\n",
       "      <td id=\"T_bdd36_row1_col1\" class=\"data row1 col1\" >283</td>\n",
       "      <td id=\"T_bdd36_row1_col2\" class=\"data row1 col2\" >112.474520</td>\n",
       "      <td id=\"T_bdd36_row1_col3\" class=\"data row1 col3\" >99.260623</td>\n",
       "      <td id=\"T_bdd36_row1_col4\" class=\"data row1 col4\" >28568.528169</td>\n",
       "      <td id=\"T_bdd36_row1_col5\" class=\"data row1 col5\" >28090.756271</td>\n",
       "    </tr>\n",
       "    <tr>\n",
       "      <th id=\"T_bdd36_level1_row2\" class=\"row_heading level1 row2\" >Кредит</th>\n",
       "      <td id=\"T_bdd36_row2_col0\" class=\"data row2 col0\" >360</td>\n",
       "      <td id=\"T_bdd36_row2_col1\" class=\"data row2 col1\" >548</td>\n",
       "      <td id=\"T_bdd36_row2_col2\" class=\"data row2 col2\" >236.938710</td>\n",
       "      <td id=\"T_bdd36_row2_col3\" class=\"data row2 col3\" >248.191513</td>\n",
       "      <td id=\"T_bdd36_row2_col4\" class=\"data row2 col4\" >85297.935527</td>\n",
       "      <td id=\"T_bdd36_row2_col5\" class=\"data row2 col5\" >136008.949279</td>\n",
       "    </tr>\n",
       "    <tr>\n",
       "      <th id=\"T_bdd36_level1_row3\" class=\"row_heading level1 row3\" >РКО</th>\n",
       "      <td id=\"T_bdd36_row3_col0\" class=\"data row3 col0\" >1149</td>\n",
       "      <td id=\"T_bdd36_row3_col1\" class=\"data row3 col1\" >1162</td>\n",
       "      <td id=\"T_bdd36_row3_col2\" class=\"data row3 col2\" >22.847632</td>\n",
       "      <td id=\"T_bdd36_row3_col3\" class=\"data row3 col3\" >22.064079</td>\n",
       "      <td id=\"T_bdd36_row3_col4\" class=\"data row3 col4\" >26251.929445</td>\n",
       "      <td id=\"T_bdd36_row3_col5\" class=\"data row3 col5\" >25638.459448</td>\n",
       "    </tr>\n",
       "    <tr>\n",
       "      <th id=\"T_bdd36_level1_row4\" class=\"row_heading level1 row4\" >Эквайринг</th>\n",
       "      <td id=\"T_bdd36_row4_col0\" class=\"data row4 col0\" >183</td>\n",
       "      <td id=\"T_bdd36_row4_col1\" class=\"data row4 col1\" >284</td>\n",
       "      <td id=\"T_bdd36_row4_col2\" class=\"data row4 col2\" >80.517184</td>\n",
       "      <td id=\"T_bdd36_row4_col3\" class=\"data row4 col3\" >72.968866</td>\n",
       "      <td id=\"T_bdd36_row4_col4\" class=\"data row4 col4\" >14734.644751</td>\n",
       "      <td id=\"T_bdd36_row4_col5\" class=\"data row4 col5\" >20723.157814</td>\n",
       "    </tr>\n",
       "    <tr>\n",
       "      <th id=\"T_bdd36_level0_row5\" class=\"row_heading level0 row5\" rowspan=\"5\">Массовый</th>\n",
       "      <th id=\"T_bdd36_level1_row5\" class=\"row_heading level1 row5\" >Банковская карта</th>\n",
       "      <td id=\"T_bdd36_row5_col0\" class=\"data row5 col0\" >895</td>\n",
       "      <td id=\"T_bdd36_row5_col1\" class=\"data row5 col1\" >2636</td>\n",
       "      <td id=\"T_bdd36_row5_col2\" class=\"data row5 col2\" >13.310203</td>\n",
       "      <td id=\"T_bdd36_row5_col3\" class=\"data row5 col3\" >11.726557</td>\n",
       "      <td id=\"T_bdd36_row5_col4\" class=\"data row5 col4\" >11912.631687</td>\n",
       "      <td id=\"T_bdd36_row5_col5\" class=\"data row5 col5\" >30911.203026</td>\n",
       "    </tr>\n",
       "    <tr>\n",
       "      <th id=\"T_bdd36_level1_row6\" class=\"row_heading level1 row6\" >Депозит</th>\n",
       "      <td id=\"T_bdd36_row6_col0\" class=\"data row6 col0\" >3537</td>\n",
       "      <td id=\"T_bdd36_row6_col1\" class=\"data row6 col1\" >4345</td>\n",
       "      <td id=\"T_bdd36_row6_col2\" class=\"data row6 col2\" >28.747545</td>\n",
       "      <td id=\"T_bdd36_row6_col3\" class=\"data row6 col3\" >25.219855</td>\n",
       "      <td id=\"T_bdd36_row6_col4\" class=\"data row6 col4\" >101680.067703</td>\n",
       "      <td id=\"T_bdd36_row6_col5\" class=\"data row6 col5\" >109580.268403</td>\n",
       "    </tr>\n",
       "    <tr>\n",
       "      <th id=\"T_bdd36_level1_row7\" class=\"row_heading level1 row7\" >Кредит</th>\n",
       "      <td id=\"T_bdd36_row7_col0\" class=\"data row7 col0\" >5247</td>\n",
       "      <td id=\"T_bdd36_row7_col1\" class=\"data row7 col1\" >7845</td>\n",
       "      <td id=\"T_bdd36_row7_col2\" class=\"data row7 col2\" >59.219407</td>\n",
       "      <td id=\"T_bdd36_row7_col3\" class=\"data row7 col3\" >67.109774</td>\n",
       "      <td id=\"T_bdd36_row7_col4\" class=\"data row7 col4\" >310724.231052</td>\n",
       "      <td id=\"T_bdd36_row7_col5\" class=\"data row7 col5\" >526476.177132</td>\n",
       "    </tr>\n",
       "    <tr>\n",
       "      <th id=\"T_bdd36_level1_row8\" class=\"row_heading level1 row8\" >РКО</th>\n",
       "      <td id=\"T_bdd36_row8_col0\" class=\"data row8 col0\" >16728</td>\n",
       "      <td id=\"T_bdd36_row8_col1\" class=\"data row8 col1\" >16700</td>\n",
       "      <td id=\"T_bdd36_row8_col2\" class=\"data row8 col2\" >5.795114</td>\n",
       "      <td id=\"T_bdd36_row8_col3\" class=\"data row8 col3\" >5.566726</td>\n",
       "      <td id=\"T_bdd36_row8_col4\" class=\"data row8 col4\" >96940.659699</td>\n",
       "      <td id=\"T_bdd36_row8_col5\" class=\"data row8 col5\" >92964.322441</td>\n",
       "    </tr>\n",
       "    <tr>\n",
       "      <th id=\"T_bdd36_level1_row9\" class=\"row_heading level1 row9\" >Эквайринг</th>\n",
       "      <td id=\"T_bdd36_row9_col0\" class=\"data row9 col0\" >2625</td>\n",
       "      <td id=\"T_bdd36_row9_col1\" class=\"data row9 col1\" >4424</td>\n",
       "      <td id=\"T_bdd36_row9_col2\" class=\"data row9 col2\" >19.627608</td>\n",
       "      <td id=\"T_bdd36_row9_col3\" class=\"data row9 col3\" >17.348344</td>\n",
       "      <td id=\"T_bdd36_row9_col4\" class=\"data row9 col4\" >51522.470650</td>\n",
       "      <td id=\"T_bdd36_row9_col5\" class=\"data row9 col5\" >76749.072807</td>\n",
       "    </tr>\n",
       "    <tr>\n",
       "      <th id=\"T_bdd36_level0_row10\" class=\"row_heading level0 row10\" rowspan=\"5\">Стандартный</th>\n",
       "      <th id=\"T_bdd36_level1_row10\" class=\"row_heading level1 row10\" >Банковская карта</th>\n",
       "      <td id=\"T_bdd36_row10_col0\" class=\"data row10 col0\" >338</td>\n",
       "      <td id=\"T_bdd36_row10_col1\" class=\"data row10 col1\" >917</td>\n",
       "      <td id=\"T_bdd36_row10_col2\" class=\"data row10 col2\" >26.421616</td>\n",
       "      <td id=\"T_bdd36_row10_col3\" class=\"data row10 col3\" >22.436106</td>\n",
       "      <td id=\"T_bdd36_row10_col4\" class=\"data row10 col4\" >8930.506181</td>\n",
       "      <td id=\"T_bdd36_row10_col5\" class=\"data row10 col5\" >20573.908977</td>\n",
       "    </tr>\n",
       "    <tr>\n",
       "      <th id=\"T_bdd36_level1_row11\" class=\"row_heading level1 row11\" >Депозит</th>\n",
       "      <td id=\"T_bdd36_row11_col0\" class=\"data row11 col0\" >1292</td>\n",
       "      <td id=\"T_bdd36_row11_col1\" class=\"data row11 col1\" >1570</td>\n",
       "      <td id=\"T_bdd36_row11_col2\" class=\"data row11 col2\" >60.994262</td>\n",
       "      <td id=\"T_bdd36_row11_col3\" class=\"data row11 col3\" >49.332790</td>\n",
       "      <td id=\"T_bdd36_row11_col4\" class=\"data row11 col4\" >78804.586529</td>\n",
       "      <td id=\"T_bdd36_row11_col5\" class=\"data row11 col5\" >77452.480043</td>\n",
       "    </tr>\n",
       "    <tr>\n",
       "      <th id=\"T_bdd36_level1_row12\" class=\"row_heading level1 row12\" >Кредит</th>\n",
       "      <td id=\"T_bdd36_row12_col0\" class=\"data row12 col0\" >1871</td>\n",
       "      <td id=\"T_bdd36_row12_col1\" class=\"data row12 col1\" >2871</td>\n",
       "      <td id=\"T_bdd36_row12_col2\" class=\"data row12 col2\" >120.101219</td>\n",
       "      <td id=\"T_bdd36_row12_col3\" class=\"data row12 col3\" >131.611788</td>\n",
       "      <td id=\"T_bdd36_row12_col4\" class=\"data row12 col4\" >224709.381560</td>\n",
       "      <td id=\"T_bdd36_row12_col5\" class=\"data row12 col5\" >377857.442886</td>\n",
       "    </tr>\n",
       "    <tr>\n",
       "      <th id=\"T_bdd36_level1_row13\" class=\"row_heading level1 row13\" >РКО</th>\n",
       "      <td id=\"T_bdd36_row13_col0\" class=\"data row13 col0\" >5907</td>\n",
       "      <td id=\"T_bdd36_row13_col1\" class=\"data row13 col1\" >5870</td>\n",
       "      <td id=\"T_bdd36_row13_col2\" class=\"data row13 col2\" >11.418812</td>\n",
       "      <td id=\"T_bdd36_row13_col3\" class=\"data row13 col3\" >10.983568</td>\n",
       "      <td id=\"T_bdd36_row13_col4\" class=\"data row13 col4\" >67450.919956</td>\n",
       "      <td id=\"T_bdd36_row13_col5\" class=\"data row13 col5\" >64473.542687</td>\n",
       "    </tr>\n",
       "    <tr>\n",
       "      <th id=\"T_bdd36_level1_row14\" class=\"row_heading level1 row14\" >Эквайринг</th>\n",
       "      <td id=\"T_bdd36_row14_col0\" class=\"data row14 col0\" >962</td>\n",
       "      <td id=\"T_bdd36_row14_col1\" class=\"data row14 col1\" >1590</td>\n",
       "      <td id=\"T_bdd36_row14_col2\" class=\"data row14 col2\" >39.329551</td>\n",
       "      <td id=\"T_bdd36_row14_col3\" class=\"data row14 col3\" >35.046014</td>\n",
       "      <td id=\"T_bdd36_row14_col4\" class=\"data row14 col4\" >37835.028014</td>\n",
       "      <td id=\"T_bdd36_row14_col5\" class=\"data row14 col5\" >55723.162104</td>\n",
       "    </tr>\n",
       "  </tbody>\n",
       "</table>\n"
      ],
      "text/plain": [
       "<pandas.io.formats.style.Styler at 0x19b4b08c848>"
      ]
     },
     "execution_count": 8,
     "metadata": {},
     "output_type": "execute_result"
    }
   ],
   "source": [
    "pl_df.pivot_table(['pl', 'client_id'], ['segment', 'product'], 'period', aggfunc={'pl': ['mean', 'sum'], 'client_id': 'count'}).style.background_gradient()"
   ]
  },
  {
   "cell_type": "code",
   "execution_count": 12,
   "id": "30f36c47-73c1-4674-b86b-0da3a8e601c9",
   "metadata": {},
   "outputs": [
    {
     "data": {
      "text/html": [
       "<div>\n",
       "<style scoped>\n",
       "    .dataframe tbody tr th:only-of-type {\n",
       "        vertical-align: middle;\n",
       "    }\n",
       "\n",
       "    .dataframe tbody tr th {\n",
       "        vertical-align: top;\n",
       "    }\n",
       "\n",
       "    .dataframe thead th {\n",
       "        text-align: right;\n",
       "    }\n",
       "</style>\n",
       "<table border=\"1\" class=\"dataframe\">\n",
       "  <thead>\n",
       "    <tr style=\"text-align: right;\">\n",
       "      <th></th>\n",
       "      <th>segment</th>\n",
       "      <th>period</th>\n",
       "      <th>product</th>\n",
       "      <th>mean_pl</th>\n",
       "      <th>unique_clients</th>\n",
       "    </tr>\n",
       "  </thead>\n",
       "  <tbody>\n",
       "    <tr>\n",
       "      <th>0</th>\n",
       "      <td>Верхний</td>\n",
       "      <td>p_1</td>\n",
       "      <td>Банковская карта</td>\n",
       "      <td>60.571545</td>\n",
       "      <td>49</td>\n",
       "    </tr>\n",
       "    <tr>\n",
       "      <th>1</th>\n",
       "      <td>Верхний</td>\n",
       "      <td>p_1</td>\n",
       "      <td>Депозит</td>\n",
       "      <td>112.474520</td>\n",
       "      <td>254</td>\n",
       "    </tr>\n",
       "    <tr>\n",
       "      <th>2</th>\n",
       "      <td>Верхний</td>\n",
       "      <td>p_1</td>\n",
       "      <td>Кредит</td>\n",
       "      <td>236.938710</td>\n",
       "      <td>360</td>\n",
       "    </tr>\n",
       "    <tr>\n",
       "      <th>3</th>\n",
       "      <td>Верхний</td>\n",
       "      <td>p_1</td>\n",
       "      <td>РКО</td>\n",
       "      <td>22.847632</td>\n",
       "      <td>1149</td>\n",
       "    </tr>\n",
       "    <tr>\n",
       "      <th>4</th>\n",
       "      <td>Верхний</td>\n",
       "      <td>p_1</td>\n",
       "      <td>Эквайринг</td>\n",
       "      <td>80.517184</td>\n",
       "      <td>183</td>\n",
       "    </tr>\n",
       "  </tbody>\n",
       "</table>\n",
       "</div>"
      ],
      "text/plain": [
       "   segment period           product     mean_pl  unique_clients\n",
       "0  Верхний    p_1  Банковская карта   60.571545              49\n",
       "1  Верхний    p_1           Депозит  112.474520             254\n",
       "2  Верхний    p_1            Кредит  236.938710             360\n",
       "3  Верхний    p_1               РКО   22.847632            1149\n",
       "4  Верхний    p_1         Эквайринг   80.517184             183"
      ]
     },
     "execution_count": 12,
     "metadata": {},
     "output_type": "execute_result"
    }
   ],
   "source": [
    "# код из видео\n",
    "(\n",
    "    pl_df\n",
    "    .groupby(['segment', 'period', 'product'])\n",
    "    .agg({\n",
    "        'pl': [('mean_pl', 'mean')],  # квадратные скобки обязательны\n",
    "        'client_id': [('unique_clients', 'nunique')]  # вдруг один пользователь 3 кредита взял\n",
    "    })\n",
    "    .droplevel(0, axis=1)  # автоматический заголовок нам не нужен - мы свой создали\n",
    "    .reset_index()\n",
    "    .head()\n",
    ")"
   ]
  },
  {
   "cell_type": "code",
   "execution_count": 10,
   "id": "17185d93-25b3-4a1c-a9c6-0212e6ea294e",
   "metadata": {},
   "outputs": [
    {
     "data": {
      "text/html": [
       "<div>\n",
       "<style scoped>\n",
       "    .dataframe tbody tr th:only-of-type {\n",
       "        vertical-align: middle;\n",
       "    }\n",
       "\n",
       "    .dataframe tbody tr th {\n",
       "        vertical-align: top;\n",
       "    }\n",
       "\n",
       "    .dataframe thead th {\n",
       "        text-align: right;\n",
       "    }\n",
       "</style>\n",
       "<table border=\"1\" class=\"dataframe\">\n",
       "  <thead>\n",
       "    <tr style=\"text-align: right;\">\n",
       "      <th></th>\n",
       "      <th>segment</th>\n",
       "      <th>period</th>\n",
       "      <th>product</th>\n",
       "      <th>mean_pl</th>\n",
       "      <th>unique_clients</th>\n",
       "    </tr>\n",
       "  </thead>\n",
       "  <tbody>\n",
       "    <tr>\n",
       "      <th>0</th>\n",
       "      <td>Верхний</td>\n",
       "      <td>p_1</td>\n",
       "      <td>Банковская карта</td>\n",
       "      <td>60.571545</td>\n",
       "      <td>49</td>\n",
       "    </tr>\n",
       "    <tr>\n",
       "      <th>1</th>\n",
       "      <td>Верхний</td>\n",
       "      <td>p_1</td>\n",
       "      <td>Депозит</td>\n",
       "      <td>112.474520</td>\n",
       "      <td>254</td>\n",
       "    </tr>\n",
       "    <tr>\n",
       "      <th>2</th>\n",
       "      <td>Верхний</td>\n",
       "      <td>p_1</td>\n",
       "      <td>Кредит</td>\n",
       "      <td>236.938710</td>\n",
       "      <td>360</td>\n",
       "    </tr>\n",
       "    <tr>\n",
       "      <th>3</th>\n",
       "      <td>Верхний</td>\n",
       "      <td>p_1</td>\n",
       "      <td>РКО</td>\n",
       "      <td>22.847632</td>\n",
       "      <td>1149</td>\n",
       "    </tr>\n",
       "    <tr>\n",
       "      <th>4</th>\n",
       "      <td>Верхний</td>\n",
       "      <td>p_1</td>\n",
       "      <td>Эквайринг</td>\n",
       "      <td>80.517184</td>\n",
       "      <td>183</td>\n",
       "    </tr>\n",
       "  </tbody>\n",
       "</table>\n",
       "</div>"
      ],
      "text/plain": [
       "   segment period           product     mean_pl  unique_clients\n",
       "0  Верхний    p_1  Банковская карта   60.571545              49\n",
       "1  Верхний    p_1           Депозит  112.474520             254\n",
       "2  Верхний    p_1            Кредит  236.938710             360\n",
       "3  Верхний    p_1               РКО   22.847632            1149\n",
       "4  Верхний    p_1         Эквайринг   80.517184             183"
      ]
     },
     "execution_count": 10,
     "metadata": {},
     "output_type": "execute_result"
    }
   ],
   "source": [
    "(\n",
    "    pl_df\n",
    "    .groupby(['segment', 'period', 'product'])\n",
    "    .agg(\n",
    "        mean_pl = ('pl', 'mean'),  # другой синтаксис для своих названий столбиков\n",
    "        unique_clients = ('client_id', 'nunique')\n",
    "    )\n",
    "    .reset_index()\n",
    "    .head()\n",
    ")"
   ]
  },
  {
   "cell_type": "code",
   "execution_count": 16,
   "id": "d54b1ced-0a8f-4b05-b4d8-525358a10e87",
   "metadata": {},
   "outputs": [
    {
     "data": {
      "text/html": [
       "<div>\n",
       "<style scoped>\n",
       "    .dataframe tbody tr th:only-of-type {\n",
       "        vertical-align: middle;\n",
       "    }\n",
       "\n",
       "    .dataframe tbody tr th {\n",
       "        vertical-align: top;\n",
       "    }\n",
       "\n",
       "    .dataframe thead tr th {\n",
       "        text-align: left;\n",
       "    }\n",
       "\n",
       "    .dataframe thead tr:last-of-type th {\n",
       "        text-align: right;\n",
       "    }\n",
       "</style>\n",
       "<table border=\"1\" class=\"dataframe\">\n",
       "  <thead>\n",
       "    <tr>\n",
       "      <th></th>\n",
       "      <th></th>\n",
       "      <th colspan=\"5\" halign=\"left\">mean_pl</th>\n",
       "      <th colspan=\"5\" halign=\"left\">unique_clients</th>\n",
       "    </tr>\n",
       "    <tr>\n",
       "      <th></th>\n",
       "      <th>product</th>\n",
       "      <th>Банковская карта</th>\n",
       "      <th>Депозит</th>\n",
       "      <th>Кредит</th>\n",
       "      <th>РКО</th>\n",
       "      <th>Эквайринг</th>\n",
       "      <th>Банковская карта</th>\n",
       "      <th>Депозит</th>\n",
       "      <th>Кредит</th>\n",
       "      <th>РКО</th>\n",
       "      <th>Эквайринг</th>\n",
       "    </tr>\n",
       "    <tr>\n",
       "      <th>segment</th>\n",
       "      <th>period</th>\n",
       "      <th></th>\n",
       "      <th></th>\n",
       "      <th></th>\n",
       "      <th></th>\n",
       "      <th></th>\n",
       "      <th></th>\n",
       "      <th></th>\n",
       "      <th></th>\n",
       "      <th></th>\n",
       "      <th></th>\n",
       "    </tr>\n",
       "  </thead>\n",
       "  <tbody>\n",
       "    <tr>\n",
       "      <th rowspan=\"2\" valign=\"top\">Верхний</th>\n",
       "      <th>p_1</th>\n",
       "      <td>60.571545</td>\n",
       "      <td>112.474520</td>\n",
       "      <td>236.938710</td>\n",
       "      <td>22.847632</td>\n",
       "      <td>80.517184</td>\n",
       "      <td>49</td>\n",
       "      <td>254</td>\n",
       "      <td>360</td>\n",
       "      <td>1149</td>\n",
       "      <td>183</td>\n",
       "    </tr>\n",
       "    <tr>\n",
       "      <th>p_2</th>\n",
       "      <td>51.770009</td>\n",
       "      <td>99.260623</td>\n",
       "      <td>248.191513</td>\n",
       "      <td>22.064079</td>\n",
       "      <td>72.968866</td>\n",
       "      <td>167</td>\n",
       "      <td>283</td>\n",
       "      <td>548</td>\n",
       "      <td>1162</td>\n",
       "      <td>284</td>\n",
       "    </tr>\n",
       "    <tr>\n",
       "      <th rowspan=\"2\" valign=\"top\">Массовый</th>\n",
       "      <th>p_1</th>\n",
       "      <td>13.310203</td>\n",
       "      <td>28.747545</td>\n",
       "      <td>59.219407</td>\n",
       "      <td>5.795114</td>\n",
       "      <td>19.627608</td>\n",
       "      <td>895</td>\n",
       "      <td>3537</td>\n",
       "      <td>5247</td>\n",
       "      <td>16728</td>\n",
       "      <td>2625</td>\n",
       "    </tr>\n",
       "    <tr>\n",
       "      <th>p_2</th>\n",
       "      <td>11.726557</td>\n",
       "      <td>25.219855</td>\n",
       "      <td>67.109774</td>\n",
       "      <td>5.566726</td>\n",
       "      <td>17.348344</td>\n",
       "      <td>2636</td>\n",
       "      <td>4345</td>\n",
       "      <td>7845</td>\n",
       "      <td>16700</td>\n",
       "      <td>4424</td>\n",
       "    </tr>\n",
       "    <tr>\n",
       "      <th rowspan=\"2\" valign=\"top\">Стандартный</th>\n",
       "      <th>p_1</th>\n",
       "      <td>26.421616</td>\n",
       "      <td>60.994262</td>\n",
       "      <td>120.101219</td>\n",
       "      <td>11.418812</td>\n",
       "      <td>39.329551</td>\n",
       "      <td>338</td>\n",
       "      <td>1292</td>\n",
       "      <td>1871</td>\n",
       "      <td>5907</td>\n",
       "      <td>962</td>\n",
       "    </tr>\n",
       "    <tr>\n",
       "      <th>p_2</th>\n",
       "      <td>22.436106</td>\n",
       "      <td>49.332790</td>\n",
       "      <td>131.611788</td>\n",
       "      <td>10.983568</td>\n",
       "      <td>35.046014</td>\n",
       "      <td>917</td>\n",
       "      <td>1570</td>\n",
       "      <td>2871</td>\n",
       "      <td>5870</td>\n",
       "      <td>1590</td>\n",
       "    </tr>\n",
       "  </tbody>\n",
       "</table>\n",
       "</div>"
      ],
      "text/plain": [
       "                            mean_pl                                     \\\n",
       "product            Банковская карта     Депозит      Кредит        РКО   \n",
       "segment     period                                                       \n",
       "Верхний     p_1           60.571545  112.474520  236.938710  22.847632   \n",
       "            p_2           51.770009   99.260623  248.191513  22.064079   \n",
       "Массовый    p_1           13.310203   28.747545   59.219407   5.795114   \n",
       "            p_2           11.726557   25.219855   67.109774   5.566726   \n",
       "Стандартный p_1           26.421616   60.994262  120.101219  11.418812   \n",
       "            p_2           22.436106   49.332790  131.611788  10.983568   \n",
       "\n",
       "                                unique_clients                                  \n",
       "product             Эквайринг Банковская карта Депозит Кредит    РКО Эквайринг  \n",
       "segment     period                                                              \n",
       "Верхний     p_1     80.517184               49     254    360   1149       183  \n",
       "            p_2     72.968866              167     283    548   1162       284  \n",
       "Массовый    p_1     19.627608              895    3537   5247  16728      2625  \n",
       "            p_2     17.348344             2636    4345   7845  16700      4424  \n",
       "Стандартный p_1     39.329551              338    1292   1871   5907       962  \n",
       "            p_2     35.046014              917    1570   2871   5870      1590  "
      ]
     },
     "execution_count": 16,
     "metadata": {},
     "output_type": "execute_result"
    }
   ],
   "source": [
    "# код из видео\n",
    "(\n",
    "    pl_df\n",
    "    .groupby(['segment', 'period', 'product'])\n",
    "    .agg({\n",
    "        'pl': [('mean_pl', 'mean')],  # квадратные скобки обязательны\n",
    "        'client_id': [('unique_clients', 'nunique')]  # вдруг один пользователь 3 кредита взял\n",
    "    })\n",
    "    .droplevel(0, axis=1)  # автоматический заголовок нам не нужен - мы свой создали\n",
    "    .reset_index()\n",
    "    .pivot_table(['mean_pl', 'unique_clients'], ['segment', 'period'], 'product')\n",
    ")"
   ]
  },
  {
   "cell_type": "code",
   "execution_count": 22,
   "id": "40093203-ec44-4012-995a-38d9d905d91d",
   "metadata": {},
   "outputs": [
    {
     "data": {
      "text/html": [
       "<div>\n",
       "<style scoped>\n",
       "    .dataframe tbody tr th:only-of-type {\n",
       "        vertical-align: middle;\n",
       "    }\n",
       "\n",
       "    .dataframe tbody tr th {\n",
       "        vertical-align: top;\n",
       "    }\n",
       "\n",
       "    .dataframe thead th {\n",
       "        text-align: right;\n",
       "    }\n",
       "</style>\n",
       "<table border=\"1\" class=\"dataframe\">\n",
       "  <thead>\n",
       "    <tr style=\"text-align: right;\">\n",
       "      <th></th>\n",
       "      <th>segment</th>\n",
       "      <th>period</th>\n",
       "      <th>product</th>\n",
       "      <th>mean_pl</th>\n",
       "      <th>unique_clients</th>\n",
       "    </tr>\n",
       "  </thead>\n",
       "  <tbody>\n",
       "    <tr>\n",
       "      <th>0</th>\n",
       "      <td>Верхний</td>\n",
       "      <td>p_1</td>\n",
       "      <td>Банковская карта</td>\n",
       "      <td>60.571545</td>\n",
       "      <td>49</td>\n",
       "    </tr>\n",
       "    <tr>\n",
       "      <th>1</th>\n",
       "      <td>Верхний</td>\n",
       "      <td>p_1</td>\n",
       "      <td>Депозит</td>\n",
       "      <td>112.474520</td>\n",
       "      <td>254</td>\n",
       "    </tr>\n",
       "    <tr>\n",
       "      <th>2</th>\n",
       "      <td>Верхний</td>\n",
       "      <td>p_1</td>\n",
       "      <td>Кредит</td>\n",
       "      <td>236.938710</td>\n",
       "      <td>360</td>\n",
       "    </tr>\n",
       "    <tr>\n",
       "      <th>3</th>\n",
       "      <td>Верхний</td>\n",
       "      <td>p_1</td>\n",
       "      <td>РКО</td>\n",
       "      <td>22.847632</td>\n",
       "      <td>1149</td>\n",
       "    </tr>\n",
       "    <tr>\n",
       "      <th>4</th>\n",
       "      <td>Верхний</td>\n",
       "      <td>p_1</td>\n",
       "      <td>Эквайринг</td>\n",
       "      <td>80.517184</td>\n",
       "      <td>183</td>\n",
       "    </tr>\n",
       "    <tr>\n",
       "      <th>5</th>\n",
       "      <td>Верхний</td>\n",
       "      <td>p_2</td>\n",
       "      <td>Банковская карта</td>\n",
       "      <td>51.770009</td>\n",
       "      <td>167</td>\n",
       "    </tr>\n",
       "    <tr>\n",
       "      <th>6</th>\n",
       "      <td>Верхний</td>\n",
       "      <td>p_2</td>\n",
       "      <td>Депозит</td>\n",
       "      <td>99.260623</td>\n",
       "      <td>283</td>\n",
       "    </tr>\n",
       "    <tr>\n",
       "      <th>7</th>\n",
       "      <td>Верхний</td>\n",
       "      <td>p_2</td>\n",
       "      <td>Кредит</td>\n",
       "      <td>248.191513</td>\n",
       "      <td>548</td>\n",
       "    </tr>\n",
       "    <tr>\n",
       "      <th>8</th>\n",
       "      <td>Верхний</td>\n",
       "      <td>p_2</td>\n",
       "      <td>РКО</td>\n",
       "      <td>22.064079</td>\n",
       "      <td>1162</td>\n",
       "    </tr>\n",
       "    <tr>\n",
       "      <th>9</th>\n",
       "      <td>Верхний</td>\n",
       "      <td>p_2</td>\n",
       "      <td>Эквайринг</td>\n",
       "      <td>72.968866</td>\n",
       "      <td>284</td>\n",
       "    </tr>\n",
       "    <tr>\n",
       "      <th>10</th>\n",
       "      <td>Массовый</td>\n",
       "      <td>p_1</td>\n",
       "      <td>Банковская карта</td>\n",
       "      <td>13.310203</td>\n",
       "      <td>895</td>\n",
       "    </tr>\n",
       "    <tr>\n",
       "      <th>11</th>\n",
       "      <td>Массовый</td>\n",
       "      <td>p_1</td>\n",
       "      <td>Депозит</td>\n",
       "      <td>28.747545</td>\n",
       "      <td>3537</td>\n",
       "    </tr>\n",
       "    <tr>\n",
       "      <th>12</th>\n",
       "      <td>Массовый</td>\n",
       "      <td>p_1</td>\n",
       "      <td>Кредит</td>\n",
       "      <td>59.219407</td>\n",
       "      <td>5247</td>\n",
       "    </tr>\n",
       "    <tr>\n",
       "      <th>13</th>\n",
       "      <td>Массовый</td>\n",
       "      <td>p_1</td>\n",
       "      <td>РКО</td>\n",
       "      <td>5.795114</td>\n",
       "      <td>16728</td>\n",
       "    </tr>\n",
       "    <tr>\n",
       "      <th>14</th>\n",
       "      <td>Массовый</td>\n",
       "      <td>p_1</td>\n",
       "      <td>Эквайринг</td>\n",
       "      <td>19.627608</td>\n",
       "      <td>2625</td>\n",
       "    </tr>\n",
       "    <tr>\n",
       "      <th>15</th>\n",
       "      <td>Массовый</td>\n",
       "      <td>p_2</td>\n",
       "      <td>Банковская карта</td>\n",
       "      <td>11.726557</td>\n",
       "      <td>2636</td>\n",
       "    </tr>\n",
       "    <tr>\n",
       "      <th>16</th>\n",
       "      <td>Массовый</td>\n",
       "      <td>p_2</td>\n",
       "      <td>Депозит</td>\n",
       "      <td>25.219855</td>\n",
       "      <td>4345</td>\n",
       "    </tr>\n",
       "    <tr>\n",
       "      <th>17</th>\n",
       "      <td>Массовый</td>\n",
       "      <td>p_2</td>\n",
       "      <td>Кредит</td>\n",
       "      <td>67.109774</td>\n",
       "      <td>7845</td>\n",
       "    </tr>\n",
       "    <tr>\n",
       "      <th>18</th>\n",
       "      <td>Массовый</td>\n",
       "      <td>p_2</td>\n",
       "      <td>РКО</td>\n",
       "      <td>5.566726</td>\n",
       "      <td>16700</td>\n",
       "    </tr>\n",
       "    <tr>\n",
       "      <th>19</th>\n",
       "      <td>Массовый</td>\n",
       "      <td>p_2</td>\n",
       "      <td>Эквайринг</td>\n",
       "      <td>17.348344</td>\n",
       "      <td>4424</td>\n",
       "    </tr>\n",
       "    <tr>\n",
       "      <th>20</th>\n",
       "      <td>Стандартный</td>\n",
       "      <td>p_1</td>\n",
       "      <td>Банковская карта</td>\n",
       "      <td>26.421616</td>\n",
       "      <td>338</td>\n",
       "    </tr>\n",
       "    <tr>\n",
       "      <th>21</th>\n",
       "      <td>Стандартный</td>\n",
       "      <td>p_1</td>\n",
       "      <td>Депозит</td>\n",
       "      <td>60.994262</td>\n",
       "      <td>1292</td>\n",
       "    </tr>\n",
       "    <tr>\n",
       "      <th>22</th>\n",
       "      <td>Стандартный</td>\n",
       "      <td>p_1</td>\n",
       "      <td>Кредит</td>\n",
       "      <td>120.101219</td>\n",
       "      <td>1871</td>\n",
       "    </tr>\n",
       "    <tr>\n",
       "      <th>23</th>\n",
       "      <td>Стандартный</td>\n",
       "      <td>p_1</td>\n",
       "      <td>РКО</td>\n",
       "      <td>11.418812</td>\n",
       "      <td>5907</td>\n",
       "    </tr>\n",
       "    <tr>\n",
       "      <th>24</th>\n",
       "      <td>Стандартный</td>\n",
       "      <td>p_1</td>\n",
       "      <td>Эквайринг</td>\n",
       "      <td>39.329551</td>\n",
       "      <td>962</td>\n",
       "    </tr>\n",
       "    <tr>\n",
       "      <th>25</th>\n",
       "      <td>Стандартный</td>\n",
       "      <td>p_2</td>\n",
       "      <td>Банковская карта</td>\n",
       "      <td>22.436106</td>\n",
       "      <td>917</td>\n",
       "    </tr>\n",
       "    <tr>\n",
       "      <th>26</th>\n",
       "      <td>Стандартный</td>\n",
       "      <td>p_2</td>\n",
       "      <td>Депозит</td>\n",
       "      <td>49.332790</td>\n",
       "      <td>1570</td>\n",
       "    </tr>\n",
       "    <tr>\n",
       "      <th>27</th>\n",
       "      <td>Стандартный</td>\n",
       "      <td>p_2</td>\n",
       "      <td>Кредит</td>\n",
       "      <td>131.611788</td>\n",
       "      <td>2871</td>\n",
       "    </tr>\n",
       "    <tr>\n",
       "      <th>28</th>\n",
       "      <td>Стандартный</td>\n",
       "      <td>p_2</td>\n",
       "      <td>РКО</td>\n",
       "      <td>10.983568</td>\n",
       "      <td>5870</td>\n",
       "    </tr>\n",
       "    <tr>\n",
       "      <th>29</th>\n",
       "      <td>Стандартный</td>\n",
       "      <td>p_2</td>\n",
       "      <td>Эквайринг</td>\n",
       "      <td>35.046014</td>\n",
       "      <td>1590</td>\n",
       "    </tr>\n",
       "  </tbody>\n",
       "</table>\n",
       "</div>"
      ],
      "text/plain": [
       "        segment period           product     mean_pl  unique_clients\n",
       "0       Верхний    p_1  Банковская карта   60.571545              49\n",
       "1       Верхний    p_1           Депозит  112.474520             254\n",
       "2       Верхний    p_1            Кредит  236.938710             360\n",
       "3       Верхний    p_1               РКО   22.847632            1149\n",
       "4       Верхний    p_1         Эквайринг   80.517184             183\n",
       "5       Верхний    p_2  Банковская карта   51.770009             167\n",
       "6       Верхний    p_2           Депозит   99.260623             283\n",
       "7       Верхний    p_2            Кредит  248.191513             548\n",
       "8       Верхний    p_2               РКО   22.064079            1162\n",
       "9       Верхний    p_2         Эквайринг   72.968866             284\n",
       "10     Массовый    p_1  Банковская карта   13.310203             895\n",
       "11     Массовый    p_1           Депозит   28.747545            3537\n",
       "12     Массовый    p_1            Кредит   59.219407            5247\n",
       "13     Массовый    p_1               РКО    5.795114           16728\n",
       "14     Массовый    p_1         Эквайринг   19.627608            2625\n",
       "15     Массовый    p_2  Банковская карта   11.726557            2636\n",
       "16     Массовый    p_2           Депозит   25.219855            4345\n",
       "17     Массовый    p_2            Кредит   67.109774            7845\n",
       "18     Массовый    p_2               РКО    5.566726           16700\n",
       "19     Массовый    p_2         Эквайринг   17.348344            4424\n",
       "20  Стандартный    p_1  Банковская карта   26.421616             338\n",
       "21  Стандартный    p_1           Депозит   60.994262            1292\n",
       "22  Стандартный    p_1            Кредит  120.101219            1871\n",
       "23  Стандартный    p_1               РКО   11.418812            5907\n",
       "24  Стандартный    p_1         Эквайринг   39.329551             962\n",
       "25  Стандартный    p_2  Банковская карта   22.436106             917\n",
       "26  Стандартный    p_2           Депозит   49.332790            1570\n",
       "27  Стандартный    p_2            Кредит  131.611788            2871\n",
       "28  Стандартный    p_2               РКО   10.983568            5870\n",
       "29  Стандартный    p_2         Эквайринг   35.046014            1590"
      ]
     },
     "execution_count": 22,
     "metadata": {},
     "output_type": "execute_result"
    }
   ],
   "source": [
    "# sql вариант того же запроса\n",
    "query = (\n",
    "    'SELECT \\\n",
    "        segment, \\\n",
    "        period, \\\n",
    "        product, \\\n",
    "        AVG(pl) mean_pl, \\\n",
    "        COUNT(DISTINCT client_id) unique_clients \\\n",
    "    FROM \\\n",
    "        pl \\\n",
    "    GROUP BY \\\n",
    "        segment, \\\n",
    "        period, \\\n",
    "        product \\\n",
    "    '\n",
    ")\n",
    "\n",
    "with sql.connect('../data_ignored/database.db') as con:\n",
    "    pl_df = pd.read_sql_query(\n",
    "        query\n",
    "        , con=con)\n",
    "\n",
    "pl_df"
   ]
  },
  {
   "cell_type": "code",
   "execution_count": null,
   "id": "6a2f410b-52d7-4b96-a2b5-f89ad43d2ff8",
   "metadata": {},
   "outputs": [],
   "source": []
  },
  {
   "cell_type": "markdown",
   "id": "8a3b0780-eeeb-4d3b-94c2-e1c288b2d152",
   "metadata": {},
   "source": [
    "#### 2\n",
    "Посчитать средний ЧОД и количество клиентов в каждом сегменте в разрезе периодов."
   ]
  },
  {
   "cell_type": "code",
   "execution_count": 9,
   "id": "7813ecda-32ae-418e-b5fc-f94ce4fc7ee0",
   "metadata": {},
   "outputs": [
    {
     "data": {
      "text/html": [
       "<style type=\"text/css\">\n",
       "#T_69c0a_row0_col0, #T_69c0a_row0_col1, #T_69c0a_row1_col2, #T_69c0a_row1_col3 {\n",
       "  background-color: #fff7fb;\n",
       "  color: #000000;\n",
       "}\n",
       "#T_69c0a_row0_col2, #T_69c0a_row0_col3, #T_69c0a_row1_col0, #T_69c0a_row1_col1 {\n",
       "  background-color: #023858;\n",
       "  color: #f1f1f1;\n",
       "}\n",
       "#T_69c0a_row2_col0, #T_69c0a_row2_col1 {\n",
       "  background-color: #bcc7e1;\n",
       "  color: #000000;\n",
       "}\n",
       "#T_69c0a_row2_col2 {\n",
       "  background-color: #b0c2de;\n",
       "  color: #000000;\n",
       "}\n",
       "#T_69c0a_row2_col3 {\n",
       "  background-color: #afc1dd;\n",
       "  color: #000000;\n",
       "}\n",
       "</style>\n",
       "<table id=\"T_69c0a_\">\n",
       "  <thead>\n",
       "    <tr>\n",
       "      <th class=\"blank level0\" >&nbsp;</th>\n",
       "      <th class=\"col_heading level0 col0\" colspan=\"2\">client_id</th>\n",
       "      <th class=\"col_heading level0 col2\" colspan=\"2\">pl</th>\n",
       "    </tr>\n",
       "    <tr>\n",
       "      <th class=\"index_name level1\" >period</th>\n",
       "      <th class=\"col_heading level1 col0\" >p_1</th>\n",
       "      <th class=\"col_heading level1 col1\" >p_2</th>\n",
       "      <th class=\"col_heading level1 col2\" >p_1</th>\n",
       "      <th class=\"col_heading level1 col3\" >p_2</th>\n",
       "    </tr>\n",
       "    <tr>\n",
       "      <th class=\"index_name level0\" >segment</th>\n",
       "      <th class=\"blank col0\" >&nbsp;</th>\n",
       "      <th class=\"blank col1\" >&nbsp;</th>\n",
       "      <th class=\"blank col2\" >&nbsp;</th>\n",
       "      <th class=\"blank col3\" >&nbsp;</th>\n",
       "    </tr>\n",
       "  </thead>\n",
       "  <tbody>\n",
       "    <tr>\n",
       "      <th id=\"T_69c0a_level0_row0\" class=\"row_heading level0 row0\" >Верхний</th>\n",
       "      <td id=\"T_69c0a_row0_col0\" class=\"data row0 col0\" >1995</td>\n",
       "      <td id=\"T_69c0a_row0_col1\" class=\"data row0 col1\" >2444</td>\n",
       "      <td id=\"T_69c0a_row0_col2\" class=\"data row0 col2\" >79.108293</td>\n",
       "      <td id=\"T_69c0a_row0_col3\" class=\"data row0 col3\" >89.650947</td>\n",
       "    </tr>\n",
       "    <tr>\n",
       "      <th id=\"T_69c0a_level0_row1\" class=\"row_heading level0 row1\" >Массовый</th>\n",
       "      <td id=\"T_69c0a_row1_col0\" class=\"data row1 col0\" >29032</td>\n",
       "      <td id=\"T_69c0a_row1_col1\" class=\"data row1 col1\" >35950</td>\n",
       "      <td id=\"T_69c0a_row1_col2\" class=\"data row1 col2\" >19.729266</td>\n",
       "      <td id=\"T_69c0a_row1_col3\" class=\"data row1 col3\" >23.273464</td>\n",
       "    </tr>\n",
       "    <tr>\n",
       "      <th id=\"T_69c0a_level0_row2\" class=\"row_heading level0 row2\" >Стандартный</th>\n",
       "      <td id=\"T_69c0a_row2_col0\" class=\"data row2 col0\" >10370</td>\n",
       "      <td id=\"T_69c0a_row2_col1\" class=\"data row2 col1\" >12818</td>\n",
       "      <td id=\"T_69c0a_row2_col2\" class=\"data row2 col2\" >40.282587</td>\n",
       "      <td id=\"T_69c0a_row2_col3\" class=\"data row2 col3\" >46.503397</td>\n",
       "    </tr>\n",
       "  </tbody>\n",
       "</table>\n"
      ],
      "text/plain": [
       "<pandas.io.formats.style.Styler at 0x19b4b060708>"
      ]
     },
     "execution_count": 9,
     "metadata": {},
     "output_type": "execute_result"
    }
   ],
   "source": [
    "pl_df.pivot_table(['pl', 'client_id'], 'segment', 'period', aggfunc={'pl': 'mean', 'client_id': 'count'}).style.background_gradient()"
   ]
  },
  {
   "cell_type": "code",
   "execution_count": 6,
   "id": "9e403cbc-38d8-4e21-b8f3-c8a9f8188853",
   "metadata": {},
   "outputs": [
    {
     "data": {
      "text/html": [
       "<div>\n",
       "<style scoped>\n",
       "    .dataframe tbody tr th:only-of-type {\n",
       "        vertical-align: middle;\n",
       "    }\n",
       "\n",
       "    .dataframe tbody tr th {\n",
       "        vertical-align: top;\n",
       "    }\n",
       "\n",
       "    .dataframe thead tr th {\n",
       "        text-align: left;\n",
       "    }\n",
       "\n",
       "    .dataframe thead tr:last-of-type th {\n",
       "        text-align: right;\n",
       "    }\n",
       "</style>\n",
       "<table border=\"1\" class=\"dataframe\">\n",
       "  <thead>\n",
       "    <tr>\n",
       "      <th></th>\n",
       "      <th colspan=\"2\" halign=\"left\">mean_pl</th>\n",
       "      <th colspan=\"2\" halign=\"left\">unique_clients</th>\n",
       "    </tr>\n",
       "    <tr>\n",
       "      <th>period</th>\n",
       "      <th>p_1</th>\n",
       "      <th>p_2</th>\n",
       "      <th>p_1</th>\n",
       "      <th>p_2</th>\n",
       "    </tr>\n",
       "    <tr>\n",
       "      <th>segment</th>\n",
       "      <th></th>\n",
       "      <th></th>\n",
       "      <th></th>\n",
       "      <th></th>\n",
       "    </tr>\n",
       "  </thead>\n",
       "  <tbody>\n",
       "    <tr>\n",
       "      <th>Верхний</th>\n",
       "      <td>79.108293</td>\n",
       "      <td>89.650947</td>\n",
       "      <td>1195</td>\n",
       "      <td>1206</td>\n",
       "    </tr>\n",
       "    <tr>\n",
       "      <th>Массовый</th>\n",
       "      <td>19.729266</td>\n",
       "      <td>23.273464</td>\n",
       "      <td>17207</td>\n",
       "      <td>17330</td>\n",
       "    </tr>\n",
       "    <tr>\n",
       "      <th>Стандартный</th>\n",
       "      <td>40.282587</td>\n",
       "      <td>46.503397</td>\n",
       "      <td>6061</td>\n",
       "      <td>6110</td>\n",
       "    </tr>\n",
       "  </tbody>\n",
       "</table>\n",
       "</div>"
      ],
      "text/plain": [
       "               mean_pl            unique_clients       \n",
       "period             p_1        p_2            p_1    p_2\n",
       "segment                                                \n",
       "Верхний      79.108293  89.650947           1195   1206\n",
       "Массовый     19.729266  23.273464          17207  17330\n",
       "Стандартный  40.282587  46.503397           6061   6110"
      ]
     },
     "execution_count": 6,
     "metadata": {},
     "output_type": "execute_result"
    }
   ],
   "source": [
    "# код из видео\n",
    "(\n",
    "    pl_df\n",
    "    .groupby(['segment', 'period'])\n",
    "    .agg({\n",
    "        'pl': [('mean_pl', 'mean')],  # квадратные скобки обязательны\n",
    "        'client_id': [('unique_clients', 'nunique')]  # вдруг один пользователь 3 кредита взял\n",
    "    })\n",
    "    .droplevel(0, axis=1)  # автоматический заголовок нам не нужен - мы свой создали\n",
    "    .reset_index()\n",
    "    .pivot_table(['mean_pl', 'unique_clients'], 'segment', 'period')\n",
    ")"
   ]
  },
  {
   "cell_type": "markdown",
   "id": "eeb6aca8-0817-4515-baf9-aca721bc490e",
   "metadata": {},
   "source": [
    "не подумал об уникальности клиентов"
   ]
  },
  {
   "cell_type": "code",
   "execution_count": null,
   "id": "e7400f8a-2ef8-43fa-a522-39ce99e1bb76",
   "metadata": {},
   "outputs": [],
   "source": []
  },
  {
   "cell_type": "markdown",
   "id": "896f6108-f6e9-4c2c-b039-5e493dc3fdec",
   "metadata": {},
   "source": [
    "#### 3\n",
    "Оценить отток клиентов с продуктов в периоде p_2"
   ]
  },
  {
   "cell_type": "code",
   "execution_count": 4,
   "id": "b8bac1de-2f3f-439b-aa15-e884d4eb89f9",
   "metadata": {},
   "outputs": [],
   "source": [
    "pt = pl_df.pivot_table('segment', ['product', 'client_id'], 'period', aggfunc='count', )"
   ]
  },
  {
   "cell_type": "code",
   "execution_count": 5,
   "id": "a1a29671-bfac-4733-a42d-ba4f54ca5077",
   "metadata": {},
   "outputs": [
    {
     "data": {
      "text/html": [
       "<div>\n",
       "<style scoped>\n",
       "    .dataframe tbody tr th:only-of-type {\n",
       "        vertical-align: middle;\n",
       "    }\n",
       "\n",
       "    .dataframe tbody tr th {\n",
       "        vertical-align: top;\n",
       "    }\n",
       "\n",
       "    .dataframe thead th {\n",
       "        text-align: right;\n",
       "    }\n",
       "</style>\n",
       "<table border=\"1\" class=\"dataframe\">\n",
       "  <thead>\n",
       "    <tr style=\"text-align: right;\">\n",
       "      <th></th>\n",
       "      <th>period</th>\n",
       "      <th>p_1</th>\n",
       "      <th>p_2</th>\n",
       "    </tr>\n",
       "    <tr>\n",
       "      <th>product</th>\n",
       "      <th>client_id</th>\n",
       "      <th></th>\n",
       "      <th></th>\n",
       "    </tr>\n",
       "  </thead>\n",
       "  <tbody>\n",
       "    <tr>\n",
       "      <th rowspan=\"5\" valign=\"top\">Банковская карта</th>\n",
       "      <th>00JURPZFUt</th>\n",
       "      <td>NaN</td>\n",
       "      <td>1.0</td>\n",
       "    </tr>\n",
       "    <tr>\n",
       "      <th>02O7Rlu7J8</th>\n",
       "      <td>1.0</td>\n",
       "      <td>NaN</td>\n",
       "    </tr>\n",
       "    <tr>\n",
       "      <th>02Uko8TXvH</th>\n",
       "      <td>1.0</td>\n",
       "      <td>NaN</td>\n",
       "    </tr>\n",
       "    <tr>\n",
       "      <th>03rEoXgXxH</th>\n",
       "      <td>1.0</td>\n",
       "      <td>NaN</td>\n",
       "    </tr>\n",
       "    <tr>\n",
       "      <th>05iexPlQKC</th>\n",
       "      <td>1.0</td>\n",
       "      <td>NaN</td>\n",
       "    </tr>\n",
       "  </tbody>\n",
       "</table>\n",
       "</div>"
      ],
      "text/plain": [
       "period                       p_1  p_2\n",
       "product          client_id           \n",
       "Банковская карта 00JURPZFUt  NaN  1.0\n",
       "                 02O7Rlu7J8  1.0  NaN\n",
       "                 02Uko8TXvH  1.0  NaN\n",
       "                 03rEoXgXxH  1.0  NaN\n",
       "                 05iexPlQKC  1.0  NaN"
      ]
     },
     "execution_count": 5,
     "metadata": {},
     "output_type": "execute_result"
    }
   ],
   "source": [
    "pt.head()"
   ]
  },
  {
   "cell_type": "code",
   "execution_count": 6,
   "id": "973a8492-9c3c-4c47-9376-02820f25e417",
   "metadata": {},
   "outputs": [
    {
     "data": {
      "text/html": [
       "<div>\n",
       "<style scoped>\n",
       "    .dataframe tbody tr th:only-of-type {\n",
       "        vertical-align: middle;\n",
       "    }\n",
       "\n",
       "    .dataframe tbody tr th {\n",
       "        vertical-align: top;\n",
       "    }\n",
       "\n",
       "    .dataframe thead th {\n",
       "        text-align: right;\n",
       "    }\n",
       "</style>\n",
       "<table border=\"1\" class=\"dataframe\">\n",
       "  <thead>\n",
       "    <tr style=\"text-align: right;\">\n",
       "      <th>period</th>\n",
       "      <th>retention</th>\n",
       "    </tr>\n",
       "    <tr>\n",
       "      <th>product</th>\n",
       "      <th></th>\n",
       "    </tr>\n",
       "  </thead>\n",
       "  <tbody>\n",
       "    <tr>\n",
       "      <th>Банковская карта</th>\n",
       "      <td>1079</td>\n",
       "    </tr>\n",
       "    <tr>\n",
       "      <th>Депозит</th>\n",
       "      <td>3824</td>\n",
       "    </tr>\n",
       "    <tr>\n",
       "      <th>Кредит</th>\n",
       "      <td>4084</td>\n",
       "    </tr>\n",
       "    <tr>\n",
       "      <th>РКО</th>\n",
       "      <td>1207</td>\n",
       "    </tr>\n",
       "    <tr>\n",
       "      <th>Эквайринг</th>\n",
       "      <td>2785</td>\n",
       "    </tr>\n",
       "  </tbody>\n",
       "</table>\n",
       "</div>"
      ],
      "text/plain": [
       "period            retention\n",
       "product                    \n",
       "Банковская карта       1079\n",
       "Депозит                3824\n",
       "Кредит                 4084\n",
       "РКО                    1207\n",
       "Эквайринг              2785"
      ]
     },
     "execution_count": 6,
     "metadata": {},
     "output_type": "execute_result"
    }
   ],
   "source": [
    "pt[pt.p_1.notna() & pt.p_2.isna()]\\\n",
    ".reset_index()\\\n",
    ".groupby('product')\\\n",
    ".agg('count')\\\n",
    ".iloc[:, :1]\\\n",
    ".rename(columns={'client_id': 'retention'})\n",
    "# надо ж было долю посчитать, а не абсолютное значение. Да еще и по всем продуктам"
   ]
  },
  {
   "cell_type": "markdown",
   "id": "72de46f8-b592-41f5-a6d3-8afff3132062",
   "metadata": {},
   "source": [
    "Ниже код из видео, иногда с моими коррективами"
   ]
  },
  {
   "cell_type": "code",
   "execution_count": 10,
   "id": "2e43416b-0c7d-434f-a8d5-8b136ee8d72e",
   "metadata": {},
   "outputs": [
    {
     "data": {
      "text/html": [
       "<div>\n",
       "<style scoped>\n",
       "    .dataframe tbody tr th:only-of-type {\n",
       "        vertical-align: middle;\n",
       "    }\n",
       "\n",
       "    .dataframe tbody tr th {\n",
       "        vertical-align: top;\n",
       "    }\n",
       "\n",
       "    .dataframe thead th {\n",
       "        text-align: right;\n",
       "    }\n",
       "</style>\n",
       "<table border=\"1\" class=\"dataframe\">\n",
       "  <thead>\n",
       "    <tr style=\"text-align: right;\">\n",
       "      <th></th>\n",
       "      <th>client_id</th>\n",
       "      <th>segment_p1</th>\n",
       "      <th>period_p1</th>\n",
       "      <th>product</th>\n",
       "      <th>pl_p1</th>\n",
       "      <th>segment_p2</th>\n",
       "      <th>period_p2</th>\n",
       "      <th>pl_p2</th>\n",
       "    </tr>\n",
       "  </thead>\n",
       "  <tbody>\n",
       "    <tr>\n",
       "      <th>0</th>\n",
       "      <td>ZDosW1zUAi</td>\n",
       "      <td>Массовый</td>\n",
       "      <td>p_1</td>\n",
       "      <td>Кредит</td>\n",
       "      <td>9.018067</td>\n",
       "      <td>NaN</td>\n",
       "      <td>NaN</td>\n",
       "      <td>NaN</td>\n",
       "    </tr>\n",
       "    <tr>\n",
       "      <th>1</th>\n",
       "      <td>wVRHQ9hzrw</td>\n",
       "      <td>Массовый</td>\n",
       "      <td>p_1</td>\n",
       "      <td>Кредит</td>\n",
       "      <td>18.889585</td>\n",
       "      <td>NaN</td>\n",
       "      <td>NaN</td>\n",
       "      <td>NaN</td>\n",
       "    </tr>\n",
       "    <tr>\n",
       "      <th>2</th>\n",
       "      <td>6DZQIaOyL3</td>\n",
       "      <td>Массовый</td>\n",
       "      <td>p_1</td>\n",
       "      <td>Кредит</td>\n",
       "      <td>0.369257</td>\n",
       "      <td>NaN</td>\n",
       "      <td>NaN</td>\n",
       "      <td>NaN</td>\n",
       "    </tr>\n",
       "    <tr>\n",
       "      <th>3</th>\n",
       "      <td>jDwO0sMhL2</td>\n",
       "      <td>Массовый</td>\n",
       "      <td>p_1</td>\n",
       "      <td>Кредит</td>\n",
       "      <td>124.315319</td>\n",
       "      <td>NaN</td>\n",
       "      <td>NaN</td>\n",
       "      <td>NaN</td>\n",
       "    </tr>\n",
       "    <tr>\n",
       "      <th>4</th>\n",
       "      <td>FXIJUkgjLy</td>\n",
       "      <td>Массовый</td>\n",
       "      <td>p_1</td>\n",
       "      <td>Кредит</td>\n",
       "      <td>41.287831</td>\n",
       "      <td>Массовый</td>\n",
       "      <td>p_2</td>\n",
       "      <td>2.430823</td>\n",
       "    </tr>\n",
       "  </tbody>\n",
       "</table>\n",
       "</div>"
      ],
      "text/plain": [
       "    client_id segment_p1 period_p1 product       pl_p1 segment_p2 period_p2  \\\n",
       "0  ZDosW1zUAi   Массовый       p_1  Кредит    9.018067        NaN       NaN   \n",
       "1  wVRHQ9hzrw   Массовый       p_1  Кредит   18.889585        NaN       NaN   \n",
       "2  6DZQIaOyL3   Массовый       p_1  Кредит    0.369257        NaN       NaN   \n",
       "3  jDwO0sMhL2   Массовый       p_1  Кредит  124.315319        NaN       NaN   \n",
       "4  FXIJUkgjLy   Массовый       p_1  Кредит   41.287831   Массовый       p_2   \n",
       "\n",
       "      pl_p2  \n",
       "0       NaN  \n",
       "1       NaN  \n",
       "2       NaN  \n",
       "3       NaN  \n",
       "4  2.430823  "
      ]
     },
     "execution_count": 10,
     "metadata": {},
     "output_type": "execute_result"
    }
   ],
   "source": [
    "df3 = (\n",
    "    pl_df[pl_df['period'] == 'p_1']\n",
    "    .merge(\n",
    "        pl_df[pl_df['period'] == 'p_2'], \n",
    "        how = 'left', \n",
    "        left_on = ['client_id', 'product'], \n",
    "        right_on = ['client_id', 'product'], \n",
    "        suffixes = ['_p1', '_p2']\n",
    "    )\n",
    ")\n",
    "df3.head()"
   ]
  },
  {
   "cell_type": "code",
   "execution_count": 15,
   "id": "cddf565e-ed0c-4754-905f-f272db72d6d1",
   "metadata": {},
   "outputs": [
    {
     "data": {
      "text/plain": [
       "12979"
      ]
     },
     "execution_count": 15,
     "metadata": {},
     "output_type": "execute_result"
    }
   ],
   "source": [
    "lost_clients = df3[df3.segment_p2.isna()][['client_id', 'product']].drop_duplicates().shape[0]\n",
    "lost_clients"
   ]
  },
  {
   "cell_type": "code",
   "execution_count": 14,
   "id": "5a4da220-ebad-4464-8704-79d45e4ca4c9",
   "metadata": {},
   "outputs": [
    {
     "data": {
      "text/plain": [
       "10631"
      ]
     },
     "execution_count": 14,
     "metadata": {},
     "output_type": "execute_result"
    }
   ],
   "source": [
    "## мы считаем оттоком когда клиент перестал пользоваться данной категорией продукта?\n",
    "## Тогда и переход в другой продукт для нас - отток. \n",
    "## Правильно ли так считать для банка в целом, а не для подразделений?\n",
    "df3[df3.segment_p2.isna()]['client_id'].drop_duplicates().shape[0]"
   ]
  },
  {
   "cell_type": "code",
   "execution_count": 16,
   "id": "5a269e10-10ce-458c-8e2e-153028029562",
   "metadata": {},
   "outputs": [
    {
     "data": {
      "text/plain": [
       "41397"
      ]
     },
     "execution_count": 16,
     "metadata": {},
     "output_type": "execute_result"
    }
   ],
   "source": [
    "all_clients = df3[['client_id', 'product']].drop_duplicates().shape[0]\n",
    "all_clients"
   ]
  },
  {
   "cell_type": "code",
   "execution_count": 17,
   "id": "24131d47-8120-4b03-9d97-66168bc232c4",
   "metadata": {},
   "outputs": [
    {
     "data": {
      "text/plain": [
       "'31.35%'"
      ]
     },
     "execution_count": 17,
     "metadata": {},
     "output_type": "execute_result"
    }
   ],
   "source": [
    "f\"{round(100 * lost_clients / all_clients, 2)}%\""
   ]
  },
  {
   "cell_type": "markdown",
   "id": "3066a328-2d61-43c7-afa6-cb9c4da7197b",
   "metadata": {},
   "source": [
    "Посмотрю уникальность клиентов"
   ]
  },
  {
   "cell_type": "code",
   "execution_count": 33,
   "id": "192af1ab-daa3-4b1e-9afd-25b50f032d3d",
   "metadata": {},
   "outputs": [],
   "source": [
    "pt = pl_df.pivot_table('segment', ['product', 'client_id'], 'period', aggfunc='count', )"
   ]
  },
  {
   "cell_type": "code",
   "execution_count": 34,
   "id": "ace9fc21-0d3d-447c-b823-332b62138cc9",
   "metadata": {},
   "outputs": [
    {
     "data": {
      "text/html": [
       "<div>\n",
       "<style scoped>\n",
       "    .dataframe tbody tr th:only-of-type {\n",
       "        vertical-align: middle;\n",
       "    }\n",
       "\n",
       "    .dataframe tbody tr th {\n",
       "        vertical-align: top;\n",
       "    }\n",
       "\n",
       "    .dataframe thead th {\n",
       "        text-align: right;\n",
       "    }\n",
       "</style>\n",
       "<table border=\"1\" class=\"dataframe\">\n",
       "  <thead>\n",
       "    <tr style=\"text-align: right;\">\n",
       "      <th></th>\n",
       "      <th>period</th>\n",
       "      <th>p_1</th>\n",
       "      <th>p_2</th>\n",
       "    </tr>\n",
       "    <tr>\n",
       "      <th>product</th>\n",
       "      <th>client_id</th>\n",
       "      <th></th>\n",
       "      <th></th>\n",
       "    </tr>\n",
       "  </thead>\n",
       "  <tbody>\n",
       "    <tr>\n",
       "      <th rowspan=\"5\" valign=\"top\">Банковская карта</th>\n",
       "      <th>00JURPZFUt</th>\n",
       "      <td>NaN</td>\n",
       "      <td>1.0</td>\n",
       "    </tr>\n",
       "    <tr>\n",
       "      <th>02O7Rlu7J8</th>\n",
       "      <td>1.0</td>\n",
       "      <td>NaN</td>\n",
       "    </tr>\n",
       "    <tr>\n",
       "      <th>02Uko8TXvH</th>\n",
       "      <td>1.0</td>\n",
       "      <td>NaN</td>\n",
       "    </tr>\n",
       "    <tr>\n",
       "      <th>03rEoXgXxH</th>\n",
       "      <td>1.0</td>\n",
       "      <td>NaN</td>\n",
       "    </tr>\n",
       "    <tr>\n",
       "      <th>05iexPlQKC</th>\n",
       "      <td>1.0</td>\n",
       "      <td>NaN</td>\n",
       "    </tr>\n",
       "  </tbody>\n",
       "</table>\n",
       "</div>"
      ],
      "text/plain": [
       "period                       p_1  p_2\n",
       "product          client_id           \n",
       "Банковская карта 00JURPZFUt  NaN  1.0\n",
       "                 02O7Rlu7J8  1.0  NaN\n",
       "                 02Uko8TXvH  1.0  NaN\n",
       "                 03rEoXgXxH  1.0  NaN\n",
       "                 05iexPlQKC  1.0  NaN"
      ]
     },
     "execution_count": 34,
     "metadata": {},
     "output_type": "execute_result"
    }
   ],
   "source": [
    "pt.head()"
   ]
  },
  {
   "cell_type": "code",
   "execution_count": 35,
   "id": "e63553ff-cc7b-4765-8cff-55278c86ac28",
   "metadata": {},
   "outputs": [
    {
     "data": {
      "text/html": [
       "<div>\n",
       "<style scoped>\n",
       "    .dataframe tbody tr th:only-of-type {\n",
       "        vertical-align: middle;\n",
       "    }\n",
       "\n",
       "    .dataframe tbody tr th {\n",
       "        vertical-align: top;\n",
       "    }\n",
       "\n",
       "    .dataframe thead th {\n",
       "        text-align: right;\n",
       "    }\n",
       "</style>\n",
       "<table border=\"1\" class=\"dataframe\">\n",
       "  <thead>\n",
       "    <tr style=\"text-align: right;\">\n",
       "      <th>period</th>\n",
       "      <th>product</th>\n",
       "      <th>client_id</th>\n",
       "      <th>p_1</th>\n",
       "      <th>p_2</th>\n",
       "    </tr>\n",
       "  </thead>\n",
       "  <tbody>\n",
       "    <tr>\n",
       "      <th>0</th>\n",
       "      <td>Банковская карта</td>\n",
       "      <td>00JURPZFUt</td>\n",
       "      <td>NaN</td>\n",
       "      <td>1.0</td>\n",
       "    </tr>\n",
       "    <tr>\n",
       "      <th>1</th>\n",
       "      <td>Банковская карта</td>\n",
       "      <td>02O7Rlu7J8</td>\n",
       "      <td>1.0</td>\n",
       "      <td>NaN</td>\n",
       "    </tr>\n",
       "    <tr>\n",
       "      <th>2</th>\n",
       "      <td>Банковская карта</td>\n",
       "      <td>02Uko8TXvH</td>\n",
       "      <td>1.0</td>\n",
       "      <td>NaN</td>\n",
       "    </tr>\n",
       "    <tr>\n",
       "      <th>3</th>\n",
       "      <td>Банковская карта</td>\n",
       "      <td>03rEoXgXxH</td>\n",
       "      <td>1.0</td>\n",
       "      <td>NaN</td>\n",
       "    </tr>\n",
       "    <tr>\n",
       "      <th>4</th>\n",
       "      <td>Банковская карта</td>\n",
       "      <td>05iexPlQKC</td>\n",
       "      <td>1.0</td>\n",
       "      <td>NaN</td>\n",
       "    </tr>\n",
       "  </tbody>\n",
       "</table>\n",
       "</div>"
      ],
      "text/plain": [
       "period           product   client_id  p_1  p_2\n",
       "0       Банковская карта  00JURPZFUt  NaN  1.0\n",
       "1       Банковская карта  02O7Rlu7J8  1.0  NaN\n",
       "2       Банковская карта  02Uko8TXvH  1.0  NaN\n",
       "3       Банковская карта  03rEoXgXxH  1.0  NaN\n",
       "4       Банковская карта  05iexPlQKC  1.0  NaN"
      ]
     },
     "execution_count": 35,
     "metadata": {},
     "output_type": "execute_result"
    }
   ],
   "source": [
    "pt2 = pt.reset_index()\n",
    "pt2.head()"
   ]
  },
  {
   "cell_type": "code",
   "execution_count": 10,
   "id": "3a377a10-020f-400c-9446-1bd3150bc6d7",
   "metadata": {},
   "outputs": [
    {
     "data": {
      "text/html": [
       "<div>\n",
       "<style scoped>\n",
       "    .dataframe tbody tr th:only-of-type {\n",
       "        vertical-align: middle;\n",
       "    }\n",
       "\n",
       "    .dataframe tbody tr th {\n",
       "        vertical-align: top;\n",
       "    }\n",
       "\n",
       "    .dataframe thead th {\n",
       "        text-align: right;\n",
       "    }\n",
       "</style>\n",
       "<table border=\"1\" class=\"dataframe\">\n",
       "  <thead>\n",
       "    <tr style=\"text-align: right;\">\n",
       "      <th></th>\n",
       "      <th>count</th>\n",
       "      <th>nunique</th>\n",
       "    </tr>\n",
       "    <tr>\n",
       "      <th>product</th>\n",
       "      <th></th>\n",
       "      <th></th>\n",
       "    </tr>\n",
       "  </thead>\n",
       "  <tbody>\n",
       "    <tr>\n",
       "      <th>Банковская карта</th>\n",
       "      <td>4799</td>\n",
       "      <td>4799</td>\n",
       "    </tr>\n",
       "    <tr>\n",
       "      <th>Депозит</th>\n",
       "      <td>10022</td>\n",
       "      <td>10022</td>\n",
       "    </tr>\n",
       "    <tr>\n",
       "      <th>Кредит</th>\n",
       "      <td>15348</td>\n",
       "      <td>15348</td>\n",
       "    </tr>\n",
       "    <tr>\n",
       "      <th>РКО</th>\n",
       "      <td>24939</td>\n",
       "      <td>24939</td>\n",
       "    </tr>\n",
       "    <tr>\n",
       "      <th>Эквайринг</th>\n",
       "      <td>9083</td>\n",
       "      <td>9083</td>\n",
       "    </tr>\n",
       "  </tbody>\n",
       "</table>\n",
       "</div>"
      ],
      "text/plain": [
       "                  count  nunique\n",
       "product                         \n",
       "Банковская карта   4799     4799\n",
       "Депозит           10022    10022\n",
       "Кредит            15348    15348\n",
       "РКО               24939    24939\n",
       "Эквайринг          9083     9083"
      ]
     },
     "execution_count": 10,
     "metadata": {},
     "output_type": "execute_result"
    }
   ],
   "source": [
    "pt2.groupby('product').agg(['count', 'nunique'])['client_id']"
   ]
  },
  {
   "cell_type": "markdown",
   "id": "740b45f9-7050-4791-ba2b-0465374abb57",
   "metadata": {},
   "source": [
    "В рамках одного продукта любой клиент присутствуе лишь раз.  \n",
    "Тогда посчитаем отток клиентов по каждому продукту отдельно в %%."
   ]
  },
  {
   "cell_type": "code",
   "execution_count": 11,
   "id": "2f8ec1e1-766e-4b3f-9bdd-66078eaf21f5",
   "metadata": {},
   "outputs": [
    {
     "data": {
      "text/html": [
       "<div>\n",
       "<style scoped>\n",
       "    .dataframe tbody tr th:only-of-type {\n",
       "        vertical-align: middle;\n",
       "    }\n",
       "\n",
       "    .dataframe tbody tr th {\n",
       "        vertical-align: top;\n",
       "    }\n",
       "\n",
       "    .dataframe thead th {\n",
       "        text-align: right;\n",
       "    }\n",
       "</style>\n",
       "<table border=\"1\" class=\"dataframe\">\n",
       "  <thead>\n",
       "    <tr style=\"text-align: right;\">\n",
       "      <th>period</th>\n",
       "      <th>retention</th>\n",
       "    </tr>\n",
       "    <tr>\n",
       "      <th>product</th>\n",
       "      <th></th>\n",
       "    </tr>\n",
       "  </thead>\n",
       "  <tbody>\n",
       "    <tr>\n",
       "      <th>Банковская карта</th>\n",
       "      <td>1079</td>\n",
       "    </tr>\n",
       "    <tr>\n",
       "      <th>Депозит</th>\n",
       "      <td>3824</td>\n",
       "    </tr>\n",
       "    <tr>\n",
       "      <th>Кредит</th>\n",
       "      <td>4084</td>\n",
       "    </tr>\n",
       "    <tr>\n",
       "      <th>РКО</th>\n",
       "      <td>1207</td>\n",
       "    </tr>\n",
       "    <tr>\n",
       "      <th>Эквайринг</th>\n",
       "      <td>2785</td>\n",
       "    </tr>\n",
       "  </tbody>\n",
       "</table>\n",
       "</div>"
      ],
      "text/plain": [
       "period            retention\n",
       "product                    \n",
       "Банковская карта       1079\n",
       "Депозит                3824\n",
       "Кредит                 4084\n",
       "РКО                    1207\n",
       "Эквайринг              2785"
      ]
     },
     "execution_count": 11,
     "metadata": {},
     "output_type": "execute_result"
    }
   ],
   "source": [
    "retention = pt[pt.p_1.notna() & pt.p_2.isna()]\\\n",
    ".reset_index()\\\n",
    ".groupby('product')\\\n",
    ".agg('count')\\\n",
    ".iloc[:, :1]\\\n",
    ".rename(columns={'client_id': 'retention'})\n",
    "\n",
    "retention"
   ]
  },
  {
   "cell_type": "code",
   "execution_count": 12,
   "id": "d5a9b114-30d9-4b4c-8a5d-75f70ac8c398",
   "metadata": {},
   "outputs": [
    {
     "data": {
      "text/html": [
       "<div>\n",
       "<style scoped>\n",
       "    .dataframe tbody tr th:only-of-type {\n",
       "        vertical-align: middle;\n",
       "    }\n",
       "\n",
       "    .dataframe tbody tr th {\n",
       "        vertical-align: top;\n",
       "    }\n",
       "\n",
       "    .dataframe thead th {\n",
       "        text-align: right;\n",
       "    }\n",
       "</style>\n",
       "<table border=\"1\" class=\"dataframe\">\n",
       "  <thead>\n",
       "    <tr style=\"text-align: right;\">\n",
       "      <th>period</th>\n",
       "      <th>retention</th>\n",
       "    </tr>\n",
       "    <tr>\n",
       "      <th>product</th>\n",
       "      <th></th>\n",
       "    </tr>\n",
       "  </thead>\n",
       "  <tbody>\n",
       "    <tr>\n",
       "      <th>Банковская карта</th>\n",
       "      <td>1282</td>\n",
       "    </tr>\n",
       "    <tr>\n",
       "      <th>Депозит</th>\n",
       "      <td>5083</td>\n",
       "    </tr>\n",
       "    <tr>\n",
       "      <th>Кредит</th>\n",
       "      <td>7478</td>\n",
       "    </tr>\n",
       "    <tr>\n",
       "      <th>РКО</th>\n",
       "      <td>23784</td>\n",
       "    </tr>\n",
       "    <tr>\n",
       "      <th>Эквайринг</th>\n",
       "      <td>3770</td>\n",
       "    </tr>\n",
       "  </tbody>\n",
       "</table>\n",
       "</div>"
      ],
      "text/plain": [
       "period            retention\n",
       "product                    \n",
       "Банковская карта       1282\n",
       "Депозит                5083\n",
       "Кредит                 7478\n",
       "РКО                   23784\n",
       "Эквайринг              3770"
      ]
     },
     "execution_count": 12,
     "metadata": {},
     "output_type": "execute_result"
    }
   ],
   "source": [
    "clients_number = pt[pt.p_1.notna()]\\\n",
    ".reset_index()\\\n",
    ".groupby('product')\\\n",
    ".agg('count')\\\n",
    ".iloc[:, :1]\\\n",
    ".rename(columns={'client_id': 'retention'})\n",
    "\n",
    "clients_number"
   ]
  },
  {
   "cell_type": "code",
   "execution_count": 22,
   "id": "ba10af3c-bbd4-41b4-a9a5-b70a4acd77b0",
   "metadata": {},
   "outputs": [
    {
     "data": {
      "text/html": [
       "<div>\n",
       "<style scoped>\n",
       "    .dataframe tbody tr th:only-of-type {\n",
       "        vertical-align: middle;\n",
       "    }\n",
       "\n",
       "    .dataframe tbody tr th {\n",
       "        vertical-align: top;\n",
       "    }\n",
       "\n",
       "    .dataframe thead th {\n",
       "        text-align: right;\n",
       "    }\n",
       "</style>\n",
       "<table border=\"1\" class=\"dataframe\">\n",
       "  <thead>\n",
       "    <tr style=\"text-align: right;\">\n",
       "      <th>period</th>\n",
       "      <th>retention</th>\n",
       "    </tr>\n",
       "    <tr>\n",
       "      <th>product</th>\n",
       "      <th></th>\n",
       "    </tr>\n",
       "  </thead>\n",
       "  <tbody>\n",
       "    <tr>\n",
       "      <th>Банковская карта</th>\n",
       "      <td>84.0</td>\n",
       "    </tr>\n",
       "    <tr>\n",
       "      <th>Депозит</th>\n",
       "      <td>75.0</td>\n",
       "    </tr>\n",
       "    <tr>\n",
       "      <th>Кредит</th>\n",
       "      <td>55.0</td>\n",
       "    </tr>\n",
       "    <tr>\n",
       "      <th>РКО</th>\n",
       "      <td>5.0</td>\n",
       "    </tr>\n",
       "    <tr>\n",
       "      <th>Эквайринг</th>\n",
       "      <td>74.0</td>\n",
       "    </tr>\n",
       "  </tbody>\n",
       "</table>\n",
       "</div>"
      ],
      "text/plain": [
       "period            retention\n",
       "product                    \n",
       "Банковская карта       84.0\n",
       "Депозит                75.0\n",
       "Кредит                 55.0\n",
       "РКО                     5.0\n",
       "Эквайринг              74.0"
      ]
     },
     "execution_count": 22,
     "metadata": {},
     "output_type": "execute_result"
    }
   ],
   "source": [
    "round(100 * retention / clients_number)"
   ]
  },
  {
   "cell_type": "code",
   "execution_count": 28,
   "id": "fbc41349-cd8c-428e-9b74-93dd1548fb16",
   "metadata": {},
   "outputs": [
    {
     "data": {
      "text/plain": [
       "(64191, 24992)"
      ]
     },
     "execution_count": 28,
     "metadata": {},
     "output_type": "execute_result"
    }
   ],
   "source": [
    "pt2.client_id.count(), pt2.client_id.nunique()"
   ]
  },
  {
   "cell_type": "markdown",
   "id": "0b48dacc-5c43-4487-bfd1-57c4bd21bf09",
   "metadata": {},
   "source": [
    "а вот в рамках всего банка клиент присутствует несколько раз: в разных продуктах.  \n",
    "Посчитаем отток клиентов в банке в целом:"
   ]
  },
  {
   "cell_type": "code",
   "execution_count": 27,
   "id": "f60f30f6-88aa-49d3-8aa0-11d6ce19e0cf",
   "metadata": {},
   "outputs": [
    {
     "data": {
      "text/plain": [
       "24463"
      ]
     },
     "execution_count": 27,
     "metadata": {},
     "output_type": "execute_result"
    }
   ],
   "source": [
    "total_clients_number = pt[pt.p_1.notna()]\\\n",
    ".reset_index()\\\n",
    ".client_id\\\n",
    ".nunique()\n",
    "\n",
    "total_clients_number"
   ]
  },
  {
   "cell_type": "code",
   "execution_count": 29,
   "id": "59f19b2d-da06-42f0-8754-80bb5e13ad2d",
   "metadata": {},
   "outputs": [
    {
     "data": {
      "text/plain": [
       "10631"
      ]
     },
     "execution_count": 29,
     "metadata": {},
     "output_type": "execute_result"
    }
   ],
   "source": [
    "bank_retention = pt[pt.p_1.notna() & pt.p_2.isna()]\\\n",
    ".reset_index()\\\n",
    ".client_id\\\n",
    ".nunique()\n",
    "\n",
    "bank_retention"
   ]
  },
  {
   "cell_type": "code",
   "execution_count": 31,
   "id": "c2c0c53e-6bf6-4bd4-a3c1-8f7917005085",
   "metadata": {},
   "outputs": [
    {
     "data": {
      "text/plain": [
       "'43%'"
      ]
     },
     "execution_count": 31,
     "metadata": {},
     "output_type": "execute_result"
    }
   ],
   "source": [
    "f\"{round(100 * bank_retention / total_clients_number)}%\""
   ]
  },
  {
   "cell_type": "code",
   "execution_count": null,
   "id": "b909802c-7ba4-43d0-93f0-1472b2b5cadc",
   "metadata": {},
   "outputs": [],
   "source": []
  },
  {
   "cell_type": "markdown",
   "id": "f14c93bb-b385-4c1f-876d-cee1cefc4aa3",
   "metadata": {},
   "source": [
    "#### 4\n",
    "Посчитать сумму ЧОД, привлеченную каждым менеджером в ходе маркетинговой кампании"
   ]
  },
  {
   "cell_type": "code",
   "execution_count": 18,
   "id": "3263d03b-7627-43f7-83be-4307decccb4d",
   "metadata": {},
   "outputs": [
    {
     "data": {
      "text/html": [
       "<div>\n",
       "<style scoped>\n",
       "    .dataframe tbody tr th:only-of-type {\n",
       "        vertical-align: middle;\n",
       "    }\n",
       "\n",
       "    .dataframe tbody tr th {\n",
       "        vertical-align: top;\n",
       "    }\n",
       "\n",
       "    .dataframe thead th {\n",
       "        text-align: right;\n",
       "    }\n",
       "</style>\n",
       "<table border=\"1\" class=\"dataframe\">\n",
       "  <thead>\n",
       "    <tr style=\"text-align: right;\">\n",
       "      <th></th>\n",
       "      <th>client_id</th>\n",
       "      <th>segment</th>\n",
       "      <th>period</th>\n",
       "      <th>product</th>\n",
       "      <th>pl</th>\n",
       "      <th>response</th>\n",
       "      <th>manager_id</th>\n",
       "    </tr>\n",
       "  </thead>\n",
       "  <tbody>\n",
       "    <tr>\n",
       "      <th>0</th>\n",
       "      <td>XHgfHt3boG</td>\n",
       "      <td>Массовый</td>\n",
       "      <td>p_2</td>\n",
       "      <td>Кредит</td>\n",
       "      <td>35.244275</td>\n",
       "      <td>Согласие</td>\n",
       "      <td>CM_RCwv1r0OHO</td>\n",
       "    </tr>\n",
       "    <tr>\n",
       "      <th>1</th>\n",
       "      <td>sujQEPdgvp</td>\n",
       "      <td>Массовый</td>\n",
       "      <td>p_2</td>\n",
       "      <td>Кредит</td>\n",
       "      <td>121.858601</td>\n",
       "      <td>Не обработано менеджером</td>\n",
       "      <td>CM_lKxhD73Z6d</td>\n",
       "    </tr>\n",
       "    <tr>\n",
       "      <th>2</th>\n",
       "      <td>XRre8Aj7GK</td>\n",
       "      <td>Массовый</td>\n",
       "      <td>p_2</td>\n",
       "      <td>Кредит</td>\n",
       "      <td>43.220162</td>\n",
       "      <td>Недозвон</td>\n",
       "      <td>CM_c28lGRRaEI</td>\n",
       "    </tr>\n",
       "    <tr>\n",
       "      <th>3</th>\n",
       "      <td>faWYjccoeJ</td>\n",
       "      <td>Массовый</td>\n",
       "      <td>p_2</td>\n",
       "      <td>Кредит</td>\n",
       "      <td>6.691619</td>\n",
       "      <td>Согласие</td>\n",
       "      <td>CM_6ofody41cY</td>\n",
       "    </tr>\n",
       "    <tr>\n",
       "      <th>4</th>\n",
       "      <td>9k7VeLIbKU</td>\n",
       "      <td>Массовый</td>\n",
       "      <td>p_2</td>\n",
       "      <td>Кредит</td>\n",
       "      <td>22.162824</td>\n",
       "      <td>Согласие</td>\n",
       "      <td>CM_pMFgOhtUKD</td>\n",
       "    </tr>\n",
       "  </tbody>\n",
       "</table>\n",
       "</div>"
      ],
      "text/plain": [
       "    client_id   segment period product          pl                  response  \\\n",
       "0  XHgfHt3boG  Массовый    p_2  Кредит   35.244275                  Согласие   \n",
       "1  sujQEPdgvp  Массовый    p_2  Кредит  121.858601  Не обработано менеджером   \n",
       "2  XRre8Aj7GK  Массовый    p_2  Кредит   43.220162                  Недозвон   \n",
       "3  faWYjccoeJ  Массовый    p_2  Кредит    6.691619                  Согласие   \n",
       "4  9k7VeLIbKU  Массовый    p_2  Кредит   22.162824                  Согласие   \n",
       "\n",
       "      manager_id  \n",
       "0  CM_RCwv1r0OHO  \n",
       "1  CM_lKxhD73Z6d  \n",
       "2  CM_c28lGRRaEI  \n",
       "3  CM_6ofody41cY  \n",
       "4  CM_pMFgOhtUKD  "
      ]
     },
     "execution_count": 18,
     "metadata": {},
     "output_type": "execute_result"
    }
   ],
   "source": [
    "df_merge = pl_df.merge(campaign)\n",
    "df_merge.head()"
   ]
  },
  {
   "cell_type": "code",
   "execution_count": 25,
   "id": "dae34adb-ca7d-43d1-918c-7d0da0dd957b",
   "metadata": {},
   "outputs": [
    {
     "data": {
      "text/plain": [
       "manager_id\n",
       "CM_2755B4KTu4    22201.541290\n",
       "CM_pMFgOhtUKD    20355.146751\n",
       "CM_wjb2ArrpAw    19834.757303\n",
       "CM_c28lGRRaEI    19565.680861\n",
       "CM_gHP4ykbzTj    19539.450154\n",
       "CM_R7BdTh0Svt    19518.652917\n",
       "CM_6ofody41cY    19181.096090\n",
       "CM_doxY9cvELI    19058.722925\n",
       "CM_PzEEav4ic0    18478.955276\n",
       "CM_lKxhD73Z6d    18366.204638\n",
       "CM_eE0WMK1vVW    17996.289290\n",
       "CM_onY6ha8qHv    17841.507248\n",
       "CM_fQHTUUUkXc    17786.466100\n",
       "CM_EiBeeRMhdA    17660.461325\n",
       "CM_RCwv1r0OHO    17656.530108\n",
       "CM_70HjN0EVqf    17602.269745\n",
       "CM_zShYeVNFi0    17597.410380\n",
       "CM_9vMKq9aqw9    16440.848277\n",
       "CM_nJ7j5pAcMB    15828.418450\n",
       "CM_dcTdLjqH2x    15266.406230\n",
       "Name: pl, dtype: float64"
      ]
     },
     "execution_count": 25,
     "metadata": {},
     "output_type": "execute_result"
    }
   ],
   "source": [
    "df_merge.groupby('manager_id').pl.agg('sum').sort_values(ascending=False)"
   ]
  },
  {
   "cell_type": "markdown",
   "id": "72ca6a1b-3290-474a-8192-f2ffd4223daf",
   "metadata": {},
   "source": [
    "Ниже вариант из видео.  \n",
    "pl надо было считать только в случае согласия клиента!  \n",
    "И объединять надо по 2 полям: client_id и product. Иначе мы мержим клиента, пользующегося несколькими продуктами с самим собой?"
   ]
  },
  {
   "cell_type": "code",
   "execution_count": 7,
   "id": "b68c5e35-29c4-406a-a92f-ea841b8b6415",
   "metadata": {
    "tags": []
   },
   "outputs": [],
   "source": [
    "campaign_sales = campaign[campaign.response == 'Согласие']"
   ]
  },
  {
   "cell_type": "code",
   "execution_count": null,
   "id": "2304fe96-eba3-4b3e-92f0-7e8947639692",
   "metadata": {},
   "outputs": [],
   "source": [
    "sales_in_p2 = pl_df[pl_df.period == 'p_2']"
   ]
  },
  {
   "cell_type": "code",
   "execution_count": 12,
   "id": "3153d0e6-3d50-4e82-b7c8-76ef7c1202cf",
   "metadata": {},
   "outputs": [
    {
     "data": {
      "text/html": [
       "<div>\n",
       "<style scoped>\n",
       "    .dataframe tbody tr th:only-of-type {\n",
       "        vertical-align: middle;\n",
       "    }\n",
       "\n",
       "    .dataframe tbody tr th {\n",
       "        vertical-align: top;\n",
       "    }\n",
       "\n",
       "    .dataframe thead th {\n",
       "        text-align: right;\n",
       "    }\n",
       "</style>\n",
       "<table border=\"1\" class=\"dataframe\">\n",
       "  <thead>\n",
       "    <tr style=\"text-align: right;\">\n",
       "      <th></th>\n",
       "      <th>sum</th>\n",
       "    </tr>\n",
       "    <tr>\n",
       "      <th>manager_id</th>\n",
       "      <th></th>\n",
       "    </tr>\n",
       "  </thead>\n",
       "  <tbody>\n",
       "    <tr>\n",
       "      <th>CM_2755B4KTu4</th>\n",
       "      <td>16600.098122</td>\n",
       "    </tr>\n",
       "    <tr>\n",
       "      <th>CM_6ofody41cY</th>\n",
       "      <td>13407.509851</td>\n",
       "    </tr>\n",
       "    <tr>\n",
       "      <th>CM_70HjN0EVqf</th>\n",
       "      <td>11831.278026</td>\n",
       "    </tr>\n",
       "    <tr>\n",
       "      <th>CM_9vMKq9aqw9</th>\n",
       "      <td>11080.970431</td>\n",
       "    </tr>\n",
       "    <tr>\n",
       "      <th>CM_EiBeeRMhdA</th>\n",
       "      <td>12820.881592</td>\n",
       "    </tr>\n",
       "    <tr>\n",
       "      <th>CM_PzEEav4ic0</th>\n",
       "      <td>12933.254512</td>\n",
       "    </tr>\n",
       "    <tr>\n",
       "      <th>CM_R7BdTh0Svt</th>\n",
       "      <td>14119.009958</td>\n",
       "    </tr>\n",
       "    <tr>\n",
       "      <th>CM_RCwv1r0OHO</th>\n",
       "      <td>12056.911018</td>\n",
       "    </tr>\n",
       "    <tr>\n",
       "      <th>CM_c28lGRRaEI</th>\n",
       "      <td>13358.891157</td>\n",
       "    </tr>\n",
       "    <tr>\n",
       "      <th>CM_dcTdLjqH2x</th>\n",
       "      <td>11222.567189</td>\n",
       "    </tr>\n",
       "    <tr>\n",
       "      <th>CM_doxY9cvELI</th>\n",
       "      <td>11798.365500</td>\n",
       "    </tr>\n",
       "    <tr>\n",
       "      <th>CM_eE0WMK1vVW</th>\n",
       "      <td>13298.954882</td>\n",
       "    </tr>\n",
       "    <tr>\n",
       "      <th>CM_fQHTUUUkXc</th>\n",
       "      <td>11555.109774</td>\n",
       "    </tr>\n",
       "    <tr>\n",
       "      <th>CM_gHP4ykbzTj</th>\n",
       "      <td>14106.604720</td>\n",
       "    </tr>\n",
       "    <tr>\n",
       "      <th>CM_lKxhD73Z6d</th>\n",
       "      <td>12177.633504</td>\n",
       "    </tr>\n",
       "    <tr>\n",
       "      <th>CM_nJ7j5pAcMB</th>\n",
       "      <td>12049.947692</td>\n",
       "    </tr>\n",
       "    <tr>\n",
       "      <th>CM_onY6ha8qHv</th>\n",
       "      <td>11143.199671</td>\n",
       "    </tr>\n",
       "    <tr>\n",
       "      <th>CM_pMFgOhtUKD</th>\n",
       "      <td>13543.156752</td>\n",
       "    </tr>\n",
       "    <tr>\n",
       "      <th>CM_wjb2ArrpAw</th>\n",
       "      <td>14136.285720</td>\n",
       "    </tr>\n",
       "    <tr>\n",
       "      <th>CM_zShYeVNFi0</th>\n",
       "      <td>12803.487882</td>\n",
       "    </tr>\n",
       "  </tbody>\n",
       "</table>\n",
       "</div>"
      ],
      "text/plain": [
       "                        sum\n",
       "manager_id                 \n",
       "CM_2755B4KTu4  16600.098122\n",
       "CM_6ofody41cY  13407.509851\n",
       "CM_70HjN0EVqf  11831.278026\n",
       "CM_9vMKq9aqw9  11080.970431\n",
       "CM_EiBeeRMhdA  12820.881592\n",
       "CM_PzEEav4ic0  12933.254512\n",
       "CM_R7BdTh0Svt  14119.009958\n",
       "CM_RCwv1r0OHO  12056.911018\n",
       "CM_c28lGRRaEI  13358.891157\n",
       "CM_dcTdLjqH2x  11222.567189\n",
       "CM_doxY9cvELI  11798.365500\n",
       "CM_eE0WMK1vVW  13298.954882\n",
       "CM_fQHTUUUkXc  11555.109774\n",
       "CM_gHP4ykbzTj  14106.604720\n",
       "CM_lKxhD73Z6d  12177.633504\n",
       "CM_nJ7j5pAcMB  12049.947692\n",
       "CM_onY6ha8qHv  11143.199671\n",
       "CM_pMFgOhtUKD  13543.156752\n",
       "CM_wjb2ArrpAw  14136.285720\n",
       "CM_zShYeVNFi0  12803.487882"
      ]
     },
     "execution_count": 12,
     "metadata": {},
     "output_type": "execute_result"
    }
   ],
   "source": [
    "(\n",
    "    campaign_sales\n",
    "    .merge(\n",
    "        sales_in_p2, \n",
    "        how='inner', \n",
    "        left_on=['client_id', 'product'], \n",
    "        right_on=['client_id', 'product'])\n",
    "    .groupby('manager_id')['pl']\n",
    "    .agg({'sum'})\n",
    ")"
   ]
  },
  {
   "cell_type": "code",
   "execution_count": null,
   "id": "c885acab-61e3-42a8-8e99-bd3f8044d33e",
   "metadata": {},
   "outputs": [],
   "source": []
  },
  {
   "cell_type": "code",
   "execution_count": null,
   "id": "404b1caa-e694-44e0-85a5-fbf1c98eb17d",
   "metadata": {},
   "outputs": [],
   "source": []
  },
  {
   "cell_type": "markdown",
   "id": "45ec6ebe-ee10-4d1f-96ac-71bf66f85960",
   "metadata": {},
   "source": [
    "#### 5\n",
    "Оценить эффективность маркетинговой кампании"
   ]
  },
  {
   "cell_type": "code",
   "execution_count": 12,
   "id": "840672eb-59ba-446b-aec2-e432323880cb",
   "metadata": {},
   "outputs": [
    {
     "data": {
      "text/plain": [
       "24992"
      ]
     },
     "execution_count": 12,
     "metadata": {},
     "output_type": "execute_result"
    }
   ],
   "source": [
    "pl_df.client_id.nunique()"
   ]
  },
  {
   "cell_type": "code",
   "execution_count": 13,
   "id": "05993ab9-0416-45ea-8980-3196c296a212",
   "metadata": {},
   "outputs": [
    {
     "data": {
      "text/plain": [
       "5000"
      ]
     },
     "execution_count": 13,
     "metadata": {},
     "output_type": "execute_result"
    }
   ],
   "source": [
    "campaign.client_id.nunique()"
   ]
  },
  {
   "cell_type": "code",
   "execution_count": 20,
   "id": "a2059fde-9d6d-4179-b5bb-e7cebf6bbd03",
   "metadata": {},
   "outputs": [
    {
     "data": {
      "text/plain": [
       "array(['Согласие', 'Не обработано менеджером', 'Недозвон', 'Перезвонить',\n",
       "       'Отказ'], dtype=object)"
      ]
     },
     "execution_count": 20,
     "metadata": {},
     "output_type": "execute_result"
    }
   ],
   "source": [
    "campaign.response.unique()"
   ]
  },
  {
   "cell_type": "markdown",
   "id": "5f06490a-8365-45f9-a24f-0c4fd86e0fbf",
   "metadata": {},
   "source": [
    "Доля клиентов, взявших кредит, в рамках маркетинговой кампании"
   ]
  },
  {
   "cell_type": "code",
   "execution_count": 18,
   "id": "8656f62a-ed49-403d-b2b7-7281275c4c9e",
   "metadata": {
    "tags": []
   },
   "outputs": [
    {
     "data": {
      "text/plain": [
       "0.5632"
      ]
     },
     "execution_count": 19,
     "metadata": {},
     "output_type": "execute_result"
    }
   ],
   "source": [
    "campaign[campaign.response == 'Согласие'].client_id.nunique() / campaign.client_id.nunique()"
   ]
  },
  {
   "cell_type": "code",
   "execution_count": 27,
   "id": "c6469098-04ce-4eaf-9bb5-4e76e269a703",
   "metadata": {},
   "outputs": [
    {
     "data": {
      "text/plain": [
       "client_id     4842\n",
       "segment          3\n",
       "period           1\n",
       "product_x        4\n",
       "pl            6763\n",
       "product_y        1\n",
       "response         5\n",
       "manager_id      20\n",
       "dtype: int64"
      ]
     },
     "execution_count": 27,
     "metadata": {},
     "output_type": "execute_result"
    }
   ],
   "source": [
    "pl_df[pl_df.period == 'p_1'].merge(campaign, left_on='client_id', right_on='client_id').nunique()"
   ]
  },
  {
   "cell_type": "markdown",
   "id": "f41a31a0-1515-4e13-ad37-ade4a5134d39",
   "metadata": {},
   "source": [
    "Я думал, что клиентов из первого периода в кампании стали обзванивать и предлагать кредит, но есть 158 клиентов, которые не были с нами в первом периоде.  \n",
    "Как тогда измерить эффективность кампании в сравнении с клиентами, которые в кампанию не попали?"
   ]
  },
  {
   "cell_type": "code",
   "execution_count": 40,
   "id": "66597786-fda4-41b2-a65b-92d3539b5a84",
   "metadata": {},
   "outputs": [
    {
     "data": {
      "text/plain": [
       "0.6268507402961184"
      ]
     },
     "execution_count": 40,
     "metadata": {},
     "output_type": "execute_result"
    }
   ],
   "source": [
    "(pl_df[pl_df['product'] == 'Кредит'].client_id.nunique()\n",
    " - campaign[campaign.response == 'Согласие'].client_id.nunique()) / (pl_df.client_id.nunique() \n",
    "   - campaign.client_id.nunique())"
   ]
  },
  {
   "cell_type": "markdown",
   "id": "06731a6c-db43-4be9-8194-cc31a51ce4bd",
   "metadata": {},
   "source": [
    "? те, кому не рекламировали взяли кредитов больше?"
   ]
  },
  {
   "cell_type": "code",
   "execution_count": null,
   "id": "9fd326ec-39a4-4476-b358-58beb6da9cdb",
   "metadata": {},
   "outputs": [],
   "source": []
  },
  {
   "cell_type": "markdown",
   "id": "d452ed27-5d4c-499c-81ac-cd9adad119a3",
   "metadata": {},
   "source": [
    "Ниже вариант из видео с некоторыми моими корректировками."
   ]
  },
  {
   "cell_type": "code",
   "execution_count": 6,
   "id": "032be521-7bf2-4703-8a92-65addd69d590",
   "metadata": {},
   "outputs": [
    {
     "data": {
      "text/plain": [
       "period\n",
       "p_1    1.148332e+06\n",
       "p_2    1.651868e+06\n",
       "Name: pl, dtype: float64"
      ]
     },
     "execution_count": 6,
     "metadata": {},
     "output_type": "execute_result"
    }
   ],
   "source": [
    "# сравнение продаж за 2 периода\n",
    "pl_df.groupby('period')['pl'].agg('sum')"
   ]
  },
  {
   "cell_type": "code",
   "execution_count": 8,
   "id": "1add6d60-e250-426c-a3c8-d7b0a9621ec1",
   "metadata": {},
   "outputs": [
    {
     "data": {
      "text/plain": [
       "response\n",
       "Не обработано менеджером     484\n",
       "Недозвон                     749\n",
       "Отказ                        717\n",
       "Перезвонить                  234\n",
       "Согласие                    2816\n",
       "Name: manager_id, dtype: int64"
      ]
     },
     "execution_count": 8,
     "metadata": {},
     "output_type": "execute_result"
    }
   ],
   "source": [
    "## количество разных response\n",
    "responses = campaign.groupby('response')['manager_id'].agg('count')\n",
    "responses"
   ]
  },
  {
   "cell_type": "code",
   "execution_count": 11,
   "id": "6f8aef42-de36-4a4f-9594-4024ecf35cc3",
   "metadata": {},
   "outputs": [
    {
     "data": {
      "image/png": "[encoded data removed]",
      "text/plain": [
       "<Figure size 640x480 with 1 Axes>"
      ]
     },
     "metadata": {},
     "output_type": "display_data"
    }
   ],
   "source": [
    "responses.plot.pie(autopct='%1.0f%%');"
   ]
  },
  {
   "cell_type": "code",
   "execution_count": 13,
   "id": "35e7f89a-6376-4623-9eed-1638cef66b76",
   "metadata": {},
   "outputs": [
    {
     "data": {
      "text/plain": [
       "0.5632"
      ]
     },
     "execution_count": 13,
     "metadata": {},
     "output_type": "execute_result"
    }
   ],
   "source": [
    "## доля давших согласие в кампании\n",
    "campaign[campaign['response'] == 'Согласие']['client_id'].nunique() / campaign['client_id'].nunique()"
   ]
  },
  {
   "cell_type": "code",
   "execution_count": 4,
   "id": "3afd7612-12b2-4b44-b929-529871a87ef6",
   "metadata": {},
   "outputs": [
    {
     "data": {
      "text/html": [
       "<div>\n",
       "<style scoped>\n",
       "    .dataframe tbody tr th:only-of-type {\n",
       "        vertical-align: middle;\n",
       "    }\n",
       "\n",
       "    .dataframe tbody tr th {\n",
       "        vertical-align: top;\n",
       "    }\n",
       "\n",
       "    .dataframe thead th {\n",
       "        text-align: right;\n",
       "    }\n",
       "</style>\n",
       "<table border=\"1\" class=\"dataframe\">\n",
       "  <thead>\n",
       "    <tr style=\"text-align: right;\">\n",
       "      <th></th>\n",
       "      <th>client_id</th>\n",
       "      <th>segment</th>\n",
       "      <th>period</th>\n",
       "      <th>product</th>\n",
       "      <th>pl</th>\n",
       "    </tr>\n",
       "  </thead>\n",
       "  <tbody>\n",
       "    <tr>\n",
       "      <th>10924</th>\n",
       "      <td>xWCnKEwxmi</td>\n",
       "      <td>Верхний</td>\n",
       "      <td>p_1</td>\n",
       "      <td>РКО</td>\n",
       "      <td>24.348507</td>\n",
       "    </tr>\n",
       "    <tr>\n",
       "      <th>9071</th>\n",
       "      <td>t8DUkc8HEd</td>\n",
       "      <td>Массовый</td>\n",
       "      <td>p_1</td>\n",
       "      <td>РКО</td>\n",
       "      <td>0.425584</td>\n",
       "    </tr>\n",
       "    <tr>\n",
       "      <th>18416</th>\n",
       "      <td>XKyDE1uU29</td>\n",
       "      <td>Верхний</td>\n",
       "      <td>p_1</td>\n",
       "      <td>РКО</td>\n",
       "      <td>15.706107</td>\n",
       "    </tr>\n",
       "    <tr>\n",
       "      <th>12890</th>\n",
       "      <td>493ZuvSbzV</td>\n",
       "      <td>Массовый</td>\n",
       "      <td>p_1</td>\n",
       "      <td>РКО</td>\n",
       "      <td>16.844623</td>\n",
       "    </tr>\n",
       "    <tr>\n",
       "      <th>15043</th>\n",
       "      <td>7VxGG9sdPr</td>\n",
       "      <td>Массовый</td>\n",
       "      <td>p_1</td>\n",
       "      <td>РКО</td>\n",
       "      <td>9.227170</td>\n",
       "    </tr>\n",
       "  </tbody>\n",
       "</table>\n",
       "</div>"
      ],
      "text/plain": [
       "        client_id   segment period product         pl\n",
       "10924  xWCnKEwxmi   Верхний    p_1     РКО  24.348507\n",
       "9071   t8DUkc8HEd  Массовый    p_1     РКО   0.425584\n",
       "18416  XKyDE1uU29   Верхний    p_1     РКО  15.706107\n",
       "12890  493ZuvSbzV  Массовый    p_1     РКО  16.844623\n",
       "15043  7VxGG9sdPr  Массовый    p_1     РКО   9.227170"
      ]
     },
     "execution_count": 4,
     "metadata": {},
     "output_type": "execute_result"
    }
   ],
   "source": [
    "sales_in_p1 = pl_df[pl_df.period == 'p_1']\n",
    "sales_in_p1.sample(5)"
   ]
  },
  {
   "cell_type": "code",
   "execution_count": null,
   "id": "63b46171-5ed0-40a4-8c78-d56d6703014c",
   "metadata": {},
   "outputs": [],
   "source": [
    "campaign_sales = campaign[campaign.response == 'Согласие']"
   ]
  },
  {
   "cell_type": "code",
   "execution_count": 12,
   "id": "19922715-3940-45fe-a672-7a201b6700f0",
   "metadata": {},
   "outputs": [
    {
     "data": {
      "text/plain": [
       "0.15513224052650942"
      ]
     },
     "execution_count": 12,
     "metadata": {},
     "output_type": "execute_result"
    }
   ],
   "source": [
    "## скольким клиентам из первого периода мы допродали кредит во втором\n",
    "sales_in_p1[sales_in_p1.client_id.isin(campaign_sales.client_id.unique())].shape[0] / sales_in_p1.client_id.nunique()"
   ]
  },
  {
   "cell_type": "code",
   "execution_count": null,
   "id": "2bc8c68b-eb27-470b-af8d-03876497b11d",
   "metadata": {},
   "outputs": [],
   "source": []
  },
  {
   "cell_type": "markdown",
   "id": "f1d63073-b98b-462a-a247-9320f65106a7",
   "metadata": {},
   "source": [
    "Снова мой код"
   ]
  },
  {
   "cell_type": "markdown",
   "id": "048bc6bd-8acd-4a60-bca2-ee14072ee14c",
   "metadata": {},
   "source": [
    "Непонятно. Есть 158 клиентов, которые не имели продуктов в банке, но попали в кампанию."
   ]
  },
  {
   "cell_type": "code",
   "execution_count": 16,
   "id": "03bdd207-67cf-470b-8f69-495b5a85bd1d",
   "metadata": {},
   "outputs": [],
   "source": [
    "campaign2 = campaign.merge(pl_df[pl_df.period == 'p_1'], on=['client_id'])"
   ]
  },
  {
   "cell_type": "code",
   "execution_count": 18,
   "id": "fa9b2922-7f4a-43a9-be7a-77d71c87d7b7",
   "metadata": {},
   "outputs": [
    {
     "data": {
      "text/plain": [
       "158"
      ]
     },
     "execution_count": 18,
     "metadata": {},
     "output_type": "execute_result"
    }
   ],
   "source": [
    "campaign.client_id.nunique() - campaign2.client_id.nunique()"
   ]
  },
  {
   "cell_type": "code",
   "execution_count": null,
   "id": "97fc1cf5-044a-45b2-9c65-d43cbfc59304",
   "metadata": {},
   "outputs": [],
   "source": []
  },
  {
   "cell_type": "markdown",
   "id": "002dce01-ab65-4e91-97d4-38d6c44714a8",
   "metadata": {},
   "source": [
    "Все в порядке - все клиенты давшие согласие таки взяли кредит во втором периоде:"
   ]
  },
  {
   "cell_type": "code",
   "execution_count": null,
   "id": "ccc5dc9d-9339-4370-b1db-6c1d4b196a9b",
   "metadata": {},
   "outputs": [
    {
     "data": {
      "text/plain": [
       "(2816, 1)"
      ]
     },
     "execution_count": 52,
     "metadata": {},
     "output_type": "execute_result"
    }
   ],
   "source": [
    "consenting_customers = pd.DataFrame(campaign[campaign.response == 'Согласие'].client_id.unique())\n",
    "consenting_customers.shape"
   ]
  },
  {
   "cell_type": "code",
   "execution_count": 53,
   "id": "d1c179a1-1b10-454d-b81c-7150237d584e",
   "metadata": {},
   "outputs": [
    {
     "data": {
      "text/plain": [
       "(11264, 1)"
      ]
     },
     "execution_count": 53,
     "metadata": {},
     "output_type": "execute_result"
    }
   ],
   "source": [
    "credit_p2_customers = pd.DataFrame(\n",
    "    pl_df[(pl_df['product'] == 'Кредит') & (pl_df.period == 'p_2')]\n",
    "    .client_id.unique()\n",
    ")\n",
    "credit_p2_customers.shape"
   ]
  },
  {
   "cell_type": "code",
   "execution_count": 58,
   "id": "ffe05e7d-374b-4cf1-a2c4-94f265d4b40e",
   "metadata": {},
   "outputs": [
    {
     "data": {
      "text/plain": [
       "(2816, 1)"
      ]
     },
     "execution_count": 58,
     "metadata": {},
     "output_type": "execute_result"
    }
   ],
   "source": [
    "consenting_customers.merge(credit_p2_customers).shape"
   ]
  },
  {
   "cell_type": "code",
   "execution_count": null,
   "id": "7db61ab1-6cdf-41a1-9889-8d40bc4058b5",
   "metadata": {},
   "outputs": [],
   "source": []
  },
  {
   "cell_type": "markdown",
   "id": "cc68195b-c376-4afd-8a9f-1e04dc9f67d7",
   "metadata": {},
   "source": [
    "Постараемся строже отделить 2 группы среди тех, кто уже был с нами в первом периоде: тех, кто попал и не попал в нашу маркетинговую кампанию."
   ]
  },
  {
   "cell_type": "code",
   "execution_count": 4,
   "id": "9d5481c1-31a5-4eb8-b3e3-733cb0674ae4",
   "metadata": {},
   "outputs": [
    {
     "data": {
      "text/plain": [
       "(24463, 1)"
      ]
     },
     "execution_count": 4,
     "metadata": {},
     "output_type": "execute_result"
    }
   ],
   "source": [
    "# все клиенты, которые с нами были в периоде p_1\n",
    "p1_clients = pd.DataFrame(pl_df[pl_df.period == 'p_1'].client_id.unique())\n",
    "p1_clients.shape"
   ]
  },
  {
   "cell_type": "code",
   "execution_count": 5,
   "id": "94d1ea32-ebf5-4b33-9ad8-366b4336747d",
   "metadata": {},
   "outputs": [
    {
     "data": {
      "text/plain": [
       "(11264, 1)"
      ]
     },
     "execution_count": 5,
     "metadata": {},
     "output_type": "execute_result"
    }
   ],
   "source": [
    "# все клиенты, которые взяли кредит в периоде p_2\n",
    "p2_credit_clients = pd.DataFrame(\n",
    "    pl_df[\n",
    "        (pl_df.period == 'p_2')\n",
    "        & (pl_df['product'] == 'Кредит')\n",
    "    ]\n",
    "    .client_id\n",
    "    .unique()\n",
    ")\n",
    "p2_credit_clients.shape"
   ]
  },
  {
   "cell_type": "code",
   "execution_count": 6,
   "id": "973a1a1b-fdf6-4769-a754-b2f99ef222ed",
   "metadata": {},
   "outputs": [
    {
     "data": {
      "text/plain": [
       "(5000, 1)"
      ]
     },
     "execution_count": 6,
     "metadata": {},
     "output_type": "execute_result"
    }
   ],
   "source": [
    "# все клиенты из нашей кампании\n",
    "campaign_customers = pd.DataFrame(campaign.client_id.unique())\n",
    "campaign_customers.shape"
   ]
  },
  {
   "cell_type": "code",
   "execution_count": 7,
   "id": "40ab0ced-0672-4d44-aa7f-19dcb5a63928",
   "metadata": {},
   "outputs": [
    {
     "data": {
      "text/plain": [
       "(2816, 1)"
      ]
     },
     "execution_count": 7,
     "metadata": {},
     "output_type": "execute_result"
    }
   ],
   "source": [
    "# все клиенты из нашей кампании, взявшие кредит\n",
    "consenting_customers = pd.DataFrame(campaign[campaign.response == 'Согласие'].client_id.unique())\n",
    "consenting_customers.shape"
   ]
  },
  {
   "cell_type": "code",
   "execution_count": 8,
   "id": "4715a154-7be9-4fcc-b24e-0ae6adac1702",
   "metadata": {},
   "outputs": [
    {
     "data": {
      "text/plain": [
       "4842"
      ]
     },
     "execution_count": 8,
     "metadata": {},
     "output_type": "execute_result"
    }
   ],
   "source": [
    "# все клиенты из нашей кампании, бывшие с нами и в период p_1\n",
    "campaign_customers_p1 = campaign_customers.merge(p1_clients)\n",
    "campaign_customers_p1.shape[0]"
   ]
  },
  {
   "cell_type": "code",
   "execution_count": 9,
   "id": "0609e197-513c-421a-af1b-72bd9c42c929",
   "metadata": {},
   "outputs": [
    {
     "data": {
      "text/plain": [
       "2723"
      ]
     },
     "execution_count": 9,
     "metadata": {},
     "output_type": "execute_result"
    }
   ],
   "source": [
    "# все клиенты из нашей кампании, взявшие кредит в p_2 и бывшие с нами и в период p_1\n",
    "consenting_customers_p1 = consenting_customers.merge(p1_clients)\n",
    "consenting_customers_p1.shape[0]"
   ]
  },
  {
   "cell_type": "code",
   "execution_count": 10,
   "id": "2e378d13-d885-434a-ba1c-fac1be1aad29",
   "metadata": {},
   "outputs": [
    {
     "data": {
      "text/plain": [
       "0.5623709211069806"
      ]
     },
     "execution_count": 10,
     "metadata": {},
     "output_type": "execute_result"
    }
   ],
   "source": [
    "# эффективность в рамках кампании:\n",
    "campaign_efficiency = consenting_customers_p1.shape[0] / campaign_customers_p1.shape[0]\n",
    "campaign_efficiency"
   ]
  },
  {
   "cell_type": "code",
   "execution_count": 11,
   "id": "54142b8c-b758-425b-9bac-377fc81d86ce",
   "metadata": {},
   "outputs": [
    {
     "data": {
      "text/plain": [
       "(11010, 1)"
      ]
     },
     "execution_count": 11,
     "metadata": {},
     "output_type": "execute_result"
    }
   ],
   "source": [
    "# все клиенты, взявшие кредит в p_2 и бывшие с нами и в период p_1\n",
    "p2_p1_credit_clients = p2_credit_clients.merge(p1_clients)\n",
    "p2_p1_credit_clients.shape"
   ]
  },
  {
   "cell_type": "code",
   "execution_count": 12,
   "id": "bfc73259-e0df-4028-bbde-3bb7d0055c03",
   "metadata": {},
   "outputs": [
    {
     "data": {
      "text/plain": [
       "0.42235360073390754"
      ]
     },
     "execution_count": 12,
     "metadata": {},
     "output_type": "execute_result"
    }
   ],
   "source": [
    "# эффективность вне рамок кампании:\n",
    "non_campaign_efficiency = (\n",
    "    (p2_p1_credit_clients.shape[0] - consenting_customers_p1.shape[0]) \n",
    "    / (p1_clients.shape[0] - campaign_customers_p1.shape[0])\n",
    ")\n",
    "non_campaign_efficiency"
   ]
  },
  {
   "cell_type": "code",
   "execution_count": 13,
   "id": "63f2ce27-9de3-4cce-8035-9ab27725cf65",
   "metadata": {},
   "outputs": [],
   "source": [
    "import seaborn as sns\n",
    "import matplotlib.pyplot as plt\n",
    "sns.set_theme(style='whitegrid')"
   ]
  },
  {
   "cell_type": "code",
   "execution_count": 14,
   "id": "74b1b628-bbbb-456f-ab8e-0fbc6baccd33",
   "metadata": {},
   "outputs": [
    {
     "data": {
      "text/html": [
       "<div>\n",
       "<style scoped>\n",
       "    .dataframe tbody tr th:only-of-type {\n",
       "        vertical-align: middle;\n",
       "    }\n",
       "\n",
       "    .dataframe tbody tr th {\n",
       "        vertical-align: top;\n",
       "    }\n",
       "\n",
       "    .dataframe thead th {\n",
       "        text-align: right;\n",
       "    }\n",
       "</style>\n",
       "<table border=\"1\" class=\"dataframe\">\n",
       "  <thead>\n",
       "    <tr style=\"text-align: right;\">\n",
       "      <th></th>\n",
       "      <th>Эффективность кампании</th>\n",
       "      <th>Эффективность вне кампании</th>\n",
       "    </tr>\n",
       "  </thead>\n",
       "  <tbody>\n",
       "    <tr>\n",
       "      <th>0</th>\n",
       "      <td>56.237092</td>\n",
       "      <td>42.23536</td>\n",
       "    </tr>\n",
       "  </tbody>\n",
       "</table>\n",
       "</div>"
      ],
      "text/plain": [
       "   Эффективность кампании  Эффективность вне кампании\n",
       "0               56.237092                    42.23536"
      ]
     },
     "execution_count": 14,
     "metadata": {},
     "output_type": "execute_result"
    }
   ],
   "source": [
    "df = pd.DataFrame(\n",
    "    {\n",
    "        'Эффективность кампании':[campaign_efficiency * 100], \n",
    "        'Эффективность вне кампании':[non_campaign_efficiency * 100]\n",
    "    }\n",
    ")\n",
    "df"
   ]
  },
  {
   "cell_type": "code",
   "execution_count": 15,
   "id": "0a811b86-2899-444b-a036-c328c7f16829",
   "metadata": {},
   "outputs": [
    {
     "data": {
      "image/png": "[encoded data removed]",
      "text/plain": [
       "<Figure size 640x480 with 1 Axes>"
      ]
     },
     "metadata": {},
     "output_type": "display_data"
    }
   ],
   "source": [
    "plt.xlabel('Эффективность, %')\n",
    "sns.barplot(df, orient='h');"
   ]
  },
  {
   "cell_type": "markdown",
   "id": "db9a1b73-2fac-4239-b6ff-92caccdc7661",
   "metadata": {},
   "source": [
    "Мы посчитали эффективность \"в штуках\" - по долям клиентов, взявших кредит.  \n",
    "Посчитаем эффективность \"в рублях\" - по полю pl."
   ]
  },
  {
   "cell_type": "code",
   "execution_count": 61,
   "id": "2cc8c406-f97f-4dad-837b-485e4082063a",
   "metadata": {},
   "outputs": [
    {
     "data": {
      "text/plain": [
       "50.875024570817175"
      ]
     },
     "execution_count": 61,
     "metadata": {},
     "output_type": "execute_result"
    }
   ],
   "source": [
    "# эффективность по pl в рамках кампании\n",
    "campaign_efficiency_pl = (\n",
    "    consenting_customers_p1.merge(\n",
    "        pl_df[(pl_df.period == 'p_2') & (pl_df['product'] == 'Кредит')], \n",
    "        left_on=0, \n",
    "        right_on='client_id'\n",
    "    )\n",
    "    .pl\n",
    "    .sum()\n",
    "    / campaign_customers_p1.shape[0]\n",
    ")\n",
    "campaign_efficiency_pl"
   ]
  },
  {
   "cell_type": "code",
   "execution_count": 58,
   "id": "1e7b1f64-8b54-4696-85d3-272033307700",
   "metadata": {},
   "outputs": [
    {
     "data": {
      "text/plain": [
       "8287"
      ]
     },
     "execution_count": 58,
     "metadata": {},
     "output_type": "execute_result"
    }
   ],
   "source": [
    "# клиенты, которые были с нами в p_1, и взявшие кредит в p_2\n",
    "non_campaign_credit_clients = pd.DataFrame(\n",
    "    set(p2_p1_credit_clients[0]) \n",
    "    - set(consenting_customers_p1[0])\n",
    ")\n",
    "non_campaign_credit_clients.shape[0]"
   ]
  },
  {
   "cell_type": "code",
   "execution_count": 62,
   "id": "6916cced-de80-49ed-a83d-9582fef83935",
   "metadata": {},
   "outputs": [
    {
     "data": {
      "text/plain": [
       "39.15918085302577"
      ]
     },
     "execution_count": 62,
     "metadata": {},
     "output_type": "execute_result"
    }
   ],
   "source": [
    "non_campaign_efficiency_pl = (\n",
    "    non_campaign_credit_clients.merge(\n",
    "        pl_df[(pl_df.period == 'p_2') & (pl_df['product'] == 'Кредит')], \n",
    "        left_on=0, \n",
    "        right_on='client_id'\n",
    "    )\n",
    "    .pl\n",
    "    .sum() \n",
    "    / (p1_clients.shape[0] - campaign_customers_p1.shape[0])\n",
    ")\n",
    "non_campaign_efficiency_pl"
   ]
  },
  {
   "cell_type": "code",
   "execution_count": 64,
   "id": "8476e39e-4014-4890-ab17-0b6e65154680",
   "metadata": {},
   "outputs": [
    {
     "data": {
      "text/html": [
       "<div>\n",
       "<style scoped>\n",
       "    .dataframe tbody tr th:only-of-type {\n",
       "        vertical-align: middle;\n",
       "    }\n",
       "\n",
       "    .dataframe tbody tr th {\n",
       "        vertical-align: top;\n",
       "    }\n",
       "\n",
       "    .dataframe thead th {\n",
       "        text-align: right;\n",
       "    }\n",
       "</style>\n",
       "<table border=\"1\" class=\"dataframe\">\n",
       "  <thead>\n",
       "    <tr style=\"text-align: right;\">\n",
       "      <th></th>\n",
       "      <th>Эффективность кампании</th>\n",
       "      <th>Эффективность вне кампании</th>\n",
       "    </tr>\n",
       "  </thead>\n",
       "  <tbody>\n",
       "    <tr>\n",
       "      <th>0</th>\n",
       "      <td>50.875025</td>\n",
       "      <td>39.159181</td>\n",
       "    </tr>\n",
       "  </tbody>\n",
       "</table>\n",
       "</div>"
      ],
      "text/plain": [
       "   Эффективность кампании  Эффективность вне кампании\n",
       "0               50.875025                   39.159181"
      ]
     },
     "execution_count": 64,
     "metadata": {},
     "output_type": "execute_result"
    }
   ],
   "source": [
    "df2 = pd.DataFrame(\n",
    "    {\n",
    "        'Эффективность кампании':[campaign_efficiency_pl], \n",
    "        'Эффективность вне кампании':[non_campaign_efficiency_pl]\n",
    "    }\n",
    ")\n",
    "df2"
   ]
  },
  {
   "cell_type": "code",
   "execution_count": 65,
   "id": "f12720dd-6879-4af6-be22-f74d16f7c253",
   "metadata": {},
   "outputs": [
    {
     "data": {
      "image/png": "[encoded data removed]",
      "text/plain": [
       "<Figure size 640x480 with 1 Axes>"
      ]
     },
     "metadata": {},
     "output_type": "display_data"
    }
   ],
   "source": [
    "plt.xlabel('Эффективность по pl')\n",
    "sns.barplot(df2, orient='h');"
   ]
  },
  {
   "cell_type": "code",
   "execution_count": null,
   "id": "fd5189ec-1660-4eb8-ba92-3a2e0980fc04",
   "metadata": {},
   "outputs": [],
   "source": []
  },
  {
   "cell_type": "code",
   "execution_count": null,
   "id": "ca4cdb39-6699-4c0c-a983-8ff96a2fdb93",
   "metadata": {},
   "outputs": [],
   "source": []
  },
  {
   "cell_type": "code",
   "execution_count": 4,
   "id": "aa0f4d89-eca8-4311-b2ad-a3aeac07b821",
   "metadata": {},
   "outputs": [
    {
     "data": {
      "text/html": [
       "<div>\n",
       "<style scoped>\n",
       "    .dataframe tbody tr th:only-of-type {\n",
       "        vertical-align: middle;\n",
       "    }\n",
       "\n",
       "    .dataframe tbody tr th {\n",
       "        vertical-align: top;\n",
       "    }\n",
       "\n",
       "    .dataframe thead th {\n",
       "        text-align: right;\n",
       "    }\n",
       "</style>\n",
       "<table border=\"1\" class=\"dataframe\">\n",
       "  <thead>\n",
       "    <tr style=\"text-align: right;\">\n",
       "      <th></th>\n",
       "      <th>client_id</th>\n",
       "      <th>segment</th>\n",
       "      <th>period</th>\n",
       "      <th>product</th>\n",
       "      <th>pl</th>\n",
       "    </tr>\n",
       "  </thead>\n",
       "  <tbody>\n",
       "    <tr>\n",
       "      <th>0</th>\n",
       "      <td>ZDosW1zUAi</td>\n",
       "      <td>Массовый</td>\n",
       "      <td>p_1</td>\n",
       "      <td>Кредит</td>\n",
       "      <td>9.018067</td>\n",
       "    </tr>\n",
       "  </tbody>\n",
       "</table>\n",
       "</div>"
      ],
      "text/plain": [
       "    client_id   segment period product        pl\n",
       "0  ZDosW1zUAi  Массовый    p_1  Кредит  9.018067"
      ]
     },
     "execution_count": 4,
     "metadata": {},
     "output_type": "execute_result"
    }
   ],
   "source": [
    "pl_df.head(1)"
   ]
  },
  {
   "cell_type": "code",
   "execution_count": 5,
   "id": "8e94d366-3ea8-407f-99ce-f8a439f6b1dd",
   "metadata": {},
   "outputs": [
    {
     "data": {
      "text/html": [
       "<div>\n",
       "<style scoped>\n",
       "    .dataframe tbody tr th:only-of-type {\n",
       "        vertical-align: middle;\n",
       "    }\n",
       "\n",
       "    .dataframe tbody tr th {\n",
       "        vertical-align: top;\n",
       "    }\n",
       "\n",
       "    .dataframe thead th {\n",
       "        text-align: right;\n",
       "    }\n",
       "</style>\n",
       "<table border=\"1\" class=\"dataframe\">\n",
       "  <thead>\n",
       "    <tr style=\"text-align: right;\">\n",
       "      <th></th>\n",
       "      <th>client_id</th>\n",
       "      <th>product</th>\n",
       "      <th>response</th>\n",
       "      <th>manager_id</th>\n",
       "    </tr>\n",
       "  </thead>\n",
       "  <tbody>\n",
       "    <tr>\n",
       "      <th>0</th>\n",
       "      <td>owOyJEIst9</td>\n",
       "      <td>Кредит</td>\n",
       "      <td>Согласие</td>\n",
       "      <td>CM_EiBeeRMhdA</td>\n",
       "    </tr>\n",
       "  </tbody>\n",
       "</table>\n",
       "</div>"
      ],
      "text/plain": [
       "    client_id product  response     manager_id\n",
       "0  owOyJEIst9  Кредит  Согласие  CM_EiBeeRMhdA"
      ]
     },
     "execution_count": 5,
     "metadata": {},
     "output_type": "execute_result"
    }
   ],
   "source": [
    "campaign.head(1)"
   ]
  },
  {
   "cell_type": "code",
   "execution_count": null,
   "id": "01e8cbbc-77a0-4466-a52e-0e53d0c82d01",
   "metadata": {},
   "outputs": [],
   "source": []
  },
  {
   "cell_type": "code",
   "execution_count": null,
   "id": "3669f40e-972f-4ac9-952c-ef6c84f0efad",
   "metadata": {},
   "outputs": [],
   "source": []
  }
 ],
 "metadata": {
  "kernelspec": {
   "display_name": "Python 3 (ipykernel)",
   "language": "python",
   "name": "python3"
  },
  "language_info": {
   "codemirror_mode": {
    "name": "ipython",
    "version": 3
   },
   "file_extension": ".py",
   "mimetype": "text/x-python",
   "name": "python",
   "nbconvert_exporter": "python",
   "pygments_lexer": "ipython3",
   "version": "3.9.13"
  }
 },
 "nbformat": 4,
 "nbformat_minor": 5
}
